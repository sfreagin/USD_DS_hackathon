{
 "cells": [
  {
   "cell_type": "code",
   "execution_count": 1,
   "metadata": {},
   "outputs": [],
   "source": [
    "import pandas as pd\n",
    "import numpy as np\n",
    "pd.set_option('display.max_columns', None)\n",
    "\n",
    "import matplotlib.pyplot as plt\n",
    "import seaborn as sns"
   ]
  },
  {
   "cell_type": "code",
   "execution_count": 2,
   "metadata": {},
   "outputs": [],
   "source": [
    "train_df = pd.read_csv('data/fars_train.csv')\n",
    "test_df = pd.read_csv('data/fars_test.csv')"
   ]
  },
  {
   "cell_type": "code",
   "execution_count": 3,
   "metadata": {},
   "outputs": [
    {
     "name": "stdout",
     "output_type": "stream",
     "text": [
      "<class 'pandas.core.frame.DataFrame'>\n",
      "RangeIndex: 45286 entries, 0 to 45285\n",
      "Data columns (total 39 columns):\n",
      " #   Column         Non-Null Count  Dtype  \n",
      "---  ------         --------------  -----  \n",
      " 0   u_id           45286 non-null  int64  \n",
      " 1   fatals         45286 non-null  int64  \n",
      " 2   a_ct           45286 non-null  object \n",
      " 3   a_ped_f        45286 non-null  object \n",
      " 4   a_pedal_f      45286 non-null  object \n",
      " 5   a_roll         45286 non-null  object \n",
      " 6   a_hr           45286 non-null  object \n",
      " 7   a_polpur       45286 non-null  object \n",
      " 8   month          45286 non-null  int64  \n",
      " 9   day            45286 non-null  int64  \n",
      " 10  day_week       45286 non-null  object \n",
      " 11  hour           44796 non-null  float64\n",
      " 12  minute         44795 non-null  float64\n",
      " 13  a_dow_type     45286 non-null  object \n",
      " 14  a_tod_type     44796 non-null  object \n",
      " 15  state          45286 non-null  object \n",
      " 16  a_region       45286 non-null  object \n",
      " 17  a_ru           45086 non-null  object \n",
      " 18  a_inter        45042 non-null  object \n",
      " 19  a_intsec       45216 non-null  object \n",
      " 20  a_roadfc       45286 non-null  object \n",
      " 21  a_junc         45216 non-null  object \n",
      " 22  a_relrd        45286 non-null  object \n",
      " 23  age            45286 non-null  int64  \n",
      " 24  permvit        45286 non-null  int64  \n",
      " 25  pernotmvit     45286 non-null  int64  \n",
      " 26  a_ped          45286 non-null  object \n",
      " 27  mod_year       45009 non-null  float64\n",
      " 28  a_body         45286 non-null  object \n",
      " 29  owner          45028 non-null  object \n",
      " 30  deaths         45286 non-null  int64  \n",
      " 31  numoccs        44855 non-null  float64\n",
      " 32  impact1        42060 non-null  object \n",
      " 33  deformed       41981 non-null  object \n",
      " 34  ve_forms       45286 non-null  int64  \n",
      " 35  ve_total       45286 non-null  int64  \n",
      " 36  weather        42419 non-null  object \n",
      " 37  lgt_cond       45253 non-null  object \n",
      " 38  driver_factor  45286 non-null  object \n",
      "dtypes: float64(4), int64(10), object(25)\n",
      "memory usage: 13.5+ MB\n"
     ]
    }
   ],
   "source": [
    "train_df.info()"
   ]
  },
  {
   "cell_type": "code",
   "execution_count": 141,
   "metadata": {},
   "outputs": [
    {
     "data": {
      "text/html": [
       "<div>\n",
       "<style scoped>\n",
       "    .dataframe tbody tr th:only-of-type {\n",
       "        vertical-align: middle;\n",
       "    }\n",
       "\n",
       "    .dataframe tbody tr th {\n",
       "        vertical-align: top;\n",
       "    }\n",
       "\n",
       "    .dataframe thead th {\n",
       "        text-align: right;\n",
       "    }\n",
       "</style>\n",
       "<table border=\"1\" class=\"dataframe\">\n",
       "  <thead>\n",
       "    <tr style=\"text-align: right;\">\n",
       "      <th></th>\n",
       "      <th>u_id</th>\n",
       "      <th>fatals</th>\n",
       "      <th>a_ct</th>\n",
       "      <th>a_ped_f</th>\n",
       "      <th>a_pedal_f</th>\n",
       "      <th>a_roll</th>\n",
       "      <th>a_hr</th>\n",
       "      <th>a_polpur</th>\n",
       "      <th>month</th>\n",
       "      <th>day</th>\n",
       "      <th>day_week</th>\n",
       "      <th>hour</th>\n",
       "      <th>minute</th>\n",
       "      <th>a_dow_type</th>\n",
       "      <th>a_tod_type</th>\n",
       "      <th>state</th>\n",
       "      <th>a_region</th>\n",
       "      <th>a_ru</th>\n",
       "      <th>a_inter</th>\n",
       "      <th>a_intsec</th>\n",
       "      <th>a_roadfc</th>\n",
       "      <th>a_junc</th>\n",
       "      <th>a_relrd</th>\n",
       "      <th>age</th>\n",
       "      <th>permvit</th>\n",
       "      <th>pernotmvit</th>\n",
       "      <th>a_ped</th>\n",
       "      <th>mod_year</th>\n",
       "      <th>a_body</th>\n",
       "      <th>owner</th>\n",
       "      <th>deaths</th>\n",
       "      <th>numoccs</th>\n",
       "      <th>impact1</th>\n",
       "      <th>deformed</th>\n",
       "      <th>ve_forms</th>\n",
       "      <th>ve_total</th>\n",
       "      <th>weather</th>\n",
       "      <th>lgt_cond</th>\n",
       "      <th>driver_factor</th>\n",
       "    </tr>\n",
       "  </thead>\n",
       "  <tbody>\n",
       "    <tr>\n",
       "      <th>0</th>\n",
       "      <td>32083</td>\n",
       "      <td>1</td>\n",
       "      <td>Single-Vehicle Crash</td>\n",
       "      <td>Other Crash</td>\n",
       "      <td>Other Crash</td>\n",
       "      <td>Other Crash</td>\n",
       "      <td>No - Hit and Run</td>\n",
       "      <td>Other Crash</td>\n",
       "      <td>10</td>\n",
       "      <td>2</td>\n",
       "      <td>tue</td>\n",
       "      <td>3.0</td>\n",
       "      <td>10.0</td>\n",
       "      <td>Weekday</td>\n",
       "      <td>Nighttime</td>\n",
       "      <td>Georgia</td>\n",
       "      <td>Alabama, Florida, Georgia, South Carolina, Ten...</td>\n",
       "      <td>Rural</td>\n",
       "      <td>Non-Interstate</td>\n",
       "      <td>Non-Intersection</td>\n",
       "      <td>Minor Collector</td>\n",
       "      <td>Non-Junction</td>\n",
       "      <td>Off Roadway/Other</td>\n",
       "      <td>62</td>\n",
       "      <td>1</td>\n",
       "      <td>0</td>\n",
       "      <td>no</td>\n",
       "      <td>2003.0</td>\n",
       "      <td>Light Conventional Trucks</td>\n",
       "      <td>Driver (in this crash) Was Registered Owner</td>\n",
       "      <td>1</td>\n",
       "      <td>1.0</td>\n",
       "      <td>Clockpoint 12</td>\n",
       "      <td>Disabling damage</td>\n",
       "      <td>1</td>\n",
       "      <td>1</td>\n",
       "      <td>Clear</td>\n",
       "      <td>Dark - not lighted</td>\n",
       "      <td>other</td>\n",
       "    </tr>\n",
       "    <tr>\n",
       "      <th>1</th>\n",
       "      <td>55073</td>\n",
       "      <td>1</td>\n",
       "      <td>Single-Vehicle Crash</td>\n",
       "      <td>Other Crash</td>\n",
       "      <td>Other Crash</td>\n",
       "      <td>Other Crash</td>\n",
       "      <td>No - Hit and Run</td>\n",
       "      <td>Other Crash</td>\n",
       "      <td>6</td>\n",
       "      <td>21</td>\n",
       "      <td>wed</td>\n",
       "      <td>8.0</td>\n",
       "      <td>45.0</td>\n",
       "      <td>Weekday</td>\n",
       "      <td>Daytime</td>\n",
       "      <td>Arkansas</td>\n",
       "      <td>Arkansas, Iowa, Kansas, Missouri, Nebraska</td>\n",
       "      <td>Rural</td>\n",
       "      <td>Non-Interstate</td>\n",
       "      <td>Non-Intersection</td>\n",
       "      <td>Minor Arterial</td>\n",
       "      <td>Non-Junction</td>\n",
       "      <td>Off Roadway/Other</td>\n",
       "      <td>40</td>\n",
       "      <td>1</td>\n",
       "      <td>0</td>\n",
       "      <td>no</td>\n",
       "      <td>2002.0</td>\n",
       "      <td>Utility Vehicles</td>\n",
       "      <td>Driver (in this crash) Not Registered Owner (o...</td>\n",
       "      <td>1</td>\n",
       "      <td>1.0</td>\n",
       "      <td>Clockpoint 1</td>\n",
       "      <td>Disabling damage</td>\n",
       "      <td>1</td>\n",
       "      <td>1</td>\n",
       "      <td>Clear</td>\n",
       "      <td>Daylight</td>\n",
       "      <td>speeding_driver_involved</td>\n",
       "    </tr>\n",
       "    <tr>\n",
       "      <th>2</th>\n",
       "      <td>7458</td>\n",
       "      <td>1</td>\n",
       "      <td>Single-Vehicle Crash</td>\n",
       "      <td>Other Crash</td>\n",
       "      <td>Other Crash</td>\n",
       "      <td>Other Crash</td>\n",
       "      <td>No - Hit and Run</td>\n",
       "      <td>Other Crash</td>\n",
       "      <td>7</td>\n",
       "      <td>14</td>\n",
       "      <td>thu</td>\n",
       "      <td>21.0</td>\n",
       "      <td>45.0</td>\n",
       "      <td>Weekday</td>\n",
       "      <td>Nighttime</td>\n",
       "      <td>Washington</td>\n",
       "      <td>Alaska, Idaho, Montana, Oregon, Washington</td>\n",
       "      <td>Rural</td>\n",
       "      <td>Non-Interstate</td>\n",
       "      <td>Non-Intersection</td>\n",
       "      <td>Major Collector</td>\n",
       "      <td>Non-Junction</td>\n",
       "      <td>On Roadway</td>\n",
       "      <td>26</td>\n",
       "      <td>1</td>\n",
       "      <td>1</td>\n",
       "      <td>no</td>\n",
       "      <td>2003.0</td>\n",
       "      <td>Light Conventional Trucks</td>\n",
       "      <td>Driver (in this crash) Was Registered Owner</td>\n",
       "      <td>0</td>\n",
       "      <td>1.0</td>\n",
       "      <td>Clockpoint 12</td>\n",
       "      <td>NaN</td>\n",
       "      <td>1</td>\n",
       "      <td>1</td>\n",
       "      <td>Clear</td>\n",
       "      <td>Daylight</td>\n",
       "      <td>other</td>\n",
       "    </tr>\n",
       "  </tbody>\n",
       "</table>\n",
       "</div>"
      ],
      "text/plain": [
       "    u_id  fatals                  a_ct      a_ped_f    a_pedal_f       a_roll  \\\n",
       "0  32083       1  Single-Vehicle Crash  Other Crash  Other Crash  Other Crash   \n",
       "1  55073       1  Single-Vehicle Crash  Other Crash  Other Crash  Other Crash   \n",
       "2   7458       1  Single-Vehicle Crash  Other Crash  Other Crash  Other Crash   \n",
       "\n",
       "               a_hr     a_polpur  month  day day_week  hour  minute  \\\n",
       "0  No - Hit and Run  Other Crash     10    2      tue   3.0    10.0   \n",
       "1  No - Hit and Run  Other Crash      6   21      wed   8.0    45.0   \n",
       "2  No - Hit and Run  Other Crash      7   14      thu  21.0    45.0   \n",
       "\n",
       "  a_dow_type a_tod_type       state  \\\n",
       "0    Weekday  Nighttime     Georgia   \n",
       "1    Weekday    Daytime    Arkansas   \n",
       "2    Weekday  Nighttime  Washington   \n",
       "\n",
       "                                            a_region   a_ru         a_inter  \\\n",
       "0  Alabama, Florida, Georgia, South Carolina, Ten...  Rural  Non-Interstate   \n",
       "1         Arkansas, Iowa, Kansas, Missouri, Nebraska  Rural  Non-Interstate   \n",
       "2         Alaska, Idaho, Montana, Oregon, Washington  Rural  Non-Interstate   \n",
       "\n",
       "           a_intsec         a_roadfc        a_junc            a_relrd  age  \\\n",
       "0  Non-Intersection  Minor Collector  Non-Junction  Off Roadway/Other   62   \n",
       "1  Non-Intersection   Minor Arterial  Non-Junction  Off Roadway/Other   40   \n",
       "2  Non-Intersection  Major Collector  Non-Junction         On Roadway   26   \n",
       "\n",
       "   permvit  pernotmvit a_ped  mod_year                     a_body  \\\n",
       "0        1           0    no    2003.0  Light Conventional Trucks   \n",
       "1        1           0    no    2002.0           Utility Vehicles   \n",
       "2        1           1    no    2003.0  Light Conventional Trucks   \n",
       "\n",
       "                                               owner  deaths  numoccs  \\\n",
       "0        Driver (in this crash) Was Registered Owner       1      1.0   \n",
       "1  Driver (in this crash) Not Registered Owner (o...       1      1.0   \n",
       "2        Driver (in this crash) Was Registered Owner       0      1.0   \n",
       "\n",
       "         impact1          deformed  ve_forms  ve_total weather  \\\n",
       "0  Clockpoint 12  Disabling damage         1         1   Clear   \n",
       "1   Clockpoint 1  Disabling damage         1         1   Clear   \n",
       "2  Clockpoint 12               NaN         1         1   Clear   \n",
       "\n",
       "             lgt_cond             driver_factor  \n",
       "0  Dark - not lighted                     other  \n",
       "1            Daylight  speeding_driver_involved  \n",
       "2            Daylight                     other  "
      ]
     },
     "execution_count": 141,
     "metadata": {},
     "output_type": "execute_result"
    }
   ],
   "source": [
    "train_df.head(3)"
   ]
  },
  {
   "cell_type": "markdown",
   "metadata": {},
   "source": [
    "## Quickly reviewing all of the data variables\n",
    "\n",
    "We want to establish a baseline distribution for the target variable, and then look for predictor variables which indicate significant changes when categorized by target category"
   ]
  },
  {
   "cell_type": "markdown",
   "metadata": {},
   "source": [
    "### `driver_factor` - THIS IS THE TARGET VARIABLE\n",
    "\n",
    "The baseline expectation is:\n",
    "* `other` 57%\n",
    "* `drunk_driver_involved` 26%\n",
    "* `speeding_driver_involved` 17%"
   ]
  },
  {
   "cell_type": "code",
   "execution_count": 140,
   "metadata": {},
   "outputs": [
    {
     "data": {
      "image/png": "[encoded data removed]",
      "text/plain": [
       "<Figure size 432x288 with 1 Axes>"
      ]
     },
     "metadata": {
      "needs_background": "light"
     },
     "output_type": "display_data"
    }
   ],
   "source": [
    "#plt.figure(figsize=(12,3))\n",
    "sns.countplot(x=train_df['driver_factor'])\n",
    "plt.xticks(rotation=60);"
   ]
  },
  {
   "cell_type": "code",
   "execution_count": 121,
   "metadata": {},
   "outputs": [
    {
     "data": {
      "text/plain": [
       "other                       0.571634\n",
       "drunk_driver_involved       0.261957\n",
       "speeding_driver_involved    0.166409\n",
       "Name: driver_factor, dtype: float64"
      ]
     },
     "execution_count": 121,
     "metadata": {},
     "output_type": "execute_result"
    }
   ],
   "source": [
    "train_df['driver_factor'].value_counts(normalize=True)"
   ]
  },
  {
   "cell_type": "markdown",
   "metadata": {},
   "source": [
    "### `fatals` - number of fatalities in the event"
   ]
  },
  {
   "cell_type": "code",
   "execution_count": 59,
   "metadata": {},
   "outputs": [
    {
     "data": {
      "text/plain": [
       "<AxesSubplot:xlabel='fatals', ylabel='Count'>"
      ]
     },
     "execution_count": 59,
     "metadata": {},
     "output_type": "execute_result"
    },
    {
     "data": {
      "image/png": "[encoded data removed]",
      "text/plain": [
       "<Figure size 432x288 with 1 Axes>"
      ]
     },
     "metadata": {
      "needs_background": "light"
     },
     "output_type": "display_data"
    }
   ],
   "source": [
    "sns.histplot(train_df['fatals'],bins=20)"
   ]
  },
  {
   "cell_type": "markdown",
   "metadata": {},
   "source": [
    "### `a_ct` - type of crash: single vehicle, two-vehicle, more than 2 vehicle\n",
    "\n",
    "Ignore this variable -- it only has one category"
   ]
  },
  {
   "cell_type": "code",
   "execution_count": 122,
   "metadata": {},
   "outputs": [
    {
     "data": {
      "image/png": "[encoded data removed]",
      "text/plain": [
       "<Figure size 432x288 with 1 Axes>"
      ]
     },
     "metadata": {
      "needs_background": "light"
     },
     "output_type": "display_data"
    }
   ],
   "source": [
    "sns.countplot(x=train_df['a_ct'],hue=train_df['driver_factor']);"
   ]
  },
  {
   "cell_type": "code",
   "execution_count": 123,
   "metadata": {},
   "outputs": [
    {
     "data": {
      "text/plain": [
       "Single-Vehicle Crash    45286\n",
       "Name: a_ct, dtype: int64"
      ]
     },
     "execution_count": 123,
     "metadata": {},
     "output_type": "execute_result"
    }
   ],
   "source": [
    "train_df['a_ct'].value_counts()"
   ]
  },
  {
   "cell_type": "markdown",
   "metadata": {},
   "source": [
    "### `a_ped_f` - whether pedestrian fatality is involved in crash\n",
    "\n",
    "Keep this variable"
   ]
  },
  {
   "cell_type": "code",
   "execution_count": 124,
   "metadata": {},
   "outputs": [
    {
     "data": {
      "image/png": "[encoded data removed]",
      "text/plain": [
       "<Figure size 432x288 with 1 Axes>"
      ]
     },
     "metadata": {
      "needs_background": "light"
     },
     "output_type": "display_data"
    }
   ],
   "source": [
    "sns.countplot(x=train_df['a_ped_f'],hue=train_df['driver_factor']);"
   ]
  },
  {
   "cell_type": "code",
   "execution_count": 129,
   "metadata": {},
   "outputs": [
    {
     "data": {
      "text/html": [
       "<div>\n",
       "<style scoped>\n",
       "    .dataframe tbody tr th:only-of-type {\n",
       "        vertical-align: middle;\n",
       "    }\n",
       "\n",
       "    .dataframe tbody tr th {\n",
       "        vertical-align: top;\n",
       "    }\n",
       "\n",
       "    .dataframe thead th {\n",
       "        text-align: right;\n",
       "    }\n",
       "</style>\n",
       "<table border=\"1\" class=\"dataframe\">\n",
       "  <thead>\n",
       "    <tr style=\"text-align: right;\">\n",
       "      <th></th>\n",
       "      <th></th>\n",
       "      <th>driver_factor</th>\n",
       "    </tr>\n",
       "    <tr>\n",
       "      <th>a_ped_f</th>\n",
       "      <th>driver_factor</th>\n",
       "      <th></th>\n",
       "    </tr>\n",
       "  </thead>\n",
       "  <tbody>\n",
       "    <tr>\n",
       "      <th rowspan=\"3\" valign=\"top\">Other Crash</th>\n",
       "      <th>other</th>\n",
       "      <td>0.460086</td>\n",
       "    </tr>\n",
       "    <tr>\n",
       "      <th>drunk_driver_involved</th>\n",
       "      <td>0.334350</td>\n",
       "    </tr>\n",
       "    <tr>\n",
       "      <th>speeding_driver_involved</th>\n",
       "      <td>0.205565</td>\n",
       "    </tr>\n",
       "    <tr>\n",
       "      <th rowspan=\"3\" valign=\"top\">Pedestrian Fatality Involved Crash</th>\n",
       "      <th>other</th>\n",
       "      <td>0.899313</td>\n",
       "    </tr>\n",
       "    <tr>\n",
       "      <th>speeding_driver_involved</th>\n",
       "      <td>0.051387</td>\n",
       "    </tr>\n",
       "    <tr>\n",
       "      <th>drunk_driver_involved</th>\n",
       "      <td>0.049300</td>\n",
       "    </tr>\n",
       "  </tbody>\n",
       "</table>\n",
       "</div>"
      ],
      "text/plain": [
       "                                                             driver_factor\n",
       "a_ped_f                            driver_factor                          \n",
       "Other Crash                        other                          0.460086\n",
       "                                   drunk_driver_involved          0.334350\n",
       "                                   speeding_driver_involved       0.205565\n",
       "Pedestrian Fatality Involved Crash other                          0.899313\n",
       "                                   speeding_driver_involved       0.051387\n",
       "                                   drunk_driver_involved          0.049300"
      ]
     },
     "execution_count": 129,
     "metadata": {},
     "output_type": "execute_result"
    }
   ],
   "source": [
    "pd.DataFrame(train_df.groupby(\"a_ped_f\")['driver_factor'].value_counts(normalize=True))"
   ]
  },
  {
   "cell_type": "markdown",
   "metadata": {},
   "source": [
    "### `a_pedal_f` - whether a pedalcyclist is involved\n",
    "\n",
    "I think we should drop this variable because it's so imbalanced, 96% to 4%"
   ]
  },
  {
   "cell_type": "code",
   "execution_count": 130,
   "metadata": {},
   "outputs": [
    {
     "data": {
      "image/png": "[encoded data removed]",
      "text/plain": [
       "<Figure size 432x288 with 1 Axes>"
      ]
     },
     "metadata": {
      "needs_background": "light"
     },
     "output_type": "display_data"
    }
   ],
   "source": [
    "sns.countplot(x=train_df['a_pedal_f'],hue=train_df['driver_factor']);"
   ]
  },
  {
   "cell_type": "code",
   "execution_count": 142,
   "metadata": {},
   "outputs": [
    {
     "data": {
      "text/html": [
       "<div>\n",
       "<style scoped>\n",
       "    .dataframe tbody tr th:only-of-type {\n",
       "        vertical-align: middle;\n",
       "    }\n",
       "\n",
       "    .dataframe tbody tr th {\n",
       "        vertical-align: top;\n",
       "    }\n",
       "\n",
       "    .dataframe thead th {\n",
       "        text-align: right;\n",
       "    }\n",
       "</style>\n",
       "<table border=\"1\" class=\"dataframe\">\n",
       "  <thead>\n",
       "    <tr style=\"text-align: right;\">\n",
       "      <th></th>\n",
       "      <th></th>\n",
       "      <th>driver_factor</th>\n",
       "    </tr>\n",
       "    <tr>\n",
       "      <th>a_pedal_f</th>\n",
       "      <th>driver_factor</th>\n",
       "      <th></th>\n",
       "    </tr>\n",
       "  </thead>\n",
       "  <tbody>\n",
       "    <tr>\n",
       "      <th rowspan=\"3\" valign=\"top\">Other Crash</th>\n",
       "      <th>other</th>\n",
       "      <td>0.559779</td>\n",
       "    </tr>\n",
       "    <tr>\n",
       "      <th>drunk_driver_involved</th>\n",
       "      <td>0.269750</td>\n",
       "    </tr>\n",
       "    <tr>\n",
       "      <th>speeding_driver_involved</th>\n",
       "      <td>0.170471</td>\n",
       "    </tr>\n",
       "    <tr>\n",
       "      <th rowspan=\"3\" valign=\"top\">Pedalcyclist Fatality Involved Crash</th>\n",
       "      <th>other</th>\n",
       "      <td>0.867968</td>\n",
       "    </tr>\n",
       "    <tr>\n",
       "      <th>drunk_driver_involved</th>\n",
       "      <td>0.067164</td>\n",
       "    </tr>\n",
       "    <tr>\n",
       "      <th>speeding_driver_involved</th>\n",
       "      <td>0.064868</td>\n",
       "    </tr>\n",
       "  </tbody>\n",
       "</table>\n",
       "</div>"
      ],
      "text/plain": [
       "                                                               driver_factor\n",
       "a_pedal_f                            driver_factor                          \n",
       "Other Crash                          other                          0.559779\n",
       "                                     drunk_driver_involved          0.269750\n",
       "                                     speeding_driver_involved       0.170471\n",
       "Pedalcyclist Fatality Involved Crash other                          0.867968\n",
       "                                     drunk_driver_involved          0.067164\n",
       "                                     speeding_driver_involved       0.064868"
      ]
     },
     "execution_count": 142,
     "metadata": {},
     "output_type": "execute_result"
    }
   ],
   "source": [
    "pd.DataFrame(train_df.groupby(\"a_pedal_f\")['driver_factor'].value_counts(normalize=True))"
   ]
  },
  {
   "cell_type": "code",
   "execution_count": 144,
   "metadata": {},
   "outputs": [
    {
     "data": {
      "text/plain": [
       "Other Crash                             0.961533\n",
       "Pedalcyclist Fatality Involved Crash    0.038467\n",
       "Name: a_pedal_f, dtype: float64"
      ]
     },
     "execution_count": 144,
     "metadata": {},
     "output_type": "execute_result"
    }
   ],
   "source": [
    "train_df['a_pedal_f'].value_counts(normalize=True)"
   ]
  },
  {
   "cell_type": "markdown",
   "metadata": {},
   "source": [
    "### `a_roll` - whether vehicle involved in rollover crash\n",
    "\n",
    "Keep this variable -- rollovers seem to indicate that drinking and/or speeding is a likely factor"
   ]
  },
  {
   "cell_type": "code",
   "execution_count": 132,
   "metadata": {},
   "outputs": [
    {
     "data": {
      "image/png": "[encoded data removed]",
      "text/plain": [
       "<Figure size 432x288 with 1 Axes>"
      ]
     },
     "metadata": {
      "needs_background": "light"
     },
     "output_type": "display_data"
    }
   ],
   "source": [
    "sns.countplot(x=train_df['a_roll'],hue=train_df['driver_factor']);"
   ]
  },
  {
   "cell_type": "code",
   "execution_count": 134,
   "metadata": {},
   "outputs": [
    {
     "data": {
      "text/html": [
       "<div>\n",
       "<style scoped>\n",
       "    .dataframe tbody tr th:only-of-type {\n",
       "        vertical-align: middle;\n",
       "    }\n",
       "\n",
       "    .dataframe tbody tr th {\n",
       "        vertical-align: top;\n",
       "    }\n",
       "\n",
       "    .dataframe thead th {\n",
       "        text-align: right;\n",
       "    }\n",
       "</style>\n",
       "<table border=\"1\" class=\"dataframe\">\n",
       "  <thead>\n",
       "    <tr style=\"text-align: right;\">\n",
       "      <th></th>\n",
       "      <th></th>\n",
       "      <th>driver_factor</th>\n",
       "    </tr>\n",
       "    <tr>\n",
       "      <th>a_roll</th>\n",
       "      <th>driver_factor</th>\n",
       "      <th></th>\n",
       "    </tr>\n",
       "  </thead>\n",
       "  <tbody>\n",
       "    <tr>\n",
       "      <th rowspan=\"3\" valign=\"top\">Other Crash</th>\n",
       "      <th>other</th>\n",
       "      <td>0.643574</td>\n",
       "    </tr>\n",
       "    <tr>\n",
       "      <th>drunk_driver_involved</th>\n",
       "      <td>0.211348</td>\n",
       "    </tr>\n",
       "    <tr>\n",
       "      <th>speeding_driver_involved</th>\n",
       "      <td>0.145078</td>\n",
       "    </tr>\n",
       "    <tr>\n",
       "      <th rowspan=\"3\" valign=\"top\">Rollover Involved Crash</th>\n",
       "      <th>other</th>\n",
       "      <td>0.405824</td>\n",
       "    </tr>\n",
       "    <tr>\n",
       "      <th>drunk_driver_involved</th>\n",
       "      <td>0.378603</td>\n",
       "    </tr>\n",
       "    <tr>\n",
       "      <th>speeding_driver_involved</th>\n",
       "      <td>0.215573</td>\n",
       "    </tr>\n",
       "  </tbody>\n",
       "</table>\n",
       "</div>"
      ],
      "text/plain": [
       "                                                  driver_factor\n",
       "a_roll                  driver_factor                          \n",
       "Other Crash             other                          0.643574\n",
       "                        drunk_driver_involved          0.211348\n",
       "                        speeding_driver_involved       0.145078\n",
       "Rollover Involved Crash other                          0.405824\n",
       "                        drunk_driver_involved          0.378603\n",
       "                        speeding_driver_involved       0.215573"
      ]
     },
     "execution_count": 134,
     "metadata": {},
     "output_type": "execute_result"
    }
   ],
   "source": [
    "pd.DataFrame(train_df.groupby(\"a_roll\")['driver_factor'].value_counts(normalize=True))"
   ]
  },
  {
   "cell_type": "markdown",
   "metadata": {},
   "source": [
    "### `a_hr` - whether this is a hit-and-run\n",
    "\n",
    "Drop this, the classes are imbalanced 97% to 3%"
   ]
  },
  {
   "cell_type": "code",
   "execution_count": 135,
   "metadata": {},
   "outputs": [
    {
     "data": {
      "image/png": "[encoded data removed]",
      "text/plain": [
       "<Figure size 432x288 with 1 Axes>"
      ]
     },
     "metadata": {
      "needs_background": "light"
     },
     "output_type": "display_data"
    }
   ],
   "source": [
    "sns.countplot(x=train_df['a_hr'],hue=train_df['driver_factor']);"
   ]
  },
  {
   "cell_type": "code",
   "execution_count": 136,
   "metadata": {},
   "outputs": [
    {
     "data": {
      "text/html": [
       "<div>\n",
       "<style scoped>\n",
       "    .dataframe tbody tr th:only-of-type {\n",
       "        vertical-align: middle;\n",
       "    }\n",
       "\n",
       "    .dataframe tbody tr th {\n",
       "        vertical-align: top;\n",
       "    }\n",
       "\n",
       "    .dataframe thead th {\n",
       "        text-align: right;\n",
       "    }\n",
       "</style>\n",
       "<table border=\"1\" class=\"dataframe\">\n",
       "  <thead>\n",
       "    <tr style=\"text-align: right;\">\n",
       "      <th></th>\n",
       "      <th></th>\n",
       "      <th>driver_factor</th>\n",
       "    </tr>\n",
       "    <tr>\n",
       "      <th>a_hr</th>\n",
       "      <th>driver_factor</th>\n",
       "      <th></th>\n",
       "    </tr>\n",
       "  </thead>\n",
       "  <tbody>\n",
       "    <tr>\n",
       "      <th rowspan=\"3\" valign=\"top\">No - Hit and Run</th>\n",
       "      <th>other</th>\n",
       "      <td>0.567095</td>\n",
       "    </tr>\n",
       "    <tr>\n",
       "      <th>drunk_driver_involved</th>\n",
       "      <td>0.266163</td>\n",
       "    </tr>\n",
       "    <tr>\n",
       "      <th>speeding_driver_involved</th>\n",
       "      <td>0.166743</td>\n",
       "    </tr>\n",
       "    <tr>\n",
       "      <th rowspan=\"3\" valign=\"top\">Yes - Hit and Run</th>\n",
       "      <th>other</th>\n",
       "      <td>0.703042</td>\n",
       "    </tr>\n",
       "    <tr>\n",
       "      <th>speeding_driver_involved</th>\n",
       "      <td>0.156746</td>\n",
       "    </tr>\n",
       "    <tr>\n",
       "      <th>drunk_driver_involved</th>\n",
       "      <td>0.140212</td>\n",
       "    </tr>\n",
       "  </tbody>\n",
       "</table>\n",
       "</div>"
      ],
      "text/plain": [
       "                                            driver_factor\n",
       "a_hr              driver_factor                          \n",
       "No - Hit and Run  other                          0.567095\n",
       "                  drunk_driver_involved          0.266163\n",
       "                  speeding_driver_involved       0.166743\n",
       "Yes - Hit and Run other                          0.703042\n",
       "                  speeding_driver_involved       0.156746\n",
       "                  drunk_driver_involved          0.140212"
      ]
     },
     "execution_count": 136,
     "metadata": {},
     "output_type": "execute_result"
    }
   ],
   "source": [
    "pd.DataFrame(train_df.groupby(\"a_hr\")['driver_factor'].value_counts(normalize=True))"
   ]
  },
  {
   "cell_type": "code",
   "execution_count": 146,
   "metadata": {},
   "outputs": [
    {
     "data": {
      "text/plain": [
       "No - Hit and Run     0.966612\n",
       "Yes - Hit and Run    0.033388\n",
       "Name: a_hr, dtype: float64"
      ]
     },
     "execution_count": 146,
     "metadata": {},
     "output_type": "execute_result"
    }
   ],
   "source": [
    "train_df['a_hr'].value_counts(normalize=True)"
   ]
  },
  {
   "cell_type": "markdown",
   "metadata": {},
   "source": [
    "### `a_polpur` - whether police pursuit is involved\n",
    "\n",
    "Drop this, 99% to 1% class imbalance"
   ]
  },
  {
   "cell_type": "code",
   "execution_count": 137,
   "metadata": {},
   "outputs": [
    {
     "data": {
      "image/png": "[encoded data removed]",
      "text/plain": [
       "<Figure size 432x288 with 1 Axes>"
      ]
     },
     "metadata": {
      "needs_background": "light"
     },
     "output_type": "display_data"
    }
   ],
   "source": [
    "sns.countplot(x=train_df['a_polpur'],hue=train_df['driver_factor']);"
   ]
  },
  {
   "cell_type": "code",
   "execution_count": 138,
   "metadata": {},
   "outputs": [
    {
     "data": {
      "text/html": [
       "<div>\n",
       "<style scoped>\n",
       "    .dataframe tbody tr th:only-of-type {\n",
       "        vertical-align: middle;\n",
       "    }\n",
       "\n",
       "    .dataframe tbody tr th {\n",
       "        vertical-align: top;\n",
       "    }\n",
       "\n",
       "    .dataframe thead th {\n",
       "        text-align: right;\n",
       "    }\n",
       "</style>\n",
       "<table border=\"1\" class=\"dataframe\">\n",
       "  <thead>\n",
       "    <tr style=\"text-align: right;\">\n",
       "      <th></th>\n",
       "      <th></th>\n",
       "      <th>driver_factor</th>\n",
       "    </tr>\n",
       "    <tr>\n",
       "      <th>a_polpur</th>\n",
       "      <th>driver_factor</th>\n",
       "      <th></th>\n",
       "    </tr>\n",
       "  </thead>\n",
       "  <tbody>\n",
       "    <tr>\n",
       "      <th rowspan=\"3\" valign=\"top\">Other Crash</th>\n",
       "      <th>other</th>\n",
       "      <td>0.576134</td>\n",
       "    </tr>\n",
       "    <tr>\n",
       "      <th>drunk_driver_involved</th>\n",
       "      <td>0.261550</td>\n",
       "    </tr>\n",
       "    <tr>\n",
       "      <th>speeding_driver_involved</th>\n",
       "      <td>0.162316</td>\n",
       "    </tr>\n",
       "    <tr>\n",
       "      <th rowspan=\"3\" valign=\"top\">Police Pursuit Involved Crash</th>\n",
       "      <th>speeding_driver_involved</th>\n",
       "      <td>0.530815</td>\n",
       "    </tr>\n",
       "    <tr>\n",
       "      <th>drunk_driver_involved</th>\n",
       "      <td>0.298211</td>\n",
       "    </tr>\n",
       "    <tr>\n",
       "      <th>other</th>\n",
       "      <td>0.170974</td>\n",
       "    </tr>\n",
       "  </tbody>\n",
       "</table>\n",
       "</div>"
      ],
      "text/plain": [
       "                                                        driver_factor\n",
       "a_polpur                      driver_factor                          \n",
       "Other Crash                   other                          0.576134\n",
       "                              drunk_driver_involved          0.261550\n",
       "                              speeding_driver_involved       0.162316\n",
       "Police Pursuit Involved Crash speeding_driver_involved       0.530815\n",
       "                              drunk_driver_involved          0.298211\n",
       "                              other                          0.170974"
      ]
     },
     "execution_count": 138,
     "metadata": {},
     "output_type": "execute_result"
    }
   ],
   "source": [
    "pd.DataFrame(train_df.groupby(\"a_polpur\")['driver_factor'].value_counts(normalize=True))"
   ]
  },
  {
   "cell_type": "code",
   "execution_count": 147,
   "metadata": {},
   "outputs": [
    {
     "data": {
      "text/plain": [
       "Other Crash                      0.988893\n",
       "Police Pursuit Involved Crash    0.011107\n",
       "Name: a_polpur, dtype: float64"
      ]
     },
     "execution_count": 147,
     "metadata": {},
     "output_type": "execute_result"
    }
   ],
   "source": [
    "train_df['a_polpur'].value_counts(normalize=True)"
   ]
  },
  {
   "cell_type": "markdown",
   "metadata": {},
   "source": [
    "### `month` - month of year when crash occurred\n",
    "\n",
    "Drop this"
   ]
  },
  {
   "cell_type": "code",
   "execution_count": 54,
   "metadata": {},
   "outputs": [
    {
     "data": {
      "image/png": "[encoded data removed]",
      "text/plain": [
       "<Figure size 432x288 with 1 Axes>"
      ]
     },
     "metadata": {
      "needs_background": "light"
     },
     "output_type": "display_data"
    }
   ],
   "source": [
    "sns.countplot(x=train_df['month'],hue=train_df['driver_factor']);"
   ]
  },
  {
   "cell_type": "code",
   "execution_count": 162,
   "metadata": {},
   "outputs": [
    {
     "data": {
      "text/html": [
       "<div>\n",
       "<style scoped>\n",
       "    .dataframe tbody tr th:only-of-type {\n",
       "        vertical-align: middle;\n",
       "    }\n",
       "\n",
       "    .dataframe tbody tr th {\n",
       "        vertical-align: top;\n",
       "    }\n",
       "\n",
       "    .dataframe thead th {\n",
       "        text-align: right;\n",
       "    }\n",
       "</style>\n",
       "<table border=\"1\" class=\"dataframe\">\n",
       "  <thead>\n",
       "    <tr style=\"text-align: right;\">\n",
       "      <th></th>\n",
       "      <th></th>\n",
       "      <th>driver_factor</th>\n",
       "    </tr>\n",
       "    <tr>\n",
       "      <th>month</th>\n",
       "      <th>driver_factor</th>\n",
       "      <th></th>\n",
       "    </tr>\n",
       "  </thead>\n",
       "  <tbody>\n",
       "    <tr>\n",
       "      <th rowspan=\"3\" valign=\"top\">1</th>\n",
       "      <th>other</th>\n",
       "      <td>0.583530</td>\n",
       "    </tr>\n",
       "    <tr>\n",
       "      <th>drunk_driver_involved</th>\n",
       "      <td>0.251181</td>\n",
       "    </tr>\n",
       "    <tr>\n",
       "      <th>speeding_driver_involved</th>\n",
       "      <td>0.165289</td>\n",
       "    </tr>\n",
       "    <tr>\n",
       "      <th rowspan=\"3\" valign=\"top\">2</th>\n",
       "      <th>other</th>\n",
       "      <td>0.580697</td>\n",
       "    </tr>\n",
       "    <tr>\n",
       "      <th>drunk_driver_involved</th>\n",
       "      <td>0.251838</td>\n",
       "    </tr>\n",
       "    <tr>\n",
       "      <th>speeding_driver_involved</th>\n",
       "      <td>0.167466</td>\n",
       "    </tr>\n",
       "    <tr>\n",
       "      <th rowspan=\"3\" valign=\"top\">3</th>\n",
       "      <th>other</th>\n",
       "      <td>0.566135</td>\n",
       "    </tr>\n",
       "    <tr>\n",
       "      <th>drunk_driver_involved</th>\n",
       "      <td>0.259692</td>\n",
       "    </tr>\n",
       "    <tr>\n",
       "      <th>speeding_driver_involved</th>\n",
       "      <td>0.174173</td>\n",
       "    </tr>\n",
       "    <tr>\n",
       "      <th rowspan=\"3\" valign=\"top\">4</th>\n",
       "      <th>other</th>\n",
       "      <td>0.543300</td>\n",
       "    </tr>\n",
       "    <tr>\n",
       "      <th>drunk_driver_involved</th>\n",
       "      <td>0.286883</td>\n",
       "    </tr>\n",
       "    <tr>\n",
       "      <th>speeding_driver_involved</th>\n",
       "      <td>0.169817</td>\n",
       "    </tr>\n",
       "    <tr>\n",
       "      <th rowspan=\"3\" valign=\"top\">5</th>\n",
       "      <th>other</th>\n",
       "      <td>0.552086</td>\n",
       "    </tr>\n",
       "    <tr>\n",
       "      <th>drunk_driver_involved</th>\n",
       "      <td>0.278142</td>\n",
       "    </tr>\n",
       "    <tr>\n",
       "      <th>speeding_driver_involved</th>\n",
       "      <td>0.169772</td>\n",
       "    </tr>\n",
       "    <tr>\n",
       "      <th rowspan=\"3\" valign=\"top\">6</th>\n",
       "      <th>other</th>\n",
       "      <td>0.558624</td>\n",
       "    </tr>\n",
       "    <tr>\n",
       "      <th>drunk_driver_involved</th>\n",
       "      <td>0.271496</td>\n",
       "    </tr>\n",
       "    <tr>\n",
       "      <th>speeding_driver_involved</th>\n",
       "      <td>0.169880</td>\n",
       "    </tr>\n",
       "    <tr>\n",
       "      <th rowspan=\"3\" valign=\"top\">7</th>\n",
       "      <th>other</th>\n",
       "      <td>0.548982</td>\n",
       "    </tr>\n",
       "    <tr>\n",
       "      <th>drunk_driver_involved</th>\n",
       "      <td>0.290299</td>\n",
       "    </tr>\n",
       "    <tr>\n",
       "      <th>speeding_driver_involved</th>\n",
       "      <td>0.160719</td>\n",
       "    </tr>\n",
       "    <tr>\n",
       "      <th rowspan=\"3\" valign=\"top\">8</th>\n",
       "      <th>other</th>\n",
       "      <td>0.563167</td>\n",
       "    </tr>\n",
       "    <tr>\n",
       "      <th>drunk_driver_involved</th>\n",
       "      <td>0.267808</td>\n",
       "    </tr>\n",
       "    <tr>\n",
       "      <th>speeding_driver_involved</th>\n",
       "      <td>0.169025</td>\n",
       "    </tr>\n",
       "    <tr>\n",
       "      <th rowspan=\"3\" valign=\"top\">9</th>\n",
       "      <th>other</th>\n",
       "      <td>0.581140</td>\n",
       "    </tr>\n",
       "    <tr>\n",
       "      <th>drunk_driver_involved</th>\n",
       "      <td>0.256092</td>\n",
       "    </tr>\n",
       "    <tr>\n",
       "      <th>speeding_driver_involved</th>\n",
       "      <td>0.162768</td>\n",
       "    </tr>\n",
       "    <tr>\n",
       "      <th rowspan=\"3\" valign=\"top\">10</th>\n",
       "      <th>other</th>\n",
       "      <td>0.600243</td>\n",
       "    </tr>\n",
       "    <tr>\n",
       "      <th>drunk_driver_involved</th>\n",
       "      <td>0.248662</td>\n",
       "    </tr>\n",
       "    <tr>\n",
       "      <th>speeding_driver_involved</th>\n",
       "      <td>0.151095</td>\n",
       "    </tr>\n",
       "    <tr>\n",
       "      <th rowspan=\"3\" valign=\"top\">11</th>\n",
       "      <th>other</th>\n",
       "      <td>0.594914</td>\n",
       "    </tr>\n",
       "    <tr>\n",
       "      <th>drunk_driver_involved</th>\n",
       "      <td>0.241716</td>\n",
       "    </tr>\n",
       "    <tr>\n",
       "      <th>speeding_driver_involved</th>\n",
       "      <td>0.163370</td>\n",
       "    </tr>\n",
       "    <tr>\n",
       "      <th rowspan=\"3\" valign=\"top\">12</th>\n",
       "      <th>other</th>\n",
       "      <td>0.586794</td>\n",
       "    </tr>\n",
       "    <tr>\n",
       "      <th>drunk_driver_involved</th>\n",
       "      <td>0.236688</td>\n",
       "    </tr>\n",
       "    <tr>\n",
       "      <th>speeding_driver_involved</th>\n",
       "      <td>0.176518</td>\n",
       "    </tr>\n",
       "  </tbody>\n",
       "</table>\n",
       "</div>"
      ],
      "text/plain": [
       "                                driver_factor\n",
       "month driver_factor                          \n",
       "1     other                          0.583530\n",
       "      drunk_driver_involved          0.251181\n",
       "      speeding_driver_involved       0.165289\n",
       "2     other                          0.580697\n",
       "      drunk_driver_involved          0.251838\n",
       "      speeding_driver_involved       0.167466\n",
       "3     other                          0.566135\n",
       "      drunk_driver_involved          0.259692\n",
       "      speeding_driver_involved       0.174173\n",
       "4     other                          0.543300\n",
       "      drunk_driver_involved          0.286883\n",
       "      speeding_driver_involved       0.169817\n",
       "5     other                          0.552086\n",
       "      drunk_driver_involved          0.278142\n",
       "      speeding_driver_involved       0.169772\n",
       "6     other                          0.558624\n",
       "      drunk_driver_involved          0.271496\n",
       "      speeding_driver_involved       0.169880\n",
       "7     other                          0.548982\n",
       "      drunk_driver_involved          0.290299\n",
       "      speeding_driver_involved       0.160719\n",
       "8     other                          0.563167\n",
       "      drunk_driver_involved          0.267808\n",
       "      speeding_driver_involved       0.169025\n",
       "9     other                          0.581140\n",
       "      drunk_driver_involved          0.256092\n",
       "      speeding_driver_involved       0.162768\n",
       "10    other                          0.600243\n",
       "      drunk_driver_involved          0.248662\n",
       "      speeding_driver_involved       0.151095\n",
       "11    other                          0.594914\n",
       "      drunk_driver_involved          0.241716\n",
       "      speeding_driver_involved       0.163370\n",
       "12    other                          0.586794\n",
       "      drunk_driver_involved          0.236688\n",
       "      speeding_driver_involved       0.176518"
      ]
     },
     "execution_count": 162,
     "metadata": {},
     "output_type": "execute_result"
    }
   ],
   "source": [
    "pd.DataFrame(train_df.groupby(\"month\")['driver_factor'].value_counts(normalize=True))"
   ]
  },
  {
   "cell_type": "markdown",
   "metadata": {},
   "source": [
    "### `day` - day of month when crash occurred"
   ]
  },
  {
   "cell_type": "code",
   "execution_count": 233,
   "metadata": {},
   "outputs": [
    {
     "data": {
      "image/png": "[encoded data removed]",
      "text/plain": [
       "<Figure size 432x288 with 1 Axes>"
      ]
     },
     "metadata": {
      "needs_background": "light"
     },
     "output_type": "display_data"
    }
   ],
   "source": [
    "#day_order = ['sun','mon','tue','wed','thu','fri','sat']\n",
    "sns.countplot(x=train_df['day'], hue=train_df['driver_factor']);"
   ]
  },
  {
   "cell_type": "code",
   "execution_count": 234,
   "metadata": {},
   "outputs": [
    {
     "data": {
      "text/html": [
       "<div>\n",
       "<style scoped>\n",
       "    .dataframe tbody tr th:only-of-type {\n",
       "        vertical-align: middle;\n",
       "    }\n",
       "\n",
       "    .dataframe tbody tr th {\n",
       "        vertical-align: top;\n",
       "    }\n",
       "\n",
       "    .dataframe thead th {\n",
       "        text-align: right;\n",
       "    }\n",
       "</style>\n",
       "<table border=\"1\" class=\"dataframe\">\n",
       "  <thead>\n",
       "    <tr style=\"text-align: right;\">\n",
       "      <th></th>\n",
       "      <th></th>\n",
       "      <th>driver_factor</th>\n",
       "    </tr>\n",
       "    <tr>\n",
       "      <th>day</th>\n",
       "      <th>driver_factor</th>\n",
       "      <th></th>\n",
       "    </tr>\n",
       "  </thead>\n",
       "  <tbody>\n",
       "    <tr>\n",
       "      <th rowspan=\"3\" valign=\"top\">1</th>\n",
       "      <th>other</th>\n",
       "      <td>0.589286</td>\n",
       "    </tr>\n",
       "    <tr>\n",
       "      <th>drunk_driver_involved</th>\n",
       "      <td>0.255102</td>\n",
       "    </tr>\n",
       "    <tr>\n",
       "      <th>speeding_driver_involved</th>\n",
       "      <td>0.155612</td>\n",
       "    </tr>\n",
       "    <tr>\n",
       "      <th rowspan=\"2\" valign=\"top\">2</th>\n",
       "      <th>other</th>\n",
       "      <td>0.568059</td>\n",
       "    </tr>\n",
       "    <tr>\n",
       "      <th>drunk_driver_involved</th>\n",
       "      <td>0.268868</td>\n",
       "    </tr>\n",
       "    <tr>\n",
       "      <th>...</th>\n",
       "      <th>...</th>\n",
       "      <td>...</td>\n",
       "    </tr>\n",
       "    <tr>\n",
       "      <th rowspan=\"2\" valign=\"top\">30</th>\n",
       "      <th>drunk_driver_involved</th>\n",
       "      <td>0.288752</td>\n",
       "    </tr>\n",
       "    <tr>\n",
       "      <th>speeding_driver_involved</th>\n",
       "      <td>0.150206</td>\n",
       "    </tr>\n",
       "    <tr>\n",
       "      <th rowspan=\"3\" valign=\"top\">31</th>\n",
       "      <th>other</th>\n",
       "      <td>0.614841</td>\n",
       "    </tr>\n",
       "    <tr>\n",
       "      <th>drunk_driver_involved</th>\n",
       "      <td>0.228504</td>\n",
       "    </tr>\n",
       "    <tr>\n",
       "      <th>speeding_driver_involved</th>\n",
       "      <td>0.156655</td>\n",
       "    </tr>\n",
       "  </tbody>\n",
       "</table>\n",
       "<p>93 rows × 1 columns</p>\n",
       "</div>"
      ],
      "text/plain": [
       "                              driver_factor\n",
       "day driver_factor                          \n",
       "1   other                          0.589286\n",
       "    drunk_driver_involved          0.255102\n",
       "    speeding_driver_involved       0.155612\n",
       "2   other                          0.568059\n",
       "    drunk_driver_involved          0.268868\n",
       "...                                     ...\n",
       "30  drunk_driver_involved          0.288752\n",
       "    speeding_driver_involved       0.150206\n",
       "31  other                          0.614841\n",
       "    drunk_driver_involved          0.228504\n",
       "    speeding_driver_involved       0.156655\n",
       "\n",
       "[93 rows x 1 columns]"
      ]
     },
     "execution_count": 234,
     "metadata": {},
     "output_type": "execute_result"
    }
   ],
   "source": [
    "pd.DataFrame(train_df.groupby(\"day\")['driver_factor'].value_counts(normalize=True))"
   ]
  },
  {
   "cell_type": "markdown",
   "metadata": {},
   "source": [
    "### `day_week` - day of week when crash occurred"
   ]
  },
  {
   "cell_type": "code",
   "execution_count": 53,
   "metadata": {},
   "outputs": [
    {
     "data": {
      "image/png": "[encoded data removed]",
      "text/plain": [
       "<Figure size 432x288 with 1 Axes>"
      ]
     },
     "metadata": {
      "needs_background": "light"
     },
     "output_type": "display_data"
    }
   ],
   "source": [
    "day_order = ['sun','mon','tue','wed','thu','fri','sat']\n",
    "sns.countplot(x=train_df['day_week'], order=day_order,hue=train_df['driver_factor']);"
   ]
  },
  {
   "cell_type": "code",
   "execution_count": 164,
   "metadata": {},
   "outputs": [
    {
     "data": {
      "text/html": [
       "<div>\n",
       "<style scoped>\n",
       "    .dataframe tbody tr th:only-of-type {\n",
       "        vertical-align: middle;\n",
       "    }\n",
       "\n",
       "    .dataframe tbody tr th {\n",
       "        vertical-align: top;\n",
       "    }\n",
       "\n",
       "    .dataframe thead th {\n",
       "        text-align: right;\n",
       "    }\n",
       "</style>\n",
       "<table border=\"1\" class=\"dataframe\">\n",
       "  <thead>\n",
       "    <tr style=\"text-align: right;\">\n",
       "      <th></th>\n",
       "      <th></th>\n",
       "      <th>driver_factor</th>\n",
       "    </tr>\n",
       "    <tr>\n",
       "      <th>day_week</th>\n",
       "      <th>driver_factor</th>\n",
       "      <th></th>\n",
       "    </tr>\n",
       "  </thead>\n",
       "  <tbody>\n",
       "    <tr>\n",
       "      <th rowspan=\"3\" valign=\"top\">fri</th>\n",
       "      <th>other</th>\n",
       "      <td>0.586915</td>\n",
       "    </tr>\n",
       "    <tr>\n",
       "      <th>drunk_driver_involved</th>\n",
       "      <td>0.251430</td>\n",
       "    </tr>\n",
       "    <tr>\n",
       "      <th>speeding_driver_involved</th>\n",
       "      <td>0.161655</td>\n",
       "    </tr>\n",
       "    <tr>\n",
       "      <th rowspan=\"3\" valign=\"top\">mon</th>\n",
       "      <th>other</th>\n",
       "      <td>0.626282</td>\n",
       "    </tr>\n",
       "    <tr>\n",
       "      <th>drunk_driver_involved</th>\n",
       "      <td>0.206153</td>\n",
       "    </tr>\n",
       "    <tr>\n",
       "      <th>speeding_driver_involved</th>\n",
       "      <td>0.167565</td>\n",
       "    </tr>\n",
       "    <tr>\n",
       "      <th rowspan=\"3\" valign=\"top\">sat</th>\n",
       "      <th>other</th>\n",
       "      <td>0.493849</td>\n",
       "    </tr>\n",
       "    <tr>\n",
       "      <th>drunk_driver_involved</th>\n",
       "      <td>0.338230</td>\n",
       "    </tr>\n",
       "    <tr>\n",
       "      <th>speeding_driver_involved</th>\n",
       "      <td>0.167921</td>\n",
       "    </tr>\n",
       "    <tr>\n",
       "      <th rowspan=\"3\" valign=\"top\">sun</th>\n",
       "      <th>other</th>\n",
       "      <td>0.466693</td>\n",
       "    </tr>\n",
       "    <tr>\n",
       "      <th>drunk_driver_involved</th>\n",
       "      <td>0.363968</td>\n",
       "    </tr>\n",
       "    <tr>\n",
       "      <th>speeding_driver_involved</th>\n",
       "      <td>0.169339</td>\n",
       "    </tr>\n",
       "    <tr>\n",
       "      <th rowspan=\"3\" valign=\"top\">thu</th>\n",
       "      <th>other</th>\n",
       "      <td>0.617116</td>\n",
       "    </tr>\n",
       "    <tr>\n",
       "      <th>drunk_driver_involved</th>\n",
       "      <td>0.214642</td>\n",
       "    </tr>\n",
       "    <tr>\n",
       "      <th>speeding_driver_involved</th>\n",
       "      <td>0.168242</td>\n",
       "    </tr>\n",
       "    <tr>\n",
       "      <th rowspan=\"3\" valign=\"top\">tue</th>\n",
       "      <th>other</th>\n",
       "      <td>0.648683</td>\n",
       "    </tr>\n",
       "    <tr>\n",
       "      <th>drunk_driver_involved</th>\n",
       "      <td>0.188179</td>\n",
       "    </tr>\n",
       "    <tr>\n",
       "      <th>speeding_driver_involved</th>\n",
       "      <td>0.163138</td>\n",
       "    </tr>\n",
       "    <tr>\n",
       "      <th rowspan=\"3\" valign=\"top\">wed</th>\n",
       "      <th>other</th>\n",
       "      <td>0.637034</td>\n",
       "    </tr>\n",
       "    <tr>\n",
       "      <th>drunk_driver_involved</th>\n",
       "      <td>0.196975</td>\n",
       "    </tr>\n",
       "    <tr>\n",
       "      <th>speeding_driver_involved</th>\n",
       "      <td>0.165990</td>\n",
       "    </tr>\n",
       "  </tbody>\n",
       "</table>\n",
       "</div>"
      ],
      "text/plain": [
       "                                   driver_factor\n",
       "day_week driver_factor                          \n",
       "fri      other                          0.586915\n",
       "         drunk_driver_involved          0.251430\n",
       "         speeding_driver_involved       0.161655\n",
       "mon      other                          0.626282\n",
       "         drunk_driver_involved          0.206153\n",
       "         speeding_driver_involved       0.167565\n",
       "sat      other                          0.493849\n",
       "         drunk_driver_involved          0.338230\n",
       "         speeding_driver_involved       0.167921\n",
       "sun      other                          0.466693\n",
       "         drunk_driver_involved          0.363968\n",
       "         speeding_driver_involved       0.169339\n",
       "thu      other                          0.617116\n",
       "         drunk_driver_involved          0.214642\n",
       "         speeding_driver_involved       0.168242\n",
       "tue      other                          0.648683\n",
       "         drunk_driver_involved          0.188179\n",
       "         speeding_driver_involved       0.163138\n",
       "wed      other                          0.637034\n",
       "         drunk_driver_involved          0.196975\n",
       "         speeding_driver_involved       0.165990"
      ]
     },
     "execution_count": 164,
     "metadata": {},
     "output_type": "execute_result"
    }
   ],
   "source": [
    "pd.DataFrame(train_df.groupby(\"day_week\")['driver_factor'].value_counts(normalize=True))"
   ]
  },
  {
   "cell_type": "markdown",
   "metadata": {},
   "source": [
    "### `hour` - hour of day when crash occurred\n",
    "\n",
    "Keep this"
   ]
  },
  {
   "cell_type": "code",
   "execution_count": 52,
   "metadata": {},
   "outputs": [
    {
     "data": {
      "image/png": "[encoded data removed]",
      "text/plain": [
       "<Figure size 1152x216 with 1 Axes>"
      ]
     },
     "metadata": {
      "needs_background": "light"
     },
     "output_type": "display_data"
    }
   ],
   "source": [
    "plt.figure(figsize=(16,3))\n",
    "sns.countplot(x=train_df['hour'],hue=train_df['driver_factor'],);"
   ]
  },
  {
   "cell_type": "code",
   "execution_count": 165,
   "metadata": {},
   "outputs": [
    {
     "data": {
      "text/html": [
       "<div>\n",
       "<style scoped>\n",
       "    .dataframe tbody tr th:only-of-type {\n",
       "        vertical-align: middle;\n",
       "    }\n",
       "\n",
       "    .dataframe tbody tr th {\n",
       "        vertical-align: top;\n",
       "    }\n",
       "\n",
       "    .dataframe thead th {\n",
       "        text-align: right;\n",
       "    }\n",
       "</style>\n",
       "<table border=\"1\" class=\"dataframe\">\n",
       "  <thead>\n",
       "    <tr style=\"text-align: right;\">\n",
       "      <th></th>\n",
       "      <th></th>\n",
       "      <th>driver_factor</th>\n",
       "    </tr>\n",
       "    <tr>\n",
       "      <th>hour</th>\n",
       "      <th>driver_factor</th>\n",
       "      <th></th>\n",
       "    </tr>\n",
       "  </thead>\n",
       "  <tbody>\n",
       "    <tr>\n",
       "      <th rowspan=\"3\" valign=\"top\">0.0</th>\n",
       "      <th>drunk_driver_involved</th>\n",
       "      <td>0.456403</td>\n",
       "    </tr>\n",
       "    <tr>\n",
       "      <th>other</th>\n",
       "      <td>0.395095</td>\n",
       "    </tr>\n",
       "    <tr>\n",
       "      <th>speeding_driver_involved</th>\n",
       "      <td>0.148501</td>\n",
       "    </tr>\n",
       "    <tr>\n",
       "      <th rowspan=\"2\" valign=\"top\">1.0</th>\n",
       "      <th>drunk_driver_involved</th>\n",
       "      <td>0.488166</td>\n",
       "    </tr>\n",
       "    <tr>\n",
       "      <th>other</th>\n",
       "      <td>0.360947</td>\n",
       "    </tr>\n",
       "    <tr>\n",
       "      <th>...</th>\n",
       "      <th>...</th>\n",
       "      <td>...</td>\n",
       "    </tr>\n",
       "    <tr>\n",
       "      <th rowspan=\"2\" valign=\"top\">22.0</th>\n",
       "      <th>drunk_driver_involved</th>\n",
       "      <td>0.313115</td>\n",
       "    </tr>\n",
       "    <tr>\n",
       "      <th>speeding_driver_involved</th>\n",
       "      <td>0.147696</td>\n",
       "    </tr>\n",
       "    <tr>\n",
       "      <th rowspan=\"3\" valign=\"top\">23.0</th>\n",
       "      <th>other</th>\n",
       "      <td>0.473132</td>\n",
       "    </tr>\n",
       "    <tr>\n",
       "      <th>drunk_driver_involved</th>\n",
       "      <td>0.382700</td>\n",
       "    </tr>\n",
       "    <tr>\n",
       "      <th>speeding_driver_involved</th>\n",
       "      <td>0.144168</td>\n",
       "    </tr>\n",
       "  </tbody>\n",
       "</table>\n",
       "<p>72 rows × 1 columns</p>\n",
       "</div>"
      ],
      "text/plain": [
       "                               driver_factor\n",
       "hour driver_factor                          \n",
       "0.0  drunk_driver_involved          0.456403\n",
       "     other                          0.395095\n",
       "     speeding_driver_involved       0.148501\n",
       "1.0  drunk_driver_involved          0.488166\n",
       "     other                          0.360947\n",
       "...                                      ...\n",
       "22.0 drunk_driver_involved          0.313115\n",
       "     speeding_driver_involved       0.147696\n",
       "23.0 other                          0.473132\n",
       "     drunk_driver_involved          0.382700\n",
       "     speeding_driver_involved       0.144168\n",
       "\n",
       "[72 rows x 1 columns]"
      ]
     },
     "execution_count": 165,
     "metadata": {},
     "output_type": "execute_result"
    }
   ],
   "source": [
    "pd.DataFrame(train_df.groupby(\"hour\")['driver_factor'].value_counts(normalize=True))"
   ]
  },
  {
   "cell_type": "markdown",
   "metadata": {},
   "source": [
    "### `minute` - hour of day when crash occurred\n",
    "\n",
    "Drop this"
   ]
  },
  {
   "cell_type": "code",
   "execution_count": 176,
   "metadata": {},
   "outputs": [
    {
     "data": {
      "image/png": "[encoded data removed]",
      "text/plain": [
       "<Figure size 1152x216 with 1 Axes>"
      ]
     },
     "metadata": {
      "needs_background": "light"
     },
     "output_type": "display_data"
    }
   ],
   "source": [
    "plt.figure(figsize=(16,3))\n",
    "sns.countplot(x=train_df['minute'],hue=train_df['driver_factor'],);"
   ]
  },
  {
   "cell_type": "code",
   "execution_count": 177,
   "metadata": {},
   "outputs": [
    {
     "data": {
      "text/html": [
       "<div>\n",
       "<style scoped>\n",
       "    .dataframe tbody tr th:only-of-type {\n",
       "        vertical-align: middle;\n",
       "    }\n",
       "\n",
       "    .dataframe tbody tr th {\n",
       "        vertical-align: top;\n",
       "    }\n",
       "\n",
       "    .dataframe thead th {\n",
       "        text-align: right;\n",
       "    }\n",
       "</style>\n",
       "<table border=\"1\" class=\"dataframe\">\n",
       "  <thead>\n",
       "    <tr style=\"text-align: right;\">\n",
       "      <th></th>\n",
       "      <th></th>\n",
       "      <th>driver_factor</th>\n",
       "    </tr>\n",
       "    <tr>\n",
       "      <th>minute</th>\n",
       "      <th>driver_factor</th>\n",
       "      <th></th>\n",
       "    </tr>\n",
       "  </thead>\n",
       "  <tbody>\n",
       "    <tr>\n",
       "      <th rowspan=\"3\" valign=\"top\">0.0</th>\n",
       "      <th>other</th>\n",
       "      <td>0.518105</td>\n",
       "    </tr>\n",
       "    <tr>\n",
       "      <th>drunk_driver_involved</th>\n",
       "      <td>0.304700</td>\n",
       "    </tr>\n",
       "    <tr>\n",
       "      <th>speeding_driver_involved</th>\n",
       "      <td>0.177196</td>\n",
       "    </tr>\n",
       "    <tr>\n",
       "      <th rowspan=\"2\" valign=\"top\">1.0</th>\n",
       "      <th>other</th>\n",
       "      <td>0.591652</td>\n",
       "    </tr>\n",
       "    <tr>\n",
       "      <th>drunk_driver_involved</th>\n",
       "      <td>0.248639</td>\n",
       "    </tr>\n",
       "    <tr>\n",
       "      <th>...</th>\n",
       "      <th>...</th>\n",
       "      <td>...</td>\n",
       "    </tr>\n",
       "    <tr>\n",
       "      <th rowspan=\"2\" valign=\"top\">58.0</th>\n",
       "      <th>drunk_driver_involved</th>\n",
       "      <td>0.247772</td>\n",
       "    </tr>\n",
       "    <tr>\n",
       "      <th>speeding_driver_involved</th>\n",
       "      <td>0.171123</td>\n",
       "    </tr>\n",
       "    <tr>\n",
       "      <th rowspan=\"3\" valign=\"top\">59.0</th>\n",
       "      <th>other</th>\n",
       "      <td>0.577299</td>\n",
       "    </tr>\n",
       "    <tr>\n",
       "      <th>drunk_driver_involved</th>\n",
       "      <td>0.270059</td>\n",
       "    </tr>\n",
       "    <tr>\n",
       "      <th>speeding_driver_involved</th>\n",
       "      <td>0.152642</td>\n",
       "    </tr>\n",
       "  </tbody>\n",
       "</table>\n",
       "<p>180 rows × 1 columns</p>\n",
       "</div>"
      ],
      "text/plain": [
       "                                 driver_factor\n",
       "minute driver_factor                          \n",
       "0.0    other                          0.518105\n",
       "       drunk_driver_involved          0.304700\n",
       "       speeding_driver_involved       0.177196\n",
       "1.0    other                          0.591652\n",
       "       drunk_driver_involved          0.248639\n",
       "...                                        ...\n",
       "58.0   drunk_driver_involved          0.247772\n",
       "       speeding_driver_involved       0.171123\n",
       "59.0   other                          0.577299\n",
       "       drunk_driver_involved          0.270059\n",
       "       speeding_driver_involved       0.152642\n",
       "\n",
       "[180 rows x 1 columns]"
      ]
     },
     "execution_count": 177,
     "metadata": {},
     "output_type": "execute_result"
    }
   ],
   "source": [
    "pd.DataFrame(train_df.groupby(\"minute\")['driver_factor'].value_counts(normalize=True))"
   ]
  },
  {
   "cell_type": "markdown",
   "metadata": {},
   "source": [
    "### `a_tod_type` - time of day, daytime or nighttime\n",
    "\n",
    "Keep this, the distribution changes significantly for drinking at night"
   ]
  },
  {
   "cell_type": "code",
   "execution_count": 50,
   "metadata": {},
   "outputs": [
    {
     "data": {
      "image/png": "[encoded data removed]",
      "text/plain": [
       "<Figure size 432x288 with 1 Axes>"
      ]
     },
     "metadata": {
      "needs_background": "light"
     },
     "output_type": "display_data"
    }
   ],
   "source": [
    "sns.countplot(x=train_df['a_tod_type'],hue=train_df['driver_factor']);"
   ]
  },
  {
   "cell_type": "code",
   "execution_count": 166,
   "metadata": {},
   "outputs": [
    {
     "data": {
      "text/html": [
       "<div>\n",
       "<style scoped>\n",
       "    .dataframe tbody tr th:only-of-type {\n",
       "        vertical-align: middle;\n",
       "    }\n",
       "\n",
       "    .dataframe tbody tr th {\n",
       "        vertical-align: top;\n",
       "    }\n",
       "\n",
       "    .dataframe thead th {\n",
       "        text-align: right;\n",
       "    }\n",
       "</style>\n",
       "<table border=\"1\" class=\"dataframe\">\n",
       "  <thead>\n",
       "    <tr style=\"text-align: right;\">\n",
       "      <th></th>\n",
       "      <th></th>\n",
       "      <th>driver_factor</th>\n",
       "    </tr>\n",
       "    <tr>\n",
       "      <th>a_tod_type</th>\n",
       "      <th>driver_factor</th>\n",
       "      <th></th>\n",
       "    </tr>\n",
       "  </thead>\n",
       "  <tbody>\n",
       "    <tr>\n",
       "      <th rowspan=\"3\" valign=\"top\">Daytime</th>\n",
       "      <th>other</th>\n",
       "      <td>0.658031</td>\n",
       "    </tr>\n",
       "    <tr>\n",
       "      <th>speeding_driver_involved</th>\n",
       "      <td>0.200695</td>\n",
       "    </tr>\n",
       "    <tr>\n",
       "      <th>drunk_driver_involved</th>\n",
       "      <td>0.141274</td>\n",
       "    </tr>\n",
       "    <tr>\n",
       "      <th rowspan=\"3\" valign=\"top\">Nighttime</th>\n",
       "      <th>other</th>\n",
       "      <td>0.513890</td>\n",
       "    </tr>\n",
       "    <tr>\n",
       "      <th>drunk_driver_involved</th>\n",
       "      <td>0.342771</td>\n",
       "    </tr>\n",
       "    <tr>\n",
       "      <th>speeding_driver_involved</th>\n",
       "      <td>0.143339</td>\n",
       "    </tr>\n",
       "  </tbody>\n",
       "</table>\n",
       "</div>"
      ],
      "text/plain": [
       "                                     driver_factor\n",
       "a_tod_type driver_factor                          \n",
       "Daytime    other                          0.658031\n",
       "           speeding_driver_involved       0.200695\n",
       "           drunk_driver_involved          0.141274\n",
       "Nighttime  other                          0.513890\n",
       "           drunk_driver_involved          0.342771\n",
       "           speeding_driver_involved       0.143339"
      ]
     },
     "execution_count": 166,
     "metadata": {},
     "output_type": "execute_result"
    }
   ],
   "source": [
    "pd.DataFrame(train_df.groupby(\"a_tod_type\")['driver_factor'].value_counts(normalize=True))"
   ]
  },
  {
   "cell_type": "markdown",
   "metadata": {},
   "source": [
    "### `a_dow_type` - day of week, weekday vs weekend\n",
    "\n",
    "Keep this, the distribution changes significantly for drinking"
   ]
  },
  {
   "cell_type": "code",
   "execution_count": 49,
   "metadata": {},
   "outputs": [
    {
     "data": {
      "image/png": "[encoded data removed]",
      "text/plain": [
       "<Figure size 432x288 with 1 Axes>"
      ]
     },
     "metadata": {
      "needs_background": "light"
     },
     "output_type": "display_data"
    }
   ],
   "source": [
    "sns.countplot(x=train_df['a_dow_type'],hue=train_df['driver_factor']);"
   ]
  },
  {
   "cell_type": "code",
   "execution_count": 167,
   "metadata": {},
   "outputs": [
    {
     "data": {
      "text/html": [
       "<div>\n",
       "<style scoped>\n",
       "    .dataframe tbody tr th:only-of-type {\n",
       "        vertical-align: middle;\n",
       "    }\n",
       "\n",
       "    .dataframe tbody tr th {\n",
       "        vertical-align: top;\n",
       "    }\n",
       "\n",
       "    .dataframe thead th {\n",
       "        text-align: right;\n",
       "    }\n",
       "</style>\n",
       "<table border=\"1\" class=\"dataframe\">\n",
       "  <thead>\n",
       "    <tr style=\"text-align: right;\">\n",
       "      <th></th>\n",
       "      <th></th>\n",
       "      <th>driver_factor</th>\n",
       "    </tr>\n",
       "    <tr>\n",
       "      <th>a_dow_type</th>\n",
       "      <th>driver_factor</th>\n",
       "      <th></th>\n",
       "    </tr>\n",
       "  </thead>\n",
       "  <tbody>\n",
       "    <tr>\n",
       "      <th rowspan=\"3\" valign=\"top\">Weekday</th>\n",
       "      <th>other</th>\n",
       "      <td>0.621435</td>\n",
       "    </tr>\n",
       "    <tr>\n",
       "      <th>drunk_driver_involved</th>\n",
       "      <td>0.213357</td>\n",
       "    </tr>\n",
       "    <tr>\n",
       "      <th>speeding_driver_involved</th>\n",
       "      <td>0.165208</td>\n",
       "    </tr>\n",
       "    <tr>\n",
       "      <th rowspan=\"3\" valign=\"top\">Weekend</th>\n",
       "      <th>other</th>\n",
       "      <td>0.480865</td>\n",
       "    </tr>\n",
       "    <tr>\n",
       "      <th>drunk_driver_involved</th>\n",
       "      <td>0.350536</td>\n",
       "    </tr>\n",
       "    <tr>\n",
       "      <th>speeding_driver_involved</th>\n",
       "      <td>0.168599</td>\n",
       "    </tr>\n",
       "  </tbody>\n",
       "</table>\n",
       "</div>"
      ],
      "text/plain": [
       "                                     driver_factor\n",
       "a_dow_type driver_factor                          \n",
       "Weekday    other                          0.621435\n",
       "           drunk_driver_involved          0.213357\n",
       "           speeding_driver_involved       0.165208\n",
       "Weekend    other                          0.480865\n",
       "           drunk_driver_involved          0.350536\n",
       "           speeding_driver_involved       0.168599"
      ]
     },
     "execution_count": 167,
     "metadata": {},
     "output_type": "execute_result"
    }
   ],
   "source": [
    "pd.DataFrame(train_df.groupby(\"a_dow_type\")['driver_factor'].value_counts(normalize=True))"
   ]
  },
  {
   "cell_type": "markdown",
   "metadata": {},
   "source": [
    "### `state` - geographic state in which crash occurs\n",
    "\n",
    "I'm inclined to drop this because of the very large number of categories"
   ]
  },
  {
   "cell_type": "code",
   "execution_count": 139,
   "metadata": {},
   "outputs": [
    {
     "data": {
      "image/png": "[encoded data removed]",
      "text/plain": [
       "<Figure size 864x216 with 1 Axes>"
      ]
     },
     "metadata": {
      "needs_background": "light"
     },
     "output_type": "display_data"
    }
   ],
   "source": [
    "plt.figure(figsize=(12,3))\n",
    "sns.countplot(x=train_df['state'])\n",
    "plt.xticks(rotation=90);"
   ]
  },
  {
   "cell_type": "markdown",
   "metadata": {},
   "source": [
    "### `a_region` - states but grouped together"
   ]
  },
  {
   "cell_type": "code",
   "execution_count": 149,
   "metadata": {},
   "outputs": [
    {
     "data": {
      "image/png": "[encoded data removed]",
      "text/plain": [
       "<Figure size 864x216 with 1 Axes>"
      ]
     },
     "metadata": {
      "needs_background": "light"
     },
     "output_type": "display_data"
    }
   ],
   "source": [
    "plt.figure(figsize=(12,3))\n",
    "sns.countplot(x=train_df['a_region'],hue=train_df['driver_factor'])\n",
    "plt.xticks(rotation=90);"
   ]
  },
  {
   "cell_type": "code",
   "execution_count": 178,
   "metadata": {},
   "outputs": [
    {
     "data": {
      "text/html": [
       "<div>\n",
       "<style scoped>\n",
       "    .dataframe tbody tr th:only-of-type {\n",
       "        vertical-align: middle;\n",
       "    }\n",
       "\n",
       "    .dataframe tbody tr th {\n",
       "        vertical-align: top;\n",
       "    }\n",
       "\n",
       "    .dataframe thead th {\n",
       "        text-align: right;\n",
       "    }\n",
       "</style>\n",
       "<table border=\"1\" class=\"dataframe\">\n",
       "  <thead>\n",
       "    <tr style=\"text-align: right;\">\n",
       "      <th></th>\n",
       "      <th></th>\n",
       "      <th>driver_factor</th>\n",
       "    </tr>\n",
       "    <tr>\n",
       "      <th>a_region</th>\n",
       "      <th>driver_factor</th>\n",
       "      <th></th>\n",
       "    </tr>\n",
       "  </thead>\n",
       "  <tbody>\n",
       "    <tr>\n",
       "      <th rowspan=\"3\" valign=\"top\">Alabama, Florida, Georgia, South Carolina, Tennessee</th>\n",
       "      <th>other</th>\n",
       "      <td>0.643183</td>\n",
       "    </tr>\n",
       "    <tr>\n",
       "      <th>drunk_driver_involved</th>\n",
       "      <td>0.223947</td>\n",
       "    </tr>\n",
       "    <tr>\n",
       "      <th>speeding_driver_involved</th>\n",
       "      <td>0.132870</td>\n",
       "    </tr>\n",
       "    <tr>\n",
       "      <th rowspan=\"3\" valign=\"top\">Alaska, Idaho, Montana, Oregon, Washington</th>\n",
       "      <th>other</th>\n",
       "      <td>0.508391</td>\n",
       "    </tr>\n",
       "    <tr>\n",
       "      <th>drunk_driver_involved</th>\n",
       "      <td>0.328233</td>\n",
       "    </tr>\n",
       "    <tr>\n",
       "      <th>speeding_driver_involved</th>\n",
       "      <td>0.163376</td>\n",
       "    </tr>\n",
       "    <tr>\n",
       "      <th rowspan=\"3\" valign=\"top\">Arizona, California, Hawaii</th>\n",
       "      <th>other</th>\n",
       "      <td>0.588941</td>\n",
       "    </tr>\n",
       "    <tr>\n",
       "      <th>drunk_driver_involved</th>\n",
       "      <td>0.252332</td>\n",
       "    </tr>\n",
       "    <tr>\n",
       "      <th>speeding_driver_involved</th>\n",
       "      <td>0.158728</td>\n",
       "    </tr>\n",
       "    <tr>\n",
       "      <th rowspan=\"3\" valign=\"top\">Arkansas, Iowa, Kansas, Missouri, Nebraska</th>\n",
       "      <th>other</th>\n",
       "      <td>0.523539</td>\n",
       "    </tr>\n",
       "    <tr>\n",
       "      <th>drunk_driver_involved</th>\n",
       "      <td>0.279800</td>\n",
       "    </tr>\n",
       "    <tr>\n",
       "      <th>speeding_driver_involved</th>\n",
       "      <td>0.196661</td>\n",
       "    </tr>\n",
       "    <tr>\n",
       "      <th rowspan=\"3\" valign=\"top\">Colorado, Nevada, North Dakota, South Dakota, Utah, Wyoming</th>\n",
       "      <th>other</th>\n",
       "      <td>0.528986</td>\n",
       "    </tr>\n",
       "    <tr>\n",
       "      <th>drunk_driver_involved</th>\n",
       "      <td>0.297101</td>\n",
       "    </tr>\n",
       "    <tr>\n",
       "      <th>speeding_driver_involved</th>\n",
       "      <td>0.173913</td>\n",
       "    </tr>\n",
       "    <tr>\n",
       "      <th rowspan=\"3\" valign=\"top\">Connecticut, New Jersey, New York, Pennsylvania</th>\n",
       "      <th>other</th>\n",
       "      <td>0.580989</td>\n",
       "    </tr>\n",
       "    <tr>\n",
       "      <th>drunk_driver_involved</th>\n",
       "      <td>0.214195</td>\n",
       "    </tr>\n",
       "    <tr>\n",
       "      <th>speeding_driver_involved</th>\n",
       "      <td>0.204816</td>\n",
       "    </tr>\n",
       "    <tr>\n",
       "      <th rowspan=\"3\" valign=\"top\">Delaware, District of Columbia, Kentucky, Maryland, North Carolina, Virginia, West Virginia</th>\n",
       "      <th>other</th>\n",
       "      <td>0.569342</td>\n",
       "    </tr>\n",
       "    <tr>\n",
       "      <th>drunk_driver_involved</th>\n",
       "      <td>0.259356</td>\n",
       "    </tr>\n",
       "    <tr>\n",
       "      <th>speeding_driver_involved</th>\n",
       "      <td>0.171303</td>\n",
       "    </tr>\n",
       "    <tr>\n",
       "      <th rowspan=\"3\" valign=\"top\">Illinois, Indiana, Michigan, Minnesota, Ohio, Wisconsin</th>\n",
       "      <th>other</th>\n",
       "      <td>0.509943</td>\n",
       "    </tr>\n",
       "    <tr>\n",
       "      <th>drunk_driver_involved</th>\n",
       "      <td>0.308317</td>\n",
       "    </tr>\n",
       "    <tr>\n",
       "      <th>speeding_driver_involved</th>\n",
       "      <td>0.181740</td>\n",
       "    </tr>\n",
       "    <tr>\n",
       "      <th rowspan=\"3\" valign=\"top\">Louisiana, Mississippi, New Mexico, Oklahoma, Texas</th>\n",
       "      <th>other</th>\n",
       "      <td>0.577455</td>\n",
       "    </tr>\n",
       "    <tr>\n",
       "      <th>drunk_driver_involved</th>\n",
       "      <td>0.259889</td>\n",
       "    </tr>\n",
       "    <tr>\n",
       "      <th>speeding_driver_involved</th>\n",
       "      <td>0.162656</td>\n",
       "    </tr>\n",
       "    <tr>\n",
       "      <th rowspan=\"3\" valign=\"top\">Maine, Massachusetts, New Hampshire, Rhode Island, Vermont</th>\n",
       "      <th>other</th>\n",
       "      <td>0.469019</td>\n",
       "    </tr>\n",
       "    <tr>\n",
       "      <th>drunk_driver_involved</th>\n",
       "      <td>0.348537</td>\n",
       "    </tr>\n",
       "    <tr>\n",
       "      <th>speeding_driver_involved</th>\n",
       "      <td>0.182444</td>\n",
       "    </tr>\n",
       "  </tbody>\n",
       "</table>\n",
       "</div>"
      ],
      "text/plain": [
       "                                                                             driver_factor\n",
       "a_region                                           driver_factor                          \n",
       "Alabama, Florida, Georgia, South Carolina, Tenn... other                          0.643183\n",
       "                                                   drunk_driver_involved          0.223947\n",
       "                                                   speeding_driver_involved       0.132870\n",
       "Alaska, Idaho, Montana, Oregon, Washington         other                          0.508391\n",
       "                                                   drunk_driver_involved          0.328233\n",
       "                                                   speeding_driver_involved       0.163376\n",
       "Arizona, California, Hawaii                        other                          0.588941\n",
       "                                                   drunk_driver_involved          0.252332\n",
       "                                                   speeding_driver_involved       0.158728\n",
       "Arkansas, Iowa, Kansas, Missouri, Nebraska         other                          0.523539\n",
       "                                                   drunk_driver_involved          0.279800\n",
       "                                                   speeding_driver_involved       0.196661\n",
       "Colorado, Nevada, North Dakota, South Dakota, U... other                          0.528986\n",
       "                                                   drunk_driver_involved          0.297101\n",
       "                                                   speeding_driver_involved       0.173913\n",
       "Connecticut, New Jersey, New York, Pennsylvania    other                          0.580989\n",
       "                                                   drunk_driver_involved          0.214195\n",
       "                                                   speeding_driver_involved       0.204816\n",
       "Delaware, District of Columbia, Kentucky, Maryl... other                          0.569342\n",
       "                                                   drunk_driver_involved          0.259356\n",
       "                                                   speeding_driver_involved       0.171303\n",
       "Illinois, Indiana, Michigan, Minnesota, Ohio, W... other                          0.509943\n",
       "                                                   drunk_driver_involved          0.308317\n",
       "                                                   speeding_driver_involved       0.181740\n",
       "Louisiana, Mississippi, New Mexico, Oklahoma, T... other                          0.577455\n",
       "                                                   drunk_driver_involved          0.259889\n",
       "                                                   speeding_driver_involved       0.162656\n",
       "Maine, Massachusetts, New Hampshire, Rhode Isla... other                          0.469019\n",
       "                                                   drunk_driver_involved          0.348537\n",
       "                                                   speeding_driver_involved       0.182444"
      ]
     },
     "execution_count": 178,
     "metadata": {},
     "output_type": "execute_result"
    }
   ],
   "source": [
    "pd.DataFrame(train_df.groupby(\"a_region\")['driver_factor'].value_counts(normalize=True))"
   ]
  },
  {
   "cell_type": "markdown",
   "metadata": {},
   "source": [
    "### `a_ru` - rural vs urban"
   ]
  },
  {
   "cell_type": "code",
   "execution_count": 48,
   "metadata": {},
   "outputs": [
    {
     "data": {
      "image/png": "[encoded data removed]",
      "text/plain": [
       "<Figure size 432x288 with 1 Axes>"
      ]
     },
     "metadata": {
      "needs_background": "light"
     },
     "output_type": "display_data"
    }
   ],
   "source": [
    "sns.countplot(x=train_df['a_ru'],hue=train_df['driver_factor']);"
   ]
  },
  {
   "cell_type": "code",
   "execution_count": 168,
   "metadata": {},
   "outputs": [
    {
     "data": {
      "text/html": [
       "<div>\n",
       "<style scoped>\n",
       "    .dataframe tbody tr th:only-of-type {\n",
       "        vertical-align: middle;\n",
       "    }\n",
       "\n",
       "    .dataframe tbody tr th {\n",
       "        vertical-align: top;\n",
       "    }\n",
       "\n",
       "    .dataframe thead th {\n",
       "        text-align: right;\n",
       "    }\n",
       "</style>\n",
       "<table border=\"1\" class=\"dataframe\">\n",
       "  <thead>\n",
       "    <tr style=\"text-align: right;\">\n",
       "      <th></th>\n",
       "      <th></th>\n",
       "      <th>driver_factor</th>\n",
       "    </tr>\n",
       "    <tr>\n",
       "      <th>a_ru</th>\n",
       "      <th>driver_factor</th>\n",
       "      <th></th>\n",
       "    </tr>\n",
       "  </thead>\n",
       "  <tbody>\n",
       "    <tr>\n",
       "      <th rowspan=\"3\" valign=\"top\">Rural</th>\n",
       "      <th>other</th>\n",
       "      <td>0.504476</td>\n",
       "    </tr>\n",
       "    <tr>\n",
       "      <th>drunk_driver_involved</th>\n",
       "      <td>0.298149</td>\n",
       "    </tr>\n",
       "    <tr>\n",
       "      <th>speeding_driver_involved</th>\n",
       "      <td>0.197375</td>\n",
       "    </tr>\n",
       "    <tr>\n",
       "      <th rowspan=\"3\" valign=\"top\">Urban</th>\n",
       "      <th>other</th>\n",
       "      <td>0.631258</td>\n",
       "    </tr>\n",
       "    <tr>\n",
       "      <th>drunk_driver_involved</th>\n",
       "      <td>0.230011</td>\n",
       "    </tr>\n",
       "    <tr>\n",
       "      <th>speeding_driver_involved</th>\n",
       "      <td>0.138731</td>\n",
       "    </tr>\n",
       "  </tbody>\n",
       "</table>\n",
       "</div>"
      ],
      "text/plain": [
       "                                driver_factor\n",
       "a_ru  driver_factor                          \n",
       "Rural other                          0.504476\n",
       "      drunk_driver_involved          0.298149\n",
       "      speeding_driver_involved       0.197375\n",
       "Urban other                          0.631258\n",
       "      drunk_driver_involved          0.230011\n",
       "      speeding_driver_involved       0.138731"
      ]
     },
     "execution_count": 168,
     "metadata": {},
     "output_type": "execute_result"
    }
   ],
   "source": [
    "pd.DataFrame(train_df.groupby(\"a_ru\")['driver_factor'].value_counts(normalize=True))"
   ]
  },
  {
   "cell_type": "markdown",
   "metadata": {},
   "source": [
    "### `a_inter` - interstate or non-interstate"
   ]
  },
  {
   "cell_type": "code",
   "execution_count": 47,
   "metadata": {},
   "outputs": [
    {
     "data": {
      "image/png": "[encoded data removed]",
      "text/plain": [
       "<Figure size 432x288 with 1 Axes>"
      ]
     },
     "metadata": {
      "needs_background": "light"
     },
     "output_type": "display_data"
    }
   ],
   "source": [
    "sns.countplot(x=train_df['a_inter'],hue=train_df['driver_factor']);"
   ]
  },
  {
   "cell_type": "code",
   "execution_count": 169,
   "metadata": {},
   "outputs": [
    {
     "data": {
      "text/html": [
       "<div>\n",
       "<style scoped>\n",
       "    .dataframe tbody tr th:only-of-type {\n",
       "        vertical-align: middle;\n",
       "    }\n",
       "\n",
       "    .dataframe tbody tr th {\n",
       "        vertical-align: top;\n",
       "    }\n",
       "\n",
       "    .dataframe thead th {\n",
       "        text-align: right;\n",
       "    }\n",
       "</style>\n",
       "<table border=\"1\" class=\"dataframe\">\n",
       "  <thead>\n",
       "    <tr style=\"text-align: right;\">\n",
       "      <th></th>\n",
       "      <th></th>\n",
       "      <th>driver_factor</th>\n",
       "    </tr>\n",
       "    <tr>\n",
       "      <th>a_inter</th>\n",
       "      <th>driver_factor</th>\n",
       "      <th></th>\n",
       "    </tr>\n",
       "  </thead>\n",
       "  <tbody>\n",
       "    <tr>\n",
       "      <th rowspan=\"3\" valign=\"top\">Interstate</th>\n",
       "      <th>other</th>\n",
       "      <td>0.621731</td>\n",
       "    </tr>\n",
       "    <tr>\n",
       "      <th>drunk_driver_involved</th>\n",
       "      <td>0.213972</td>\n",
       "    </tr>\n",
       "    <tr>\n",
       "      <th>speeding_driver_involved</th>\n",
       "      <td>0.164297</td>\n",
       "    </tr>\n",
       "    <tr>\n",
       "      <th rowspan=\"3\" valign=\"top\">Non-Interstate</th>\n",
       "      <th>other</th>\n",
       "      <td>0.563985</td>\n",
       "    </tr>\n",
       "    <tr>\n",
       "      <th>drunk_driver_involved</th>\n",
       "      <td>0.269234</td>\n",
       "    </tr>\n",
       "    <tr>\n",
       "      <th>speeding_driver_involved</th>\n",
       "      <td>0.166781</td>\n",
       "    </tr>\n",
       "  </tbody>\n",
       "</table>\n",
       "</div>"
      ],
      "text/plain": [
       "                                         driver_factor\n",
       "a_inter        driver_factor                          \n",
       "Interstate     other                          0.621731\n",
       "               drunk_driver_involved          0.213972\n",
       "               speeding_driver_involved       0.164297\n",
       "Non-Interstate other                          0.563985\n",
       "               drunk_driver_involved          0.269234\n",
       "               speeding_driver_involved       0.166781"
      ]
     },
     "execution_count": 169,
     "metadata": {},
     "output_type": "execute_result"
    }
   ],
   "source": [
    "pd.DataFrame(train_df.groupby(\"a_inter\")['driver_factor'].value_counts(normalize=True))"
   ]
  },
  {
   "cell_type": "code",
   "execution_count": 170,
   "metadata": {},
   "outputs": [
    {
     "data": {
      "text/plain": [
       "Non-Interstate    0.873518\n",
       "Interstate        0.126482\n",
       "Name: a_inter, dtype: float64"
      ]
     },
     "execution_count": 170,
     "metadata": {},
     "output_type": "execute_result"
    }
   ],
   "source": [
    "train_df['a_inter'].value_counts(normalize=True)"
   ]
  },
  {
   "cell_type": "markdown",
   "metadata": {},
   "source": [
    "### `a_intsec` - intersection or not"
   ]
  },
  {
   "cell_type": "code",
   "execution_count": 46,
   "metadata": {},
   "outputs": [
    {
     "data": {
      "image/png": "[encoded data removed]",
      "text/plain": [
       "<Figure size 432x288 with 1 Axes>"
      ]
     },
     "metadata": {
      "needs_background": "light"
     },
     "output_type": "display_data"
    }
   ],
   "source": [
    "sns.countplot(x=train_df['a_intsec'],hue=train_df['driver_factor']);"
   ]
  },
  {
   "cell_type": "code",
   "execution_count": 171,
   "metadata": {},
   "outputs": [
    {
     "data": {
      "text/html": [
       "<div>\n",
       "<style scoped>\n",
       "    .dataframe tbody tr th:only-of-type {\n",
       "        vertical-align: middle;\n",
       "    }\n",
       "\n",
       "    .dataframe tbody tr th {\n",
       "        vertical-align: top;\n",
       "    }\n",
       "\n",
       "    .dataframe thead th {\n",
       "        text-align: right;\n",
       "    }\n",
       "</style>\n",
       "<table border=\"1\" class=\"dataframe\">\n",
       "  <thead>\n",
       "    <tr style=\"text-align: right;\">\n",
       "      <th></th>\n",
       "      <th></th>\n",
       "      <th>driver_factor</th>\n",
       "    </tr>\n",
       "    <tr>\n",
       "      <th>a_intsec</th>\n",
       "      <th>driver_factor</th>\n",
       "      <th></th>\n",
       "    </tr>\n",
       "  </thead>\n",
       "  <tbody>\n",
       "    <tr>\n",
       "      <th rowspan=\"3\" valign=\"top\">Intersection</th>\n",
       "      <th>other</th>\n",
       "      <td>0.705347</td>\n",
       "    </tr>\n",
       "    <tr>\n",
       "      <th>drunk_driver_involved</th>\n",
       "      <td>0.174847</td>\n",
       "    </tr>\n",
       "    <tr>\n",
       "      <th>speeding_driver_involved</th>\n",
       "      <td>0.119806</td>\n",
       "    </tr>\n",
       "    <tr>\n",
       "      <th rowspan=\"3\" valign=\"top\">Non-Intersection</th>\n",
       "      <th>other</th>\n",
       "      <td>0.549319</td>\n",
       "    </tr>\n",
       "    <tr>\n",
       "      <th>drunk_driver_involved</th>\n",
       "      <td>0.276423</td>\n",
       "    </tr>\n",
       "    <tr>\n",
       "      <th>speeding_driver_involved</th>\n",
       "      <td>0.174258</td>\n",
       "    </tr>\n",
       "  </tbody>\n",
       "</table>\n",
       "</div>"
      ],
      "text/plain": [
       "                                           driver_factor\n",
       "a_intsec         driver_factor                          \n",
       "Intersection     other                          0.705347\n",
       "                 drunk_driver_involved          0.174847\n",
       "                 speeding_driver_involved       0.119806\n",
       "Non-Intersection other                          0.549319\n",
       "                 drunk_driver_involved          0.276423\n",
       "                 speeding_driver_involved       0.174258"
      ]
     },
     "execution_count": 171,
     "metadata": {},
     "output_type": "execute_result"
    }
   ],
   "source": [
    "pd.DataFrame(train_df.groupby(\"a_intsec\")['driver_factor'].value_counts(normalize=True))"
   ]
  },
  {
   "cell_type": "markdown",
   "metadata": {},
   "source": [
    "### `a_roadfc` - type of road: interstate, local, etc."
   ]
  },
  {
   "cell_type": "code",
   "execution_count": 45,
   "metadata": {},
   "outputs": [
    {
     "data": {
      "image/png": "[encoded data removed]",
      "text/plain": [
       "<Figure size 864x216 with 1 Axes>"
      ]
     },
     "metadata": {
      "needs_background": "light"
     },
     "output_type": "display_data"
    }
   ],
   "source": [
    "plt.figure(figsize=(12,3))\n",
    "sns.countplot(x=train_df['a_roadfc'],hue=train_df['driver_factor'])\n",
    "plt.xticks(rotation=60);"
   ]
  },
  {
   "cell_type": "code",
   "execution_count": 179,
   "metadata": {},
   "outputs": [
    {
     "data": {
      "text/html": [
       "<div>\n",
       "<style scoped>\n",
       "    .dataframe tbody tr th:only-of-type {\n",
       "        vertical-align: middle;\n",
       "    }\n",
       "\n",
       "    .dataframe tbody tr th {\n",
       "        vertical-align: top;\n",
       "    }\n",
       "\n",
       "    .dataframe thead th {\n",
       "        text-align: right;\n",
       "    }\n",
       "</style>\n",
       "<table border=\"1\" class=\"dataframe\">\n",
       "  <thead>\n",
       "    <tr style=\"text-align: right;\">\n",
       "      <th></th>\n",
       "      <th></th>\n",
       "      <th>driver_factor</th>\n",
       "    </tr>\n",
       "    <tr>\n",
       "      <th>a_roadfc</th>\n",
       "      <th>driver_factor</th>\n",
       "      <th></th>\n",
       "    </tr>\n",
       "  </thead>\n",
       "  <tbody>\n",
       "    <tr>\n",
       "      <th rowspan=\"3\" valign=\"top\">Interstate</th>\n",
       "      <th>other</th>\n",
       "      <td>0.621731</td>\n",
       "    </tr>\n",
       "    <tr>\n",
       "      <th>drunk_driver_involved</th>\n",
       "      <td>0.213972</td>\n",
       "    </tr>\n",
       "    <tr>\n",
       "      <th>speeding_driver_involved</th>\n",
       "      <td>0.164297</td>\n",
       "    </tr>\n",
       "    <tr>\n",
       "      <th rowspan=\"3\" valign=\"top\">Local</th>\n",
       "      <th>other</th>\n",
       "      <td>0.635246</td>\n",
       "    </tr>\n",
       "    <tr>\n",
       "      <th>drunk_driver_involved</th>\n",
       "      <td>0.209016</td>\n",
       "    </tr>\n",
       "    <tr>\n",
       "      <th>speeding_driver_involved</th>\n",
       "      <td>0.155738</td>\n",
       "    </tr>\n",
       "    <tr>\n",
       "      <th rowspan=\"3\" valign=\"top\">Major Collector</th>\n",
       "      <th>other</th>\n",
       "      <td>0.487726</td>\n",
       "    </tr>\n",
       "    <tr>\n",
       "      <th>drunk_driver_involved</th>\n",
       "      <td>0.324007</td>\n",
       "    </tr>\n",
       "    <tr>\n",
       "      <th>speeding_driver_involved</th>\n",
       "      <td>0.188267</td>\n",
       "    </tr>\n",
       "    <tr>\n",
       "      <th rowspan=\"3\" valign=\"top\">Minor Arterial</th>\n",
       "      <th>other</th>\n",
       "      <td>0.585045</td>\n",
       "    </tr>\n",
       "    <tr>\n",
       "      <th>drunk_driver_involved</th>\n",
       "      <td>0.252161</td>\n",
       "    </tr>\n",
       "    <tr>\n",
       "      <th>speeding_driver_involved</th>\n",
       "      <td>0.162793</td>\n",
       "    </tr>\n",
       "    <tr>\n",
       "      <th rowspan=\"3\" valign=\"top\">Minor Collector</th>\n",
       "      <th>other</th>\n",
       "      <td>0.466759</td>\n",
       "    </tr>\n",
       "    <tr>\n",
       "      <th>drunk_driver_involved</th>\n",
       "      <td>0.328245</td>\n",
       "    </tr>\n",
       "    <tr>\n",
       "      <th>speeding_driver_involved</th>\n",
       "      <td>0.204996</td>\n",
       "    </tr>\n",
       "    <tr>\n",
       "      <th rowspan=\"3\" valign=\"top\">Principal Arterial – Other</th>\n",
       "      <th>other</th>\n",
       "      <td>0.681550</td>\n",
       "    </tr>\n",
       "    <tr>\n",
       "      <th>drunk_driver_involved</th>\n",
       "      <td>0.193030</td>\n",
       "    </tr>\n",
       "    <tr>\n",
       "      <th>speeding_driver_involved</th>\n",
       "      <td>0.125420</td>\n",
       "    </tr>\n",
       "    <tr>\n",
       "      <th rowspan=\"3\" valign=\"top\">Principal Arterial – Other Freeways and Expressways</th>\n",
       "      <th>other</th>\n",
       "      <td>0.575080</td>\n",
       "    </tr>\n",
       "    <tr>\n",
       "      <th>drunk_driver_involved</th>\n",
       "      <td>0.267838</td>\n",
       "    </tr>\n",
       "    <tr>\n",
       "      <th>speeding_driver_involved</th>\n",
       "      <td>0.157082</td>\n",
       "    </tr>\n",
       "  </tbody>\n",
       "</table>\n",
       "</div>"
      ],
      "text/plain": [
       "                                                                             driver_factor\n",
       "a_roadfc                                           driver_factor                          \n",
       "Interstate                                         other                          0.621731\n",
       "                                                   drunk_driver_involved          0.213972\n",
       "                                                   speeding_driver_involved       0.164297\n",
       "Local                                              other                          0.635246\n",
       "                                                   drunk_driver_involved          0.209016\n",
       "                                                   speeding_driver_involved       0.155738\n",
       "Major Collector                                    other                          0.487726\n",
       "                                                   drunk_driver_involved          0.324007\n",
       "                                                   speeding_driver_involved       0.188267\n",
       "Minor Arterial                                     other                          0.585045\n",
       "                                                   drunk_driver_involved          0.252161\n",
       "                                                   speeding_driver_involved       0.162793\n",
       "Minor Collector                                    other                          0.466759\n",
       "                                                   drunk_driver_involved          0.328245\n",
       "                                                   speeding_driver_involved       0.204996\n",
       "Principal Arterial – Other                         other                          0.681550\n",
       "                                                   drunk_driver_involved          0.193030\n",
       "                                                   speeding_driver_involved       0.125420\n",
       "Principal Arterial – Other Freeways and Express... other                          0.575080\n",
       "                                                   drunk_driver_involved          0.267838\n",
       "                                                   speeding_driver_involved       0.157082"
      ]
     },
     "execution_count": 179,
     "metadata": {},
     "output_type": "execute_result"
    }
   ],
   "source": [
    "pd.DataFrame(train_df.groupby(\"a_roadfc\")['driver_factor'].value_counts(normalize=True))"
   ]
  },
  {
   "cell_type": "markdown",
   "metadata": {},
   "source": [
    "### `a_junc` - whether crash occurred in proximity of a junction"
   ]
  },
  {
   "cell_type": "code",
   "execution_count": 44,
   "metadata": {},
   "outputs": [
    {
     "data": {
      "image/png": "[encoded data removed]",
      "text/plain": [
       "<Figure size 432x288 with 1 Axes>"
      ]
     },
     "metadata": {
      "needs_background": "light"
     },
     "output_type": "display_data"
    }
   ],
   "source": [
    "#plt.figure(figsize=(12,3))\n",
    "sns.countplot(x=train_df['a_junc'],hue=train_df['driver_factor']);\n",
    "#plt.xticks(rotation=60);"
   ]
  },
  {
   "cell_type": "code",
   "execution_count": 180,
   "metadata": {},
   "outputs": [
    {
     "data": {
      "text/html": [
       "<div>\n",
       "<style scoped>\n",
       "    .dataframe tbody tr th:only-of-type {\n",
       "        vertical-align: middle;\n",
       "    }\n",
       "\n",
       "    .dataframe tbody tr th {\n",
       "        vertical-align: top;\n",
       "    }\n",
       "\n",
       "    .dataframe thead th {\n",
       "        text-align: right;\n",
       "    }\n",
       "</style>\n",
       "<table border=\"1\" class=\"dataframe\">\n",
       "  <thead>\n",
       "    <tr style=\"text-align: right;\">\n",
       "      <th></th>\n",
       "      <th></th>\n",
       "      <th>driver_factor</th>\n",
       "    </tr>\n",
       "    <tr>\n",
       "      <th>a_junc</th>\n",
       "      <th>driver_factor</th>\n",
       "      <th></th>\n",
       "    </tr>\n",
       "  </thead>\n",
       "  <tbody>\n",
       "    <tr>\n",
       "      <th rowspan=\"3\" valign=\"top\">Junction</th>\n",
       "      <th>other</th>\n",
       "      <td>0.705347</td>\n",
       "    </tr>\n",
       "    <tr>\n",
       "      <th>drunk_driver_involved</th>\n",
       "      <td>0.174847</td>\n",
       "    </tr>\n",
       "    <tr>\n",
       "      <th>speeding_driver_involved</th>\n",
       "      <td>0.119806</td>\n",
       "    </tr>\n",
       "    <tr>\n",
       "      <th rowspan=\"3\" valign=\"top\">Non-Junction</th>\n",
       "      <th>other</th>\n",
       "      <td>0.547590</td>\n",
       "    </tr>\n",
       "    <tr>\n",
       "      <th>drunk_driver_involved</th>\n",
       "      <td>0.277303</td>\n",
       "    </tr>\n",
       "    <tr>\n",
       "      <th>speeding_driver_involved</th>\n",
       "      <td>0.175107</td>\n",
       "    </tr>\n",
       "    <tr>\n",
       "      <th rowspan=\"3\" valign=\"top\">Other</th>\n",
       "      <th>other</th>\n",
       "      <td>0.571737</td>\n",
       "    </tr>\n",
       "    <tr>\n",
       "      <th>drunk_driver_involved</th>\n",
       "      <td>0.265013</td>\n",
       "    </tr>\n",
       "    <tr>\n",
       "      <th>speeding_driver_involved</th>\n",
       "      <td>0.163251</td>\n",
       "    </tr>\n",
       "  </tbody>\n",
       "</table>\n",
       "</div>"
      ],
      "text/plain": [
       "                                       driver_factor\n",
       "a_junc       driver_factor                          \n",
       "Junction     other                          0.705347\n",
       "             drunk_driver_involved          0.174847\n",
       "             speeding_driver_involved       0.119806\n",
       "Non-Junction other                          0.547590\n",
       "             drunk_driver_involved          0.277303\n",
       "             speeding_driver_involved       0.175107\n",
       "Other        other                          0.571737\n",
       "             drunk_driver_involved          0.265013\n",
       "             speeding_driver_involved       0.163251"
      ]
     },
     "execution_count": 180,
     "metadata": {},
     "output_type": "execute_result"
    }
   ],
   "source": [
    "pd.DataFrame(train_df.groupby(\"a_junc\")['driver_factor'].value_counts(normalize=True))"
   ]
  },
  {
   "cell_type": "markdown",
   "metadata": {},
   "source": [
    "### `a_relrd` - identifies area of roadway where crash occurred, e.g. shoulder, median, etc."
   ]
  },
  {
   "cell_type": "code",
   "execution_count": 43,
   "metadata": {},
   "outputs": [
    {
     "data": {
      "image/png": "[encoded data removed]",
      "text/plain": [
       "<Figure size 864x216 with 1 Axes>"
      ]
     },
     "metadata": {
      "needs_background": "light"
     },
     "output_type": "display_data"
    }
   ],
   "source": [
    "plt.figure(figsize=(12,3))\n",
    "sns.countplot(x=train_df['a_relrd'],hue=train_df['driver_factor']);\n",
    "#plt.xticks(rotation=60);"
   ]
  },
  {
   "cell_type": "code",
   "execution_count": 181,
   "metadata": {},
   "outputs": [
    {
     "data": {
      "text/html": [
       "<div>\n",
       "<style scoped>\n",
       "    .dataframe tbody tr th:only-of-type {\n",
       "        vertical-align: middle;\n",
       "    }\n",
       "\n",
       "    .dataframe tbody tr th {\n",
       "        vertical-align: top;\n",
       "    }\n",
       "\n",
       "    .dataframe thead th {\n",
       "        text-align: right;\n",
       "    }\n",
       "</style>\n",
       "<table border=\"1\" class=\"dataframe\">\n",
       "  <thead>\n",
       "    <tr style=\"text-align: right;\">\n",
       "      <th></th>\n",
       "      <th></th>\n",
       "      <th>driver_factor</th>\n",
       "    </tr>\n",
       "    <tr>\n",
       "      <th>a_relrd</th>\n",
       "      <th>driver_factor</th>\n",
       "      <th></th>\n",
       "    </tr>\n",
       "  </thead>\n",
       "  <tbody>\n",
       "    <tr>\n",
       "      <th rowspan=\"3\" valign=\"top\">Off Roadway/Median</th>\n",
       "      <th>other</th>\n",
       "      <td>0.495871</td>\n",
       "    </tr>\n",
       "    <tr>\n",
       "      <th>drunk_driver_involved</th>\n",
       "      <td>0.303303</td>\n",
       "    </tr>\n",
       "    <tr>\n",
       "      <th>speeding_driver_involved</th>\n",
       "      <td>0.200826</td>\n",
       "    </tr>\n",
       "    <tr>\n",
       "      <th rowspan=\"3\" valign=\"top\">Off Roadway/Other</th>\n",
       "      <th>other</th>\n",
       "      <td>0.411638</td>\n",
       "    </tr>\n",
       "    <tr>\n",
       "      <th>drunk_driver_involved</th>\n",
       "      <td>0.367227</td>\n",
       "    </tr>\n",
       "    <tr>\n",
       "      <th>speeding_driver_involved</th>\n",
       "      <td>0.221135</td>\n",
       "    </tr>\n",
       "    <tr>\n",
       "      <th rowspan=\"3\" valign=\"top\">Off Roadway/Shoulder</th>\n",
       "      <th>other</th>\n",
       "      <td>0.633149</td>\n",
       "    </tr>\n",
       "    <tr>\n",
       "      <th>drunk_driver_involved</th>\n",
       "      <td>0.232044</td>\n",
       "    </tr>\n",
       "    <tr>\n",
       "      <th>speeding_driver_involved</th>\n",
       "      <td>0.134807</td>\n",
       "    </tr>\n",
       "    <tr>\n",
       "      <th rowspan=\"3\" valign=\"top\">On Roadway</th>\n",
       "      <th>other</th>\n",
       "      <td>0.847214</td>\n",
       "    </tr>\n",
       "    <tr>\n",
       "      <th>drunk_driver_involved</th>\n",
       "      <td>0.081298</td>\n",
       "    </tr>\n",
       "    <tr>\n",
       "      <th>speeding_driver_involved</th>\n",
       "      <td>0.071488</td>\n",
       "    </tr>\n",
       "    <tr>\n",
       "      <th rowspan=\"3\" valign=\"top\">Other/Unknown</th>\n",
       "      <th>other</th>\n",
       "      <td>0.808824</td>\n",
       "    </tr>\n",
       "    <tr>\n",
       "      <th>drunk_driver_involved</th>\n",
       "      <td>0.147059</td>\n",
       "    </tr>\n",
       "    <tr>\n",
       "      <th>speeding_driver_involved</th>\n",
       "      <td>0.044118</td>\n",
       "    </tr>\n",
       "  </tbody>\n",
       "</table>\n",
       "</div>"
      ],
      "text/plain": [
       "                                               driver_factor\n",
       "a_relrd              driver_factor                          \n",
       "Off Roadway/Median   other                          0.495871\n",
       "                     drunk_driver_involved          0.303303\n",
       "                     speeding_driver_involved       0.200826\n",
       "Off Roadway/Other    other                          0.411638\n",
       "                     drunk_driver_involved          0.367227\n",
       "                     speeding_driver_involved       0.221135\n",
       "Off Roadway/Shoulder other                          0.633149\n",
       "                     drunk_driver_involved          0.232044\n",
       "                     speeding_driver_involved       0.134807\n",
       "On Roadway           other                          0.847214\n",
       "                     drunk_driver_involved          0.081298\n",
       "                     speeding_driver_involved       0.071488\n",
       "Other/Unknown        other                          0.808824\n",
       "                     drunk_driver_involved          0.147059\n",
       "                     speeding_driver_involved       0.044118"
      ]
     },
     "execution_count": 181,
     "metadata": {},
     "output_type": "execute_result"
    }
   ],
   "source": [
    "pd.DataFrame(train_df.groupby(\"a_relrd\")['driver_factor'].value_counts(normalize=True))"
   ]
  },
  {
   "cell_type": "markdown",
   "metadata": {},
   "source": [
    "### `age` - identifies age of driver\n",
    "\n",
    "Keep this because drinking and speeding tend to skew younger"
   ]
  },
  {
   "cell_type": "code",
   "execution_count": 42,
   "metadata": {},
   "outputs": [
    {
     "data": {
      "text/plain": [
       "<AxesSubplot:xlabel='age', ylabel='Count'>"
      ]
     },
     "execution_count": 42,
     "metadata": {},
     "output_type": "execute_result"
    },
    {
     "data": {
      "image/png": "[encoded data removed]",
      "text/plain": [
       "<Figure size 432x288 with 1 Axes>"
      ]
     },
     "metadata": {
      "needs_background": "light"
     },
     "output_type": "display_data"
    }
   ],
   "source": [
    "sns.histplot(x=train_df['age'],hue=train_df['driver_factor'],kde=True)"
   ]
  },
  {
   "cell_type": "code",
   "execution_count": 152,
   "metadata": {},
   "outputs": [
    {
     "data": {
      "text/html": [
       "<div>\n",
       "<style scoped>\n",
       "    .dataframe tbody tr th:only-of-type {\n",
       "        vertical-align: middle;\n",
       "    }\n",
       "\n",
       "    .dataframe tbody tr th {\n",
       "        vertical-align: top;\n",
       "    }\n",
       "\n",
       "    .dataframe thead th {\n",
       "        text-align: right;\n",
       "    }\n",
       "</style>\n",
       "<table border=\"1\" class=\"dataframe\">\n",
       "  <thead>\n",
       "    <tr style=\"text-align: right;\">\n",
       "      <th></th>\n",
       "      <th>count</th>\n",
       "      <th>mean</th>\n",
       "      <th>std</th>\n",
       "      <th>min</th>\n",
       "      <th>25%</th>\n",
       "      <th>50%</th>\n",
       "      <th>75%</th>\n",
       "      <th>max</th>\n",
       "    </tr>\n",
       "    <tr>\n",
       "      <th>driver_factor</th>\n",
       "      <th></th>\n",
       "      <th></th>\n",
       "      <th></th>\n",
       "      <th></th>\n",
       "      <th></th>\n",
       "      <th></th>\n",
       "      <th></th>\n",
       "      <th></th>\n",
       "    </tr>\n",
       "  </thead>\n",
       "  <tbody>\n",
       "    <tr>\n",
       "      <th>drunk_driver_involved</th>\n",
       "      <td>11863.0</td>\n",
       "      <td>37.0</td>\n",
       "      <td>14.0</td>\n",
       "      <td>14.0</td>\n",
       "      <td>25.0</td>\n",
       "      <td>34.0</td>\n",
       "      <td>48.0</td>\n",
       "      <td>96.0</td>\n",
       "    </tr>\n",
       "    <tr>\n",
       "      <th>other</th>\n",
       "      <td>25887.0</td>\n",
       "      <td>45.0</td>\n",
       "      <td>19.0</td>\n",
       "      <td>13.0</td>\n",
       "      <td>28.0</td>\n",
       "      <td>44.0</td>\n",
       "      <td>59.0</td>\n",
       "      <td>97.0</td>\n",
       "    </tr>\n",
       "    <tr>\n",
       "      <th>speeding_driver_involved</th>\n",
       "      <td>7536.0</td>\n",
       "      <td>37.0</td>\n",
       "      <td>18.0</td>\n",
       "      <td>13.0</td>\n",
       "      <td>22.0</td>\n",
       "      <td>32.0</td>\n",
       "      <td>49.0</td>\n",
       "      <td>97.0</td>\n",
       "    </tr>\n",
       "  </tbody>\n",
       "</table>\n",
       "</div>"
      ],
      "text/plain": [
       "                            count  mean   std   min   25%   50%   75%   max\n",
       "driver_factor                                                              \n",
       "drunk_driver_involved     11863.0  37.0  14.0  14.0  25.0  34.0  48.0  96.0\n",
       "other                     25887.0  45.0  19.0  13.0  28.0  44.0  59.0  97.0\n",
       "speeding_driver_involved   7536.0  37.0  18.0  13.0  22.0  32.0  49.0  97.0"
      ]
     },
     "execution_count": 152,
     "metadata": {},
     "output_type": "execute_result"
    }
   ],
   "source": [
    "np.round(train_df.groupby('driver_factor')['age'].describe())"
   ]
  },
  {
   "cell_type": "markdown",
   "metadata": {},
   "source": [
    "### `permvit` - number of person in motor vehicles in transport\n",
    "\n",
    "Drop this, I don't think there's a meaningful difference in the target variable as the number changes"
   ]
  },
  {
   "cell_type": "code",
   "execution_count": 159,
   "metadata": {},
   "outputs": [
    {
     "data": {
      "text/html": [
       "<div>\n",
       "<style scoped>\n",
       "    .dataframe tbody tr th:only-of-type {\n",
       "        vertical-align: middle;\n",
       "    }\n",
       "\n",
       "    .dataframe tbody tr th {\n",
       "        vertical-align: top;\n",
       "    }\n",
       "\n",
       "    .dataframe thead th {\n",
       "        text-align: right;\n",
       "    }\n",
       "</style>\n",
       "<table border=\"1\" class=\"dataframe\">\n",
       "  <thead>\n",
       "    <tr style=\"text-align: right;\">\n",
       "      <th></th>\n",
       "      <th></th>\n",
       "      <th>driver_factor</th>\n",
       "    </tr>\n",
       "    <tr>\n",
       "      <th>permvit</th>\n",
       "      <th>driver_factor</th>\n",
       "      <th></th>\n",
       "    </tr>\n",
       "  </thead>\n",
       "  <tbody>\n",
       "    <tr>\n",
       "      <th rowspan=\"3\" valign=\"top\">1</th>\n",
       "      <th>other</th>\n",
       "      <td>0.580025</td>\n",
       "    </tr>\n",
       "    <tr>\n",
       "      <th>drunk_driver_involved</th>\n",
       "      <td>0.267904</td>\n",
       "    </tr>\n",
       "    <tr>\n",
       "      <th>speeding_driver_involved</th>\n",
       "      <td>0.152071</td>\n",
       "    </tr>\n",
       "    <tr>\n",
       "      <th rowspan=\"3\" valign=\"top\">2</th>\n",
       "      <th>other</th>\n",
       "      <td>0.552654</td>\n",
       "    </tr>\n",
       "    <tr>\n",
       "      <th>drunk_driver_involved</th>\n",
       "      <td>0.262229</td>\n",
       "    </tr>\n",
       "    <tr>\n",
       "      <th>speeding_driver_involved</th>\n",
       "      <td>0.185117</td>\n",
       "    </tr>\n",
       "    <tr>\n",
       "      <th rowspan=\"3\" valign=\"top\">3</th>\n",
       "      <th>other</th>\n",
       "      <td>0.533493</td>\n",
       "    </tr>\n",
       "    <tr>\n",
       "      <th>drunk_driver_involved</th>\n",
       "      <td>0.237241</td>\n",
       "    </tr>\n",
       "    <tr>\n",
       "      <th>speeding_driver_involved</th>\n",
       "      <td>0.229266</td>\n",
       "    </tr>\n",
       "    <tr>\n",
       "      <th rowspan=\"3\" valign=\"top\">4</th>\n",
       "      <th>other</th>\n",
       "      <td>0.545533</td>\n",
       "    </tr>\n",
       "    <tr>\n",
       "      <th>drunk_driver_involved</th>\n",
       "      <td>0.228522</td>\n",
       "    </tr>\n",
       "    <tr>\n",
       "      <th>speeding_driver_involved</th>\n",
       "      <td>0.225945</td>\n",
       "    </tr>\n",
       "    <tr>\n",
       "      <th rowspan=\"3\" valign=\"top\">5</th>\n",
       "      <th>other</th>\n",
       "      <td>0.547094</td>\n",
       "    </tr>\n",
       "    <tr>\n",
       "      <th>speeding_driver_involved</th>\n",
       "      <td>0.270541</td>\n",
       "    </tr>\n",
       "    <tr>\n",
       "      <th>drunk_driver_involved</th>\n",
       "      <td>0.182365</td>\n",
       "    </tr>\n",
       "    <tr>\n",
       "      <th rowspan=\"3\" valign=\"top\">6</th>\n",
       "      <th>other</th>\n",
       "      <td>0.569832</td>\n",
       "    </tr>\n",
       "    <tr>\n",
       "      <th>speeding_driver_involved</th>\n",
       "      <td>0.268156</td>\n",
       "    </tr>\n",
       "    <tr>\n",
       "      <th>drunk_driver_involved</th>\n",
       "      <td>0.162011</td>\n",
       "    </tr>\n",
       "    <tr>\n",
       "      <th rowspan=\"3\" valign=\"top\">7</th>\n",
       "      <th>other</th>\n",
       "      <td>0.655172</td>\n",
       "    </tr>\n",
       "    <tr>\n",
       "      <th>speeding_driver_involved</th>\n",
       "      <td>0.298851</td>\n",
       "    </tr>\n",
       "    <tr>\n",
       "      <th>drunk_driver_involved</th>\n",
       "      <td>0.045977</td>\n",
       "    </tr>\n",
       "    <tr>\n",
       "      <th rowspan=\"3\" valign=\"top\">8</th>\n",
       "      <th>other</th>\n",
       "      <td>0.846154</td>\n",
       "    </tr>\n",
       "    <tr>\n",
       "      <th>speeding_driver_involved</th>\n",
       "      <td>0.102564</td>\n",
       "    </tr>\n",
       "    <tr>\n",
       "      <th>drunk_driver_involved</th>\n",
       "      <td>0.051282</td>\n",
       "    </tr>\n",
       "    <tr>\n",
       "      <th rowspan=\"3\" valign=\"top\">9</th>\n",
       "      <th>other</th>\n",
       "      <td>0.578947</td>\n",
       "    </tr>\n",
       "    <tr>\n",
       "      <th>speeding_driver_involved</th>\n",
       "      <td>0.263158</td>\n",
       "    </tr>\n",
       "    <tr>\n",
       "      <th>drunk_driver_involved</th>\n",
       "      <td>0.157895</td>\n",
       "    </tr>\n",
       "    <tr>\n",
       "      <th rowspan=\"3\" valign=\"top\">10</th>\n",
       "      <th>other</th>\n",
       "      <td>0.727273</td>\n",
       "    </tr>\n",
       "    <tr>\n",
       "      <th>speeding_driver_involved</th>\n",
       "      <td>0.181818</td>\n",
       "    </tr>\n",
       "    <tr>\n",
       "      <th>drunk_driver_involved</th>\n",
       "      <td>0.090909</td>\n",
       "    </tr>\n",
       "    <tr>\n",
       "      <th rowspan=\"3\" valign=\"top\">11</th>\n",
       "      <th>other</th>\n",
       "      <td>0.500000</td>\n",
       "    </tr>\n",
       "    <tr>\n",
       "      <th>speeding_driver_involved</th>\n",
       "      <td>0.375000</td>\n",
       "    </tr>\n",
       "    <tr>\n",
       "      <th>drunk_driver_involved</th>\n",
       "      <td>0.125000</td>\n",
       "    </tr>\n",
       "    <tr>\n",
       "      <th>12</th>\n",
       "      <th>other</th>\n",
       "      <td>1.000000</td>\n",
       "    </tr>\n",
       "    <tr>\n",
       "      <th rowspan=\"2\" valign=\"top\">13</th>\n",
       "      <th>other</th>\n",
       "      <td>0.750000</td>\n",
       "    </tr>\n",
       "    <tr>\n",
       "      <th>speeding_driver_involved</th>\n",
       "      <td>0.250000</td>\n",
       "    </tr>\n",
       "    <tr>\n",
       "      <th rowspan=\"2\" valign=\"top\">14</th>\n",
       "      <th>other</th>\n",
       "      <td>0.666667</td>\n",
       "    </tr>\n",
       "    <tr>\n",
       "      <th>speeding_driver_involved</th>\n",
       "      <td>0.333333</td>\n",
       "    </tr>\n",
       "    <tr>\n",
       "      <th>15</th>\n",
       "      <th>speeding_driver_involved</th>\n",
       "      <td>1.000000</td>\n",
       "    </tr>\n",
       "    <tr>\n",
       "      <th rowspan=\"2\" valign=\"top\">16</th>\n",
       "      <th>drunk_driver_involved</th>\n",
       "      <td>0.500000</td>\n",
       "    </tr>\n",
       "    <tr>\n",
       "      <th>other</th>\n",
       "      <td>0.500000</td>\n",
       "    </tr>\n",
       "    <tr>\n",
       "      <th>17</th>\n",
       "      <th>speeding_driver_involved</th>\n",
       "      <td>1.000000</td>\n",
       "    </tr>\n",
       "    <tr>\n",
       "      <th>18</th>\n",
       "      <th>speeding_driver_involved</th>\n",
       "      <td>1.000000</td>\n",
       "    </tr>\n",
       "    <tr>\n",
       "      <th>22</th>\n",
       "      <th>other</th>\n",
       "      <td>1.000000</td>\n",
       "    </tr>\n",
       "    <tr>\n",
       "      <th>24</th>\n",
       "      <th>other</th>\n",
       "      <td>1.000000</td>\n",
       "    </tr>\n",
       "    <tr>\n",
       "      <th>34</th>\n",
       "      <th>other</th>\n",
       "      <td>1.000000</td>\n",
       "    </tr>\n",
       "    <tr>\n",
       "      <th>35</th>\n",
       "      <th>speeding_driver_involved</th>\n",
       "      <td>1.000000</td>\n",
       "    </tr>\n",
       "    <tr>\n",
       "      <th>38</th>\n",
       "      <th>speeding_driver_involved</th>\n",
       "      <td>1.000000</td>\n",
       "    </tr>\n",
       "    <tr>\n",
       "      <th rowspan=\"2\" valign=\"top\">47</th>\n",
       "      <th>other</th>\n",
       "      <td>0.500000</td>\n",
       "    </tr>\n",
       "    <tr>\n",
       "      <th>speeding_driver_involved</th>\n",
       "      <td>0.500000</td>\n",
       "    </tr>\n",
       "    <tr>\n",
       "      <th>50</th>\n",
       "      <th>other</th>\n",
       "      <td>1.000000</td>\n",
       "    </tr>\n",
       "    <tr>\n",
       "      <th>52</th>\n",
       "      <th>speeding_driver_involved</th>\n",
       "      <td>1.000000</td>\n",
       "    </tr>\n",
       "  </tbody>\n",
       "</table>\n",
       "</div>"
      ],
      "text/plain": [
       "                                  driver_factor\n",
       "permvit driver_factor                          \n",
       "1       other                          0.580025\n",
       "        drunk_driver_involved          0.267904\n",
       "        speeding_driver_involved       0.152071\n",
       "2       other                          0.552654\n",
       "        drunk_driver_involved          0.262229\n",
       "        speeding_driver_involved       0.185117\n",
       "3       other                          0.533493\n",
       "        drunk_driver_involved          0.237241\n",
       "        speeding_driver_involved       0.229266\n",
       "4       other                          0.545533\n",
       "        drunk_driver_involved          0.228522\n",
       "        speeding_driver_involved       0.225945\n",
       "5       other                          0.547094\n",
       "        speeding_driver_involved       0.270541\n",
       "        drunk_driver_involved          0.182365\n",
       "6       other                          0.569832\n",
       "        speeding_driver_involved       0.268156\n",
       "        drunk_driver_involved          0.162011\n",
       "7       other                          0.655172\n",
       "        speeding_driver_involved       0.298851\n",
       "        drunk_driver_involved          0.045977\n",
       "8       other                          0.846154\n",
       "        speeding_driver_involved       0.102564\n",
       "        drunk_driver_involved          0.051282\n",
       "9       other                          0.578947\n",
       "        speeding_driver_involved       0.263158\n",
       "        drunk_driver_involved          0.157895\n",
       "10      other                          0.727273\n",
       "        speeding_driver_involved       0.181818\n",
       "        drunk_driver_involved          0.090909\n",
       "11      other                          0.500000\n",
       "        speeding_driver_involved       0.375000\n",
       "        drunk_driver_involved          0.125000\n",
       "12      other                          1.000000\n",
       "13      other                          0.750000\n",
       "        speeding_driver_involved       0.250000\n",
       "14      other                          0.666667\n",
       "        speeding_driver_involved       0.333333\n",
       "15      speeding_driver_involved       1.000000\n",
       "16      drunk_driver_involved          0.500000\n",
       "        other                          0.500000\n",
       "17      speeding_driver_involved       1.000000\n",
       "18      speeding_driver_involved       1.000000\n",
       "22      other                          1.000000\n",
       "24      other                          1.000000\n",
       "34      other                          1.000000\n",
       "35      speeding_driver_involved       1.000000\n",
       "38      speeding_driver_involved       1.000000\n",
       "47      other                          0.500000\n",
       "        speeding_driver_involved       0.500000\n",
       "50      other                          1.000000\n",
       "52      speeding_driver_involved       1.000000"
      ]
     },
     "execution_count": 159,
     "metadata": {},
     "output_type": "execute_result"
    }
   ],
   "source": [
    "pd.DataFrame(train_df.groupby('permvit')['driver_factor'].value_counts(normalize=True))"
   ]
  },
  {
   "cell_type": "markdown",
   "metadata": {},
   "source": [
    "### `pernotmvit` - number of persons not in motor vehicles in-transport\n",
    "\n",
    "Keep this because the distributions change as the number changes"
   ]
  },
  {
   "cell_type": "code",
   "execution_count": 160,
   "metadata": {},
   "outputs": [
    {
     "data": {
      "text/html": [
       "<div>\n",
       "<style scoped>\n",
       "    .dataframe tbody tr th:only-of-type {\n",
       "        vertical-align: middle;\n",
       "    }\n",
       "\n",
       "    .dataframe tbody tr th {\n",
       "        vertical-align: top;\n",
       "    }\n",
       "\n",
       "    .dataframe thead th {\n",
       "        text-align: right;\n",
       "    }\n",
       "</style>\n",
       "<table border=\"1\" class=\"dataframe\">\n",
       "  <thead>\n",
       "    <tr style=\"text-align: right;\">\n",
       "      <th></th>\n",
       "      <th></th>\n",
       "      <th>driver_factor</th>\n",
       "    </tr>\n",
       "    <tr>\n",
       "      <th>pernotmvit</th>\n",
       "      <th>driver_factor</th>\n",
       "      <th></th>\n",
       "    </tr>\n",
       "  </thead>\n",
       "  <tbody>\n",
       "    <tr>\n",
       "      <th rowspan=\"3\" valign=\"top\">0</th>\n",
       "      <th>other</th>\n",
       "      <td>0.430942</td>\n",
       "    </tr>\n",
       "    <tr>\n",
       "      <th>drunk_driver_involved</th>\n",
       "      <td>0.353795</td>\n",
       "    </tr>\n",
       "    <tr>\n",
       "      <th>speeding_driver_involved</th>\n",
       "      <td>0.215263</td>\n",
       "    </tr>\n",
       "    <tr>\n",
       "      <th rowspan=\"3\" valign=\"top\">1</th>\n",
       "      <th>other</th>\n",
       "      <td>0.892998</td>\n",
       "    </tr>\n",
       "    <tr>\n",
       "      <th>drunk_driver_involved</th>\n",
       "      <td>0.053539</td>\n",
       "    </tr>\n",
       "    <tr>\n",
       "      <th>speeding_driver_involved</th>\n",
       "      <td>0.053463</td>\n",
       "    </tr>\n",
       "    <tr>\n",
       "      <th rowspan=\"3\" valign=\"top\">2</th>\n",
       "      <th>other</th>\n",
       "      <td>0.772152</td>\n",
       "    </tr>\n",
       "    <tr>\n",
       "      <th>speeding_driver_involved</th>\n",
       "      <td>0.121835</td>\n",
       "    </tr>\n",
       "    <tr>\n",
       "      <th>drunk_driver_involved</th>\n",
       "      <td>0.106013</td>\n",
       "    </tr>\n",
       "    <tr>\n",
       "      <th rowspan=\"3\" valign=\"top\">3</th>\n",
       "      <th>other</th>\n",
       "      <td>0.650794</td>\n",
       "    </tr>\n",
       "    <tr>\n",
       "      <th>drunk_driver_involved</th>\n",
       "      <td>0.182540</td>\n",
       "    </tr>\n",
       "    <tr>\n",
       "      <th>speeding_driver_involved</th>\n",
       "      <td>0.166667</td>\n",
       "    </tr>\n",
       "    <tr>\n",
       "      <th rowspan=\"3\" valign=\"top\">4</th>\n",
       "      <th>other</th>\n",
       "      <td>0.666667</td>\n",
       "    </tr>\n",
       "    <tr>\n",
       "      <th>drunk_driver_involved</th>\n",
       "      <td>0.200000</td>\n",
       "    </tr>\n",
       "    <tr>\n",
       "      <th>speeding_driver_involved</th>\n",
       "      <td>0.133333</td>\n",
       "    </tr>\n",
       "    <tr>\n",
       "      <th rowspan=\"3\" valign=\"top\">5</th>\n",
       "      <th>other</th>\n",
       "      <td>0.586207</td>\n",
       "    </tr>\n",
       "    <tr>\n",
       "      <th>drunk_driver_involved</th>\n",
       "      <td>0.275862</td>\n",
       "    </tr>\n",
       "    <tr>\n",
       "      <th>speeding_driver_involved</th>\n",
       "      <td>0.137931</td>\n",
       "    </tr>\n",
       "    <tr>\n",
       "      <th rowspan=\"3\" valign=\"top\">6</th>\n",
       "      <th>other</th>\n",
       "      <td>0.625000</td>\n",
       "    </tr>\n",
       "    <tr>\n",
       "      <th>drunk_driver_involved</th>\n",
       "      <td>0.250000</td>\n",
       "    </tr>\n",
       "    <tr>\n",
       "      <th>speeding_driver_involved</th>\n",
       "      <td>0.125000</td>\n",
       "    </tr>\n",
       "    <tr>\n",
       "      <th>7</th>\n",
       "      <th>other</th>\n",
       "      <td>1.000000</td>\n",
       "    </tr>\n",
       "    <tr>\n",
       "      <th rowspan=\"2\" valign=\"top\">8</th>\n",
       "      <th>drunk_driver_involved</th>\n",
       "      <td>0.500000</td>\n",
       "    </tr>\n",
       "    <tr>\n",
       "      <th>other</th>\n",
       "      <td>0.500000</td>\n",
       "    </tr>\n",
       "    <tr>\n",
       "      <th>9</th>\n",
       "      <th>other</th>\n",
       "      <td>1.000000</td>\n",
       "    </tr>\n",
       "    <tr>\n",
       "      <th>11</th>\n",
       "      <th>drunk_driver_involved</th>\n",
       "      <td>1.000000</td>\n",
       "    </tr>\n",
       "    <tr>\n",
       "      <th>12</th>\n",
       "      <th>drunk_driver_involved</th>\n",
       "      <td>1.000000</td>\n",
       "    </tr>\n",
       "    <tr>\n",
       "      <th>23</th>\n",
       "      <th>speeding_driver_involved</th>\n",
       "      <td>1.000000</td>\n",
       "    </tr>\n",
       "  </tbody>\n",
       "</table>\n",
       "</div>"
      ],
      "text/plain": [
       "                                     driver_factor\n",
       "pernotmvit driver_factor                          \n",
       "0          other                          0.430942\n",
       "           drunk_driver_involved          0.353795\n",
       "           speeding_driver_involved       0.215263\n",
       "1          other                          0.892998\n",
       "           drunk_driver_involved          0.053539\n",
       "           speeding_driver_involved       0.053463\n",
       "2          other                          0.772152\n",
       "           speeding_driver_involved       0.121835\n",
       "           drunk_driver_involved          0.106013\n",
       "3          other                          0.650794\n",
       "           drunk_driver_involved          0.182540\n",
       "           speeding_driver_involved       0.166667\n",
       "4          other                          0.666667\n",
       "           drunk_driver_involved          0.200000\n",
       "           speeding_driver_involved       0.133333\n",
       "5          other                          0.586207\n",
       "           drunk_driver_involved          0.275862\n",
       "           speeding_driver_involved       0.137931\n",
       "6          other                          0.625000\n",
       "           drunk_driver_involved          0.250000\n",
       "           speeding_driver_involved       0.125000\n",
       "7          other                          1.000000\n",
       "8          drunk_driver_involved          0.500000\n",
       "           other                          0.500000\n",
       "9          other                          1.000000\n",
       "11         drunk_driver_involved          1.000000\n",
       "12         drunk_driver_involved          1.000000\n",
       "23         speeding_driver_involved       1.000000"
      ]
     },
     "execution_count": 160,
     "metadata": {},
     "output_type": "execute_result"
    }
   ],
   "source": [
    "pd.DataFrame(train_df.groupby(\"pernotmvit\")['driver_factor'].value_counts(normalize=True))"
   ]
  },
  {
   "cell_type": "markdown",
   "metadata": {},
   "source": [
    "### `a_ped` - whether crash involved a pedestrian"
   ]
  },
  {
   "cell_type": "code",
   "execution_count": 33,
   "metadata": {},
   "outputs": [
    {
     "data": {
      "image/png": "[encoded data removed]",
      "text/plain": [
       "<Figure size 432x288 with 1 Axes>"
      ]
     },
     "metadata": {
      "needs_background": "light"
     },
     "output_type": "display_data"
    }
   ],
   "source": [
    "sns.countplot(x=train_df['a_ped'], hue=train_df['driver_factor']);"
   ]
  },
  {
   "cell_type": "code",
   "execution_count": 182,
   "metadata": {},
   "outputs": [
    {
     "data": {
      "text/html": [
       "<div>\n",
       "<style scoped>\n",
       "    .dataframe tbody tr th:only-of-type {\n",
       "        vertical-align: middle;\n",
       "    }\n",
       "\n",
       "    .dataframe tbody tr th {\n",
       "        vertical-align: top;\n",
       "    }\n",
       "\n",
       "    .dataframe thead th {\n",
       "        text-align: right;\n",
       "    }\n",
       "</style>\n",
       "<table border=\"1\" class=\"dataframe\">\n",
       "  <thead>\n",
       "    <tr style=\"text-align: right;\">\n",
       "      <th></th>\n",
       "      <th></th>\n",
       "      <th>driver_factor</th>\n",
       "    </tr>\n",
       "    <tr>\n",
       "      <th>a_ped</th>\n",
       "      <th>driver_factor</th>\n",
       "      <th></th>\n",
       "    </tr>\n",
       "  </thead>\n",
       "  <tbody>\n",
       "    <tr>\n",
       "      <th rowspan=\"3\" valign=\"top\">no</th>\n",
       "      <th>other</th>\n",
       "      <td>0.459789</td>\n",
       "    </tr>\n",
       "    <tr>\n",
       "      <th>drunk_driver_involved</th>\n",
       "      <td>0.334559</td>\n",
       "    </tr>\n",
       "    <tr>\n",
       "      <th>speeding_driver_involved</th>\n",
       "      <td>0.205652</td>\n",
       "    </tr>\n",
       "    <tr>\n",
       "      <th rowspan=\"3\" valign=\"top\">yes</th>\n",
       "      <th>other</th>\n",
       "      <td>0.897786</td>\n",
       "    </tr>\n",
       "    <tr>\n",
       "      <th>speeding_driver_involved</th>\n",
       "      <td>0.051972</td>\n",
       "    </tr>\n",
       "    <tr>\n",
       "      <th>drunk_driver_involved</th>\n",
       "      <td>0.050242</td>\n",
       "    </tr>\n",
       "  </tbody>\n",
       "</table>\n",
       "</div>"
      ],
      "text/plain": [
       "                                driver_factor\n",
       "a_ped driver_factor                          \n",
       "no    other                          0.459789\n",
       "      drunk_driver_involved          0.334559\n",
       "      speeding_driver_involved       0.205652\n",
       "yes   other                          0.897786\n",
       "      speeding_driver_involved       0.051972\n",
       "      drunk_driver_involved          0.050242"
      ]
     },
     "execution_count": 182,
     "metadata": {},
     "output_type": "execute_result"
    }
   ],
   "source": [
    "pd.DataFrame(train_df.groupby(\"a_ped\")['driver_factor'].value_counts(normalize=True))"
   ]
  },
  {
   "cell_type": "markdown",
   "metadata": {},
   "source": [
    "### `mod_year` - vehicle model year\n",
    "\n",
    "Drop this, I don't think it makes a difference"
   ]
  },
  {
   "cell_type": "code",
   "execution_count": 68,
   "metadata": {},
   "outputs": [
    {
     "data": {
      "image/png": "[encoded data removed]",
      "text/plain": [
       "<Figure size 864x216 with 1 Axes>"
      ]
     },
     "metadata": {
      "needs_background": "light"
     },
     "output_type": "display_data"
    }
   ],
   "source": [
    "plt.figure(figsize=(12,3))\n",
    "sns.histplot(x=train_df['mod_year'], hue=train_df['driver_factor'], kde=True,multiple=\"stack\");"
   ]
  },
  {
   "cell_type": "markdown",
   "metadata": {},
   "source": [
    "### `a_body` - vehicle body type (e.g. motorcycle, light truck, etc)\n",
    "\n",
    "Keep this because the distributions change as the cagtegory changes. For example, Bus drivers are rarely speeding or drinking"
   ]
  },
  {
   "cell_type": "code",
   "execution_count": 72,
   "metadata": {},
   "outputs": [
    {
     "data": {
      "image/png": "[encoded data removed]",
      "text/plain": [
       "<Figure size 864x216 with 1 Axes>"
      ]
     },
     "metadata": {
      "needs_background": "light"
     },
     "output_type": "display_data"
    }
   ],
   "source": [
    "plt.figure(figsize=(12,3))\n",
    "sns.countplot(x=train_df['a_body'], hue=train_df['driver_factor'])\n",
    "plt.xticks(rotation=60);"
   ]
  },
  {
   "cell_type": "code",
   "execution_count": 75,
   "metadata": {},
   "outputs": [
    {
     "data": {
      "text/html": [
       "<div>\n",
       "<style scoped>\n",
       "    .dataframe tbody tr th:only-of-type {\n",
       "        vertical-align: middle;\n",
       "    }\n",
       "\n",
       "    .dataframe tbody tr th {\n",
       "        vertical-align: top;\n",
       "    }\n",
       "\n",
       "    .dataframe thead th {\n",
       "        text-align: right;\n",
       "    }\n",
       "</style>\n",
       "<table border=\"1\" class=\"dataframe\">\n",
       "  <thead>\n",
       "    <tr style=\"text-align: right;\">\n",
       "      <th></th>\n",
       "      <th></th>\n",
       "      <th>driver_factor</th>\n",
       "    </tr>\n",
       "    <tr>\n",
       "      <th>a_body</th>\n",
       "      <th>driver_factor</th>\n",
       "      <th></th>\n",
       "    </tr>\n",
       "  </thead>\n",
       "  <tbody>\n",
       "    <tr>\n",
       "      <th rowspan=\"3\" valign=\"top\">Automobiles</th>\n",
       "      <th>other</th>\n",
       "      <td>0.56</td>\n",
       "    </tr>\n",
       "    <tr>\n",
       "      <th>drunk_driver_involved</th>\n",
       "      <td>0.27</td>\n",
       "    </tr>\n",
       "    <tr>\n",
       "      <th>speeding_driver_involved</th>\n",
       "      <td>0.18</td>\n",
       "    </tr>\n",
       "    <tr>\n",
       "      <th rowspan=\"3\" valign=\"top\">Buses</th>\n",
       "      <th>other</th>\n",
       "      <td>0.93</td>\n",
       "    </tr>\n",
       "    <tr>\n",
       "      <th>speeding_driver_involved</th>\n",
       "      <td>0.06</td>\n",
       "    </tr>\n",
       "    <tr>\n",
       "      <th>drunk_driver_involved</th>\n",
       "      <td>0.01</td>\n",
       "    </tr>\n",
       "    <tr>\n",
       "      <th rowspan=\"3\" valign=\"top\">Light Conventional Trucks</th>\n",
       "      <th>other</th>\n",
       "      <td>0.56</td>\n",
       "    </tr>\n",
       "    <tr>\n",
       "      <th>drunk_driver_involved</th>\n",
       "      <td>0.30</td>\n",
       "    </tr>\n",
       "    <tr>\n",
       "      <th>speeding_driver_involved</th>\n",
       "      <td>0.14</td>\n",
       "    </tr>\n",
       "    <tr>\n",
       "      <th rowspan=\"3\" valign=\"top\">Medium/Heavy Trucks</th>\n",
       "      <th>other</th>\n",
       "      <td>0.83</td>\n",
       "    </tr>\n",
       "    <tr>\n",
       "      <th>speeding_driver_involved</th>\n",
       "      <td>0.10</td>\n",
       "    </tr>\n",
       "    <tr>\n",
       "      <th>drunk_driver_involved</th>\n",
       "      <td>0.07</td>\n",
       "    </tr>\n",
       "    <tr>\n",
       "      <th rowspan=\"3\" valign=\"top\">Motorcycles, Mopeds, All-Terrain Vehicles; All-Terrain Cycles</th>\n",
       "      <th>other</th>\n",
       "      <td>0.39</td>\n",
       "    </tr>\n",
       "    <tr>\n",
       "      <th>drunk_driver_involved</th>\n",
       "      <td>0.36</td>\n",
       "    </tr>\n",
       "    <tr>\n",
       "      <th>speeding_driver_involved</th>\n",
       "      <td>0.25</td>\n",
       "    </tr>\n",
       "    <tr>\n",
       "      <th rowspan=\"3\" valign=\"top\">Other Light Trucks</th>\n",
       "      <th>other</th>\n",
       "      <td>0.58</td>\n",
       "    </tr>\n",
       "    <tr>\n",
       "      <th>drunk_driver_involved</th>\n",
       "      <td>0.25</td>\n",
       "    </tr>\n",
       "    <tr>\n",
       "      <th>speeding_driver_involved</th>\n",
       "      <td>0.17</td>\n",
       "    </tr>\n",
       "    <tr>\n",
       "      <th rowspan=\"3\" valign=\"top\">Other Vehicles</th>\n",
       "      <th>other</th>\n",
       "      <td>0.44</td>\n",
       "    </tr>\n",
       "    <tr>\n",
       "      <th>drunk_driver_involved</th>\n",
       "      <td>0.38</td>\n",
       "    </tr>\n",
       "    <tr>\n",
       "      <th>speeding_driver_involved</th>\n",
       "      <td>0.19</td>\n",
       "    </tr>\n",
       "    <tr>\n",
       "      <th rowspan=\"3\" valign=\"top\">Utility Vehicles</th>\n",
       "      <th>other</th>\n",
       "      <td>0.62</td>\n",
       "    </tr>\n",
       "    <tr>\n",
       "      <th>drunk_driver_involved</th>\n",
       "      <td>0.23</td>\n",
       "    </tr>\n",
       "    <tr>\n",
       "      <th>speeding_driver_involved</th>\n",
       "      <td>0.15</td>\n",
       "    </tr>\n",
       "    <tr>\n",
       "      <th rowspan=\"3\" valign=\"top\">Van-Based Light Trucks</th>\n",
       "      <th>other</th>\n",
       "      <td>0.74</td>\n",
       "    </tr>\n",
       "    <tr>\n",
       "      <th>drunk_driver_involved</th>\n",
       "      <td>0.15</td>\n",
       "    </tr>\n",
       "    <tr>\n",
       "      <th>speeding_driver_involved</th>\n",
       "      <td>0.11</td>\n",
       "    </tr>\n",
       "  </tbody>\n",
       "</table>\n",
       "</div>"
      ],
      "text/plain": [
       "                                                                             driver_factor\n",
       "a_body                                             driver_factor                          \n",
       "Automobiles                                        other                              0.56\n",
       "                                                   drunk_driver_involved              0.27\n",
       "                                                   speeding_driver_involved           0.18\n",
       "Buses                                              other                              0.93\n",
       "                                                   speeding_driver_involved           0.06\n",
       "                                                   drunk_driver_involved              0.01\n",
       "Light Conventional Trucks                          other                              0.56\n",
       "                                                   drunk_driver_involved              0.30\n",
       "                                                   speeding_driver_involved           0.14\n",
       "Medium/Heavy Trucks                                other                              0.83\n",
       "                                                   speeding_driver_involved           0.10\n",
       "                                                   drunk_driver_involved              0.07\n",
       "Motorcycles, Mopeds, All-Terrain Vehicles; All-... other                              0.39\n",
       "                                                   drunk_driver_involved              0.36\n",
       "                                                   speeding_driver_involved           0.25\n",
       "Other Light Trucks                                 other                              0.58\n",
       "                                                   drunk_driver_involved              0.25\n",
       "                                                   speeding_driver_involved           0.17\n",
       "Other Vehicles                                     other                              0.44\n",
       "                                                   drunk_driver_involved              0.38\n",
       "                                                   speeding_driver_involved           0.19\n",
       "Utility Vehicles                                   other                              0.62\n",
       "                                                   drunk_driver_involved              0.23\n",
       "                                                   speeding_driver_involved           0.15\n",
       "Van-Based Light Trucks                             other                              0.74\n",
       "                                                   drunk_driver_involved              0.15\n",
       "                                                   speeding_driver_involved           0.11"
      ]
     },
     "execution_count": 75,
     "metadata": {},
     "output_type": "execute_result"
    }
   ],
   "source": [
    "np.round(pd.DataFrame(train_df.groupby(\"a_body\")['driver_factor'].value_counts(normalize=True)),2)"
   ]
  },
  {
   "cell_type": "markdown",
   "metadata": {},
   "source": [
    "### `owner` - type of registered owner\n",
    "\n",
    "Keep this because e.g. government vehicles are rarely associated with drinking and/or speeding"
   ]
  },
  {
   "cell_type": "code",
   "execution_count": 161,
   "metadata": {},
   "outputs": [
    {
     "data": {
      "image/png": "[encoded data removed]",
      "text/plain": [
       "<Figure size 864x216 with 1 Axes>"
      ]
     },
     "metadata": {
      "needs_background": "light"
     },
     "output_type": "display_data"
    }
   ],
   "source": [
    "plt.figure(figsize=(12,3))\n",
    "sns.countplot(x=train_df['owner'], hue=train_df['driver_factor'])\n",
    "plt.xticks(rotation=60);"
   ]
  },
  {
   "cell_type": "code",
   "execution_count": 80,
   "metadata": {},
   "outputs": [
    {
     "data": {
      "text/html": [
       "<div>\n",
       "<style scoped>\n",
       "    .dataframe tbody tr th:only-of-type {\n",
       "        vertical-align: middle;\n",
       "    }\n",
       "\n",
       "    .dataframe tbody tr th {\n",
       "        vertical-align: top;\n",
       "    }\n",
       "\n",
       "    .dataframe thead th {\n",
       "        text-align: right;\n",
       "    }\n",
       "</style>\n",
       "<table border=\"1\" class=\"dataframe\">\n",
       "  <thead>\n",
       "    <tr style=\"text-align: right;\">\n",
       "      <th></th>\n",
       "      <th></th>\n",
       "      <th>driver_factor</th>\n",
       "    </tr>\n",
       "    <tr>\n",
       "      <th>owner</th>\n",
       "      <th>driver_factor</th>\n",
       "      <th></th>\n",
       "    </tr>\n",
       "  </thead>\n",
       "  <tbody>\n",
       "    <tr>\n",
       "      <th rowspan=\"3\" valign=\"top\">Driver (in this crash) Not Registered Owner (other private owner listed)</th>\n",
       "      <th>other</th>\n",
       "      <td>0.518850</td>\n",
       "    </tr>\n",
       "    <tr>\n",
       "      <th>drunk_driver_involved</th>\n",
       "      <td>0.281177</td>\n",
       "    </tr>\n",
       "    <tr>\n",
       "      <th>speeding_driver_involved</th>\n",
       "      <td>0.199973</td>\n",
       "    </tr>\n",
       "    <tr>\n",
       "      <th rowspan=\"3\" valign=\"top\">Driver (in this crash) Was Registered Owner</th>\n",
       "      <th>other</th>\n",
       "      <td>0.585124</td>\n",
       "    </tr>\n",
       "    <tr>\n",
       "      <th>drunk_driver_involved</th>\n",
       "      <td>0.268467</td>\n",
       "    </tr>\n",
       "    <tr>\n",
       "      <th>speeding_driver_involved</th>\n",
       "      <td>0.146408</td>\n",
       "    </tr>\n",
       "    <tr>\n",
       "      <th rowspan=\"3\" valign=\"top\">Not Applicable, Vehicle Not Registered</th>\n",
       "      <th>other</th>\n",
       "      <td>0.415755</td>\n",
       "    </tr>\n",
       "    <tr>\n",
       "      <th>drunk_driver_involved</th>\n",
       "      <td>0.353756</td>\n",
       "    </tr>\n",
       "    <tr>\n",
       "      <th>speeding_driver_involved</th>\n",
       "      <td>0.230489</td>\n",
       "    </tr>\n",
       "    <tr>\n",
       "      <th rowspan=\"3\" valign=\"top\">Vehicle Registered as Business/Company/Government Vehicle</th>\n",
       "      <th>other</th>\n",
       "      <td>0.784151</td>\n",
       "    </tr>\n",
       "    <tr>\n",
       "      <th>speeding_driver_involved</th>\n",
       "      <td>0.125995</td>\n",
       "    </tr>\n",
       "    <tr>\n",
       "      <th>drunk_driver_involved</th>\n",
       "      <td>0.089854</td>\n",
       "    </tr>\n",
       "    <tr>\n",
       "      <th rowspan=\"3\" valign=\"top\">Vehicle Registered as Rental Vehicle</th>\n",
       "      <th>other</th>\n",
       "      <td>0.654723</td>\n",
       "    </tr>\n",
       "    <tr>\n",
       "      <th>speeding_driver_involved</th>\n",
       "      <td>0.185668</td>\n",
       "    </tr>\n",
       "    <tr>\n",
       "      <th>drunk_driver_involved</th>\n",
       "      <td>0.159609</td>\n",
       "    </tr>\n",
       "    <tr>\n",
       "      <th rowspan=\"3\" valign=\"top\">Vehicle Was Stolen (reported by police)</th>\n",
       "      <th>speeding_driver_involved</th>\n",
       "      <td>0.503401</td>\n",
       "    </tr>\n",
       "    <tr>\n",
       "      <th>other</th>\n",
       "      <td>0.251701</td>\n",
       "    </tr>\n",
       "    <tr>\n",
       "      <th>drunk_driver_involved</th>\n",
       "      <td>0.244898</td>\n",
       "    </tr>\n",
       "  </tbody>\n",
       "</table>\n",
       "</div>"
      ],
      "text/plain": [
       "                                                                             driver_factor\n",
       "owner                                              driver_factor                          \n",
       "Driver (in this crash) Not Registered Owner (ot... other                          0.518850\n",
       "                                                   drunk_driver_involved          0.281177\n",
       "                                                   speeding_driver_involved       0.199973\n",
       "Driver (in this crash) Was Registered Owner        other                          0.585124\n",
       "                                                   drunk_driver_involved          0.268467\n",
       "                                                   speeding_driver_involved       0.146408\n",
       "Not Applicable, Vehicle Not Registered             other                          0.415755\n",
       "                                                   drunk_driver_involved          0.353756\n",
       "                                                   speeding_driver_involved       0.230489\n",
       "Vehicle Registered as Business/Company/Governme... other                          0.784151\n",
       "                                                   speeding_driver_involved       0.125995\n",
       "                                                   drunk_driver_involved          0.089854\n",
       "Vehicle Registered as Rental Vehicle               other                          0.654723\n",
       "                                                   speeding_driver_involved       0.185668\n",
       "                                                   drunk_driver_involved          0.159609\n",
       "Vehicle Was Stolen (reported by police)            speeding_driver_involved       0.503401\n",
       "                                                   other                          0.251701\n",
       "                                                   drunk_driver_involved          0.244898"
      ]
     },
     "execution_count": 80,
     "metadata": {},
     "output_type": "execute_result"
    }
   ],
   "source": [
    "pd.DataFrame(train_df.groupby('owner')['driver_factor'].value_counts(normalize=True))"
   ]
  },
  {
   "cell_type": "markdown",
   "metadata": {},
   "source": [
    "### `deaths` - number of fatalities in vehicle\n",
    "\n",
    "I think it makes sense to keep this but change it to a binary No/Yes or 0/1 for whether there were *any* deaths involved in the vehicle, because that seems to represent the biggest change to the target distribution"
   ]
  },
  {
   "cell_type": "code",
   "execution_count": 92,
   "metadata": {},
   "outputs": [
    {
     "data": {
      "text/html": [
       "<div>\n",
       "<style scoped>\n",
       "    .dataframe tbody tr th:only-of-type {\n",
       "        vertical-align: middle;\n",
       "    }\n",
       "\n",
       "    .dataframe tbody tr th {\n",
       "        vertical-align: top;\n",
       "    }\n",
       "\n",
       "    .dataframe thead th {\n",
       "        text-align: right;\n",
       "    }\n",
       "</style>\n",
       "<table border=\"1\" class=\"dataframe\">\n",
       "  <thead>\n",
       "    <tr style=\"text-align: right;\">\n",
       "      <th></th>\n",
       "      <th></th>\n",
       "      <th>driver_factor</th>\n",
       "    </tr>\n",
       "    <tr>\n",
       "      <th>deaths</th>\n",
       "      <th>driver_factor</th>\n",
       "      <th></th>\n",
       "    </tr>\n",
       "  </thead>\n",
       "  <tbody>\n",
       "    <tr>\n",
       "      <th rowspan=\"3\" valign=\"top\">0</th>\n",
       "      <th>other</th>\n",
       "      <td>0.893266</td>\n",
       "    </tr>\n",
       "    <tr>\n",
       "      <th>speeding_driver_involved</th>\n",
       "      <td>0.054206</td>\n",
       "    </tr>\n",
       "    <tr>\n",
       "      <th>drunk_driver_involved</th>\n",
       "      <td>0.052528</td>\n",
       "    </tr>\n",
       "    <tr>\n",
       "      <th rowspan=\"3\" valign=\"top\">1</th>\n",
       "      <th>other</th>\n",
       "      <td>0.435380</td>\n",
       "    </tr>\n",
       "    <tr>\n",
       "      <th>drunk_driver_involved</th>\n",
       "      <td>0.350590</td>\n",
       "    </tr>\n",
       "    <tr>\n",
       "      <th>speeding_driver_involved</th>\n",
       "      <td>0.214030</td>\n",
       "    </tr>\n",
       "    <tr>\n",
       "      <th rowspan=\"3\" valign=\"top\">2</th>\n",
       "      <th>drunk_driver_involved</th>\n",
       "      <td>0.398168</td>\n",
       "    </tr>\n",
       "    <tr>\n",
       "      <th>other</th>\n",
       "      <td>0.374912</td>\n",
       "    </tr>\n",
       "    <tr>\n",
       "      <th>speeding_driver_involved</th>\n",
       "      <td>0.226920</td>\n",
       "    </tr>\n",
       "    <tr>\n",
       "      <th rowspan=\"3\" valign=\"top\">3</th>\n",
       "      <th>drunk_driver_involved</th>\n",
       "      <td>0.375000</td>\n",
       "    </tr>\n",
       "    <tr>\n",
       "      <th>other</th>\n",
       "      <td>0.348958</td>\n",
       "    </tr>\n",
       "    <tr>\n",
       "      <th>speeding_driver_involved</th>\n",
       "      <td>0.276042</td>\n",
       "    </tr>\n",
       "    <tr>\n",
       "      <th rowspan=\"3\" valign=\"top\">4</th>\n",
       "      <th>drunk_driver_involved</th>\n",
       "      <td>0.371429</td>\n",
       "    </tr>\n",
       "    <tr>\n",
       "      <th>other</th>\n",
       "      <td>0.371429</td>\n",
       "    </tr>\n",
       "    <tr>\n",
       "      <th>speeding_driver_involved</th>\n",
       "      <td>0.257143</td>\n",
       "    </tr>\n",
       "    <tr>\n",
       "      <th rowspan=\"3\" valign=\"top\">5</th>\n",
       "      <th>other</th>\n",
       "      <td>0.444444</td>\n",
       "    </tr>\n",
       "    <tr>\n",
       "      <th>drunk_driver_involved</th>\n",
       "      <td>0.333333</td>\n",
       "    </tr>\n",
       "    <tr>\n",
       "      <th>speeding_driver_involved</th>\n",
       "      <td>0.222222</td>\n",
       "    </tr>\n",
       "    <tr>\n",
       "      <th>6</th>\n",
       "      <th>speeding_driver_involved</th>\n",
       "      <td>1.000000</td>\n",
       "    </tr>\n",
       "    <tr>\n",
       "      <th>9</th>\n",
       "      <th>speeding_driver_involved</th>\n",
       "      <td>1.000000</td>\n",
       "    </tr>\n",
       "    <tr>\n",
       "      <th>18</th>\n",
       "      <th>speeding_driver_involved</th>\n",
       "      <td>1.000000</td>\n",
       "    </tr>\n",
       "  </tbody>\n",
       "</table>\n",
       "</div>"
      ],
      "text/plain": [
       "                                 driver_factor\n",
       "deaths driver_factor                          \n",
       "0      other                          0.893266\n",
       "       speeding_driver_involved       0.054206\n",
       "       drunk_driver_involved          0.052528\n",
       "1      other                          0.435380\n",
       "       drunk_driver_involved          0.350590\n",
       "       speeding_driver_involved       0.214030\n",
       "2      drunk_driver_involved          0.398168\n",
       "       other                          0.374912\n",
       "       speeding_driver_involved       0.226920\n",
       "3      drunk_driver_involved          0.375000\n",
       "       other                          0.348958\n",
       "       speeding_driver_involved       0.276042\n",
       "4      drunk_driver_involved          0.371429\n",
       "       other                          0.371429\n",
       "       speeding_driver_involved       0.257143\n",
       "5      other                          0.444444\n",
       "       drunk_driver_involved          0.333333\n",
       "       speeding_driver_involved       0.222222\n",
       "6      speeding_driver_involved       1.000000\n",
       "9      speeding_driver_involved       1.000000\n",
       "18     speeding_driver_involved       1.000000"
      ]
     },
     "execution_count": 92,
     "metadata": {},
     "output_type": "execute_result"
    }
   ],
   "source": [
    "pd.DataFrame(train_df.groupby(\"deaths\")['driver_factor'].value_counts(normalize=True))"
   ]
  },
  {
   "cell_type": "markdown",
   "metadata": {},
   "source": [
    "### `numoccs` - number of motor vehicle occupants"
   ]
  },
  {
   "cell_type": "code",
   "execution_count": 211,
   "metadata": {},
   "outputs": [
    {
     "data": {
      "image/png": "[encoded data removed]",
      "text/plain": [
       "<Figure size 432x288 with 1 Axes>"
      ]
     },
     "metadata": {
      "needs_background": "light"
     },
     "output_type": "display_data"
    }
   ],
   "source": [
    "sns.histplot(x=train_df['numoccs'],bins=50);"
   ]
  },
  {
   "cell_type": "markdown",
   "metadata": {},
   "source": [
    "### `impact1` - areas of impact, initial contact point\n",
    "\n",
    "I think it's ok to drop this"
   ]
  },
  {
   "cell_type": "code",
   "execution_count": 106,
   "metadata": {},
   "outputs": [
    {
     "data": {
      "text/html": [
       "<div>\n",
       "<style scoped>\n",
       "    .dataframe tbody tr th:only-of-type {\n",
       "        vertical-align: middle;\n",
       "    }\n",
       "\n",
       "    .dataframe tbody tr th {\n",
       "        vertical-align: top;\n",
       "    }\n",
       "\n",
       "    .dataframe thead th {\n",
       "        text-align: right;\n",
       "    }\n",
       "</style>\n",
       "<table border=\"1\" class=\"dataframe\">\n",
       "  <thead>\n",
       "    <tr style=\"text-align: right;\">\n",
       "      <th></th>\n",
       "      <th></th>\n",
       "      <th>driver_factor</th>\n",
       "    </tr>\n",
       "    <tr>\n",
       "      <th>impact1</th>\n",
       "      <th>driver_factor</th>\n",
       "      <th></th>\n",
       "    </tr>\n",
       "  </thead>\n",
       "  <tbody>\n",
       "    <tr>\n",
       "      <th rowspan=\"2\" valign=\"top\">Cargo/Vehicle parts set-in-motion</th>\n",
       "      <th>other</th>\n",
       "      <td>0.666667</td>\n",
       "    </tr>\n",
       "    <tr>\n",
       "      <th>drunk_driver_involved</th>\n",
       "      <td>0.333333</td>\n",
       "    </tr>\n",
       "    <tr>\n",
       "      <th rowspan=\"3\" valign=\"top\">Clockpoint 1</th>\n",
       "      <th>other</th>\n",
       "      <td>0.607629</td>\n",
       "    </tr>\n",
       "    <tr>\n",
       "      <th>drunk_driver_involved</th>\n",
       "      <td>0.238874</td>\n",
       "    </tr>\n",
       "    <tr>\n",
       "      <th>speeding_driver_involved</th>\n",
       "      <td>0.153497</td>\n",
       "    </tr>\n",
       "    <tr>\n",
       "      <th>...</th>\n",
       "      <th>...</th>\n",
       "      <td>...</td>\n",
       "    </tr>\n",
       "    <tr>\n",
       "      <th rowspan=\"2\" valign=\"top\">Top</th>\n",
       "      <th>drunk_driver_involved</th>\n",
       "      <td>0.250000</td>\n",
       "    </tr>\n",
       "    <tr>\n",
       "      <th>speeding_driver_involved</th>\n",
       "      <td>0.145833</td>\n",
       "    </tr>\n",
       "    <tr>\n",
       "      <th rowspan=\"3\" valign=\"top\">Undercarriage</th>\n",
       "      <th>other</th>\n",
       "      <td>0.536618</td>\n",
       "    </tr>\n",
       "    <tr>\n",
       "      <th>drunk_driver_involved</th>\n",
       "      <td>0.270306</td>\n",
       "    </tr>\n",
       "    <tr>\n",
       "      <th>speeding_driver_involved</th>\n",
       "      <td>0.193076</td>\n",
       "    </tr>\n",
       "  </tbody>\n",
       "</table>\n",
       "<p>69 rows × 1 columns</p>\n",
       "</div>"
      ],
      "text/plain": [
       "                                                            driver_factor\n",
       "impact1                           driver_factor                          \n",
       "Cargo/Vehicle parts set-in-motion other                          0.666667\n",
       "                                  drunk_driver_involved          0.333333\n",
       "Clockpoint 1                      other                          0.607629\n",
       "                                  drunk_driver_involved          0.238874\n",
       "                                  speeding_driver_involved       0.153497\n",
       "...                                                                   ...\n",
       "Top                               drunk_driver_involved          0.250000\n",
       "                                  speeding_driver_involved       0.145833\n",
       "Undercarriage                     other                          0.536618\n",
       "                                  drunk_driver_involved          0.270306\n",
       "                                  speeding_driver_involved       0.193076\n",
       "\n",
       "[69 rows x 1 columns]"
      ]
     },
     "execution_count": 106,
     "metadata": {},
     "output_type": "execute_result"
    }
   ],
   "source": [
    "pd.DataFrame(train_df.groupby(\"impact1\")['driver_factor'].value_counts(normalize=True))"
   ]
  },
  {
   "cell_type": "code",
   "execution_count": 107,
   "metadata": {},
   "outputs": [
    {
     "data": {
      "image/png": "[encoded data removed]",
      "text/plain": [
       "<Figure size 864x216 with 1 Axes>"
      ]
     },
     "metadata": {
      "needs_background": "light"
     },
     "output_type": "display_data"
    }
   ],
   "source": [
    "plt.figure(figsize=(12,3))\n",
    "sns.countplot(x=train_df['impact1'], hue=train_df['driver_factor'])\n",
    "plt.xticks(rotation=60);"
   ]
  },
  {
   "cell_type": "markdown",
   "metadata": {},
   "source": [
    "### `deformed` - extent of damage ot the vehicle\n",
    "\n",
    "Keep this"
   ]
  },
  {
   "cell_type": "code",
   "execution_count": 108,
   "metadata": {},
   "outputs": [
    {
     "data": {
      "image/png": "[encoded data removed]",
      "text/plain": [
       "<Figure size 864x216 with 1 Axes>"
      ]
     },
     "metadata": {
      "needs_background": "light"
     },
     "output_type": "display_data"
    }
   ],
   "source": [
    "plt.figure(figsize=(12,3))\n",
    "sns.countplot(x=train_df['deformed'], hue=train_df['driver_factor'])\n",
    "plt.xticks(rotation=60);"
   ]
  },
  {
   "cell_type": "markdown",
   "metadata": {},
   "source": [
    "### `ve_forms` - number of vehicle forms submitted for mv in transport\n",
    "\n",
    "Drop this -- only one category"
   ]
  },
  {
   "cell_type": "code",
   "execution_count": 109,
   "metadata": {},
   "outputs": [
    {
     "data": {
      "text/plain": [
       "1    45286\n",
       "Name: ve_forms, dtype: int64"
      ]
     },
     "execution_count": 109,
     "metadata": {},
     "output_type": "execute_result"
    }
   ],
   "source": [
    "train_df['ve_forms'].value_counts()"
   ]
  },
  {
   "cell_type": "markdown",
   "metadata": {},
   "source": [
    "### `ve_total` - number of vehicle forms submitted\n",
    "\n",
    "Drop this -- very imbalanced"
   ]
  },
  {
   "cell_type": "code",
   "execution_count": 112,
   "metadata": {},
   "outputs": [
    {
     "data": {
      "image/png": "[encoded data removed]",
      "text/plain": [
       "<Figure size 864x216 with 1 Axes>"
      ]
     },
     "metadata": {
      "needs_background": "light"
     },
     "output_type": "display_data"
    }
   ],
   "source": [
    "plt.figure(figsize=(12,3))\n",
    "sns.countplot(x=train_df['ve_total'], hue=train_df['driver_factor'])\n",
    "plt.xticks(rotation=60);"
   ]
  },
  {
   "cell_type": "code",
   "execution_count": 115,
   "metadata": {},
   "outputs": [
    {
     "data": {
      "text/html": [
       "<div>\n",
       "<style scoped>\n",
       "    .dataframe tbody tr th:only-of-type {\n",
       "        vertical-align: middle;\n",
       "    }\n",
       "\n",
       "    .dataframe tbody tr th {\n",
       "        vertical-align: top;\n",
       "    }\n",
       "\n",
       "    .dataframe thead th {\n",
       "        text-align: right;\n",
       "    }\n",
       "</style>\n",
       "<table border=\"1\" class=\"dataframe\">\n",
       "  <thead>\n",
       "    <tr style=\"text-align: right;\">\n",
       "      <th></th>\n",
       "      <th></th>\n",
       "      <th>driver_factor</th>\n",
       "    </tr>\n",
       "    <tr>\n",
       "      <th>ve_total</th>\n",
       "      <th>driver_factor</th>\n",
       "      <th></th>\n",
       "    </tr>\n",
       "  </thead>\n",
       "  <tbody>\n",
       "    <tr>\n",
       "      <th rowspan=\"3\" valign=\"top\">1</th>\n",
       "      <th>other</th>\n",
       "      <td>0.574246</td>\n",
       "    </tr>\n",
       "    <tr>\n",
       "      <th>drunk_driver_involved</th>\n",
       "      <td>0.260813</td>\n",
       "    </tr>\n",
       "    <tr>\n",
       "      <th>speeding_driver_involved</th>\n",
       "      <td>0.164941</td>\n",
       "    </tr>\n",
       "    <tr>\n",
       "      <th rowspan=\"3\" valign=\"top\">2</th>\n",
       "      <th>other</th>\n",
       "      <td>0.526482</td>\n",
       "    </tr>\n",
       "    <tr>\n",
       "      <th>drunk_driver_involved</th>\n",
       "      <td>0.287747</td>\n",
       "    </tr>\n",
       "    <tr>\n",
       "      <th>speeding_driver_involved</th>\n",
       "      <td>0.185771</td>\n",
       "    </tr>\n",
       "    <tr>\n",
       "      <th rowspan=\"3\" valign=\"top\">3</th>\n",
       "      <th>other</th>\n",
       "      <td>0.463830</td>\n",
       "    </tr>\n",
       "    <tr>\n",
       "      <th>drunk_driver_involved</th>\n",
       "      <td>0.280851</td>\n",
       "    </tr>\n",
       "    <tr>\n",
       "      <th>speeding_driver_involved</th>\n",
       "      <td>0.255319</td>\n",
       "    </tr>\n",
       "    <tr>\n",
       "      <th rowspan=\"3\" valign=\"top\">4</th>\n",
       "      <th>drunk_driver_involved</th>\n",
       "      <td>0.400000</td>\n",
       "    </tr>\n",
       "    <tr>\n",
       "      <th>other</th>\n",
       "      <td>0.353846</td>\n",
       "    </tr>\n",
       "    <tr>\n",
       "      <th>speeding_driver_involved</th>\n",
       "      <td>0.246154</td>\n",
       "    </tr>\n",
       "    <tr>\n",
       "      <th rowspan=\"3\" valign=\"top\">5</th>\n",
       "      <th>speeding_driver_involved</th>\n",
       "      <td>0.437500</td>\n",
       "    </tr>\n",
       "    <tr>\n",
       "      <th>other</th>\n",
       "      <td>0.375000</td>\n",
       "    </tr>\n",
       "    <tr>\n",
       "      <th>drunk_driver_involved</th>\n",
       "      <td>0.187500</td>\n",
       "    </tr>\n",
       "    <tr>\n",
       "      <th rowspan=\"3\" valign=\"top\">6</th>\n",
       "      <th>drunk_driver_involved</th>\n",
       "      <td>0.470588</td>\n",
       "    </tr>\n",
       "    <tr>\n",
       "      <th>other</th>\n",
       "      <td>0.352941</td>\n",
       "    </tr>\n",
       "    <tr>\n",
       "      <th>speeding_driver_involved</th>\n",
       "      <td>0.176471</td>\n",
       "    </tr>\n",
       "    <tr>\n",
       "      <th rowspan=\"3\" valign=\"top\">7</th>\n",
       "      <th>drunk_driver_involved</th>\n",
       "      <td>0.333333</td>\n",
       "    </tr>\n",
       "    <tr>\n",
       "      <th>other</th>\n",
       "      <td>0.333333</td>\n",
       "    </tr>\n",
       "    <tr>\n",
       "      <th>speeding_driver_involved</th>\n",
       "      <td>0.333333</td>\n",
       "    </tr>\n",
       "    <tr>\n",
       "      <th rowspan=\"2\" valign=\"top\">8</th>\n",
       "      <th>speeding_driver_involved</th>\n",
       "      <td>0.600000</td>\n",
       "    </tr>\n",
       "    <tr>\n",
       "      <th>drunk_driver_involved</th>\n",
       "      <td>0.400000</td>\n",
       "    </tr>\n",
       "    <tr>\n",
       "      <th rowspan=\"2\" valign=\"top\">9</th>\n",
       "      <th>speeding_driver_involved</th>\n",
       "      <td>0.666667</td>\n",
       "    </tr>\n",
       "    <tr>\n",
       "      <th>drunk_driver_involved</th>\n",
       "      <td>0.333333</td>\n",
       "    </tr>\n",
       "    <tr>\n",
       "      <th>10</th>\n",
       "      <th>drunk_driver_involved</th>\n",
       "      <td>1.000000</td>\n",
       "    </tr>\n",
       "    <tr>\n",
       "      <th rowspan=\"2\" valign=\"top\">11</th>\n",
       "      <th>other</th>\n",
       "      <td>0.500000</td>\n",
       "    </tr>\n",
       "    <tr>\n",
       "      <th>speeding_driver_involved</th>\n",
       "      <td>0.500000</td>\n",
       "    </tr>\n",
       "    <tr>\n",
       "      <th>12</th>\n",
       "      <th>drunk_driver_involved</th>\n",
       "      <td>1.000000</td>\n",
       "    </tr>\n",
       "    <tr>\n",
       "      <th>21</th>\n",
       "      <th>other</th>\n",
       "      <td>1.000000</td>\n",
       "    </tr>\n",
       "  </tbody>\n",
       "</table>\n",
       "</div>"
      ],
      "text/plain": [
       "                                   driver_factor\n",
       "ve_total driver_factor                          \n",
       "1        other                          0.574246\n",
       "         drunk_driver_involved          0.260813\n",
       "         speeding_driver_involved       0.164941\n",
       "2        other                          0.526482\n",
       "         drunk_driver_involved          0.287747\n",
       "         speeding_driver_involved       0.185771\n",
       "3        other                          0.463830\n",
       "         drunk_driver_involved          0.280851\n",
       "         speeding_driver_involved       0.255319\n",
       "4        drunk_driver_involved          0.400000\n",
       "         other                          0.353846\n",
       "         speeding_driver_involved       0.246154\n",
       "5        speeding_driver_involved       0.437500\n",
       "         other                          0.375000\n",
       "         drunk_driver_involved          0.187500\n",
       "6        drunk_driver_involved          0.470588\n",
       "         other                          0.352941\n",
       "         speeding_driver_involved       0.176471\n",
       "7        drunk_driver_involved          0.333333\n",
       "         other                          0.333333\n",
       "         speeding_driver_involved       0.333333\n",
       "8        speeding_driver_involved       0.600000\n",
       "         drunk_driver_involved          0.400000\n",
       "9        speeding_driver_involved       0.666667\n",
       "         drunk_driver_involved          0.333333\n",
       "10       drunk_driver_involved          1.000000\n",
       "11       other                          0.500000\n",
       "         speeding_driver_involved       0.500000\n",
       "12       drunk_driver_involved          1.000000\n",
       "21       other                          1.000000"
      ]
     },
     "execution_count": 115,
     "metadata": {},
     "output_type": "execute_result"
    }
   ],
   "source": [
    "pd.DataFrame(train_df.groupby('ve_total')[\"driver_factor\"].value_counts(normalize=True))"
   ]
  },
  {
   "cell_type": "markdown",
   "metadata": {},
   "source": [
    "### `weather` - atmospheric conditions at time of crash"
   ]
  },
  {
   "cell_type": "code",
   "execution_count": 116,
   "metadata": {},
   "outputs": [
    {
     "data": {
      "image/png": "[encoded data removed]",
      "text/plain": [
       "<Figure size 864x216 with 1 Axes>"
      ]
     },
     "metadata": {
      "needs_background": "light"
     },
     "output_type": "display_data"
    }
   ],
   "source": [
    "plt.figure(figsize=(12,3))\n",
    "sns.countplot(x=train_df['weather'], hue=train_df['driver_factor'])\n",
    "plt.xticks(rotation=60);"
   ]
  },
  {
   "cell_type": "code",
   "execution_count": 183,
   "metadata": {},
   "outputs": [
    {
     "data": {
      "text/html": [
       "<div>\n",
       "<style scoped>\n",
       "    .dataframe tbody tr th:only-of-type {\n",
       "        vertical-align: middle;\n",
       "    }\n",
       "\n",
       "    .dataframe tbody tr th {\n",
       "        vertical-align: top;\n",
       "    }\n",
       "\n",
       "    .dataframe thead th {\n",
       "        text-align: right;\n",
       "    }\n",
       "</style>\n",
       "<table border=\"1\" class=\"dataframe\">\n",
       "  <thead>\n",
       "    <tr style=\"text-align: right;\">\n",
       "      <th></th>\n",
       "      <th></th>\n",
       "      <th>driver_factor</th>\n",
       "    </tr>\n",
       "    <tr>\n",
       "      <th>weather</th>\n",
       "      <th>driver_factor</th>\n",
       "      <th></th>\n",
       "    </tr>\n",
       "  </thead>\n",
       "  <tbody>\n",
       "    <tr>\n",
       "      <th rowspan=\"3\" valign=\"top\">Blowing sand, soil, dirt</th>\n",
       "      <th>other</th>\n",
       "      <td>0.363636</td>\n",
       "    </tr>\n",
       "    <tr>\n",
       "      <th>speeding_driver_involved</th>\n",
       "      <td>0.363636</td>\n",
       "    </tr>\n",
       "    <tr>\n",
       "      <th>drunk_driver_involved</th>\n",
       "      <td>0.272727</td>\n",
       "    </tr>\n",
       "    <tr>\n",
       "      <th rowspan=\"3\" valign=\"top\">Blowing snow</th>\n",
       "      <th>speeding_driver_involved</th>\n",
       "      <td>0.620690</td>\n",
       "    </tr>\n",
       "    <tr>\n",
       "      <th>drunk_driver_involved</th>\n",
       "      <td>0.206897</td>\n",
       "    </tr>\n",
       "    <tr>\n",
       "      <th>other</th>\n",
       "      <td>0.172414</td>\n",
       "    </tr>\n",
       "    <tr>\n",
       "      <th rowspan=\"3\" valign=\"top\">Clear</th>\n",
       "      <th>other</th>\n",
       "      <td>0.581646</td>\n",
       "    </tr>\n",
       "    <tr>\n",
       "      <th>drunk_driver_involved</th>\n",
       "      <td>0.265508</td>\n",
       "    </tr>\n",
       "    <tr>\n",
       "      <th>speeding_driver_involved</th>\n",
       "      <td>0.152846</td>\n",
       "    </tr>\n",
       "    <tr>\n",
       "      <th rowspan=\"3\" valign=\"top\">Cloudy</th>\n",
       "      <th>other</th>\n",
       "      <td>0.577165</td>\n",
       "    </tr>\n",
       "    <tr>\n",
       "      <th>drunk_driver_involved</th>\n",
       "      <td>0.264724</td>\n",
       "    </tr>\n",
       "    <tr>\n",
       "      <th>speeding_driver_involved</th>\n",
       "      <td>0.158110</td>\n",
       "    </tr>\n",
       "    <tr>\n",
       "      <th rowspan=\"3\" valign=\"top\">Fog, smog, smoke</th>\n",
       "      <th>other</th>\n",
       "      <td>0.518095</td>\n",
       "    </tr>\n",
       "    <tr>\n",
       "      <th>drunk_driver_involved</th>\n",
       "      <td>0.295238</td>\n",
       "    </tr>\n",
       "    <tr>\n",
       "      <th>speeding_driver_involved</th>\n",
       "      <td>0.186667</td>\n",
       "    </tr>\n",
       "    <tr>\n",
       "      <th rowspan=\"3\" valign=\"top\">Freezing rain or drizzle</th>\n",
       "      <th>other</th>\n",
       "      <td>0.538462</td>\n",
       "    </tr>\n",
       "    <tr>\n",
       "      <th>speeding_driver_involved</th>\n",
       "      <td>0.384615</td>\n",
       "    </tr>\n",
       "    <tr>\n",
       "      <th>drunk_driver_involved</th>\n",
       "      <td>0.076923</td>\n",
       "    </tr>\n",
       "    <tr>\n",
       "      <th rowspan=\"3\" valign=\"top\">Other</th>\n",
       "      <th>other</th>\n",
       "      <td>0.483871</td>\n",
       "    </tr>\n",
       "    <tr>\n",
       "      <th>drunk_driver_involved</th>\n",
       "      <td>0.322581</td>\n",
       "    </tr>\n",
       "    <tr>\n",
       "      <th>speeding_driver_involved</th>\n",
       "      <td>0.193548</td>\n",
       "    </tr>\n",
       "    <tr>\n",
       "      <th rowspan=\"3\" valign=\"top\">Rain</th>\n",
       "      <th>other</th>\n",
       "      <td>0.545427</td>\n",
       "    </tr>\n",
       "    <tr>\n",
       "      <th>speeding_driver_involved</th>\n",
       "      <td>0.238756</td>\n",
       "    </tr>\n",
       "    <tr>\n",
       "      <th>drunk_driver_involved</th>\n",
       "      <td>0.215816</td>\n",
       "    </tr>\n",
       "    <tr>\n",
       "      <th rowspan=\"3\" valign=\"top\">Reported as unknown</th>\n",
       "      <th>other</th>\n",
       "      <td>0.469231</td>\n",
       "    </tr>\n",
       "    <tr>\n",
       "      <th>drunk_driver_involved</th>\n",
       "      <td>0.403846</td>\n",
       "    </tr>\n",
       "    <tr>\n",
       "      <th>speeding_driver_involved</th>\n",
       "      <td>0.126923</td>\n",
       "    </tr>\n",
       "    <tr>\n",
       "      <th rowspan=\"3\" valign=\"top\">Severe crosswinds</th>\n",
       "      <th>other</th>\n",
       "      <td>0.714286</td>\n",
       "    </tr>\n",
       "    <tr>\n",
       "      <th>speeding_driver_involved</th>\n",
       "      <td>0.193878</td>\n",
       "    </tr>\n",
       "    <tr>\n",
       "      <th>drunk_driver_involved</th>\n",
       "      <td>0.091837</td>\n",
       "    </tr>\n",
       "    <tr>\n",
       "      <th rowspan=\"3\" valign=\"top\">Sleet or hail</th>\n",
       "      <th>speeding_driver_involved</th>\n",
       "      <td>0.479452</td>\n",
       "    </tr>\n",
       "    <tr>\n",
       "      <th>other</th>\n",
       "      <td>0.410959</td>\n",
       "    </tr>\n",
       "    <tr>\n",
       "      <th>drunk_driver_involved</th>\n",
       "      <td>0.109589</td>\n",
       "    </tr>\n",
       "    <tr>\n",
       "      <th rowspan=\"3\" valign=\"top\">Snow</th>\n",
       "      <th>speeding_driver_involved</th>\n",
       "      <td>0.442623</td>\n",
       "    </tr>\n",
       "    <tr>\n",
       "      <th>other</th>\n",
       "      <td>0.333333</td>\n",
       "    </tr>\n",
       "    <tr>\n",
       "      <th>drunk_driver_involved</th>\n",
       "      <td>0.224044</td>\n",
       "    </tr>\n",
       "  </tbody>\n",
       "</table>\n",
       "</div>"
      ],
      "text/plain": [
       "                                                   driver_factor\n",
       "weather                  driver_factor                          \n",
       "Blowing sand, soil, dirt other                          0.363636\n",
       "                         speeding_driver_involved       0.363636\n",
       "                         drunk_driver_involved          0.272727\n",
       "Blowing snow             speeding_driver_involved       0.620690\n",
       "                         drunk_driver_involved          0.206897\n",
       "                         other                          0.172414\n",
       "Clear                    other                          0.581646\n",
       "                         drunk_driver_involved          0.265508\n",
       "                         speeding_driver_involved       0.152846\n",
       "Cloudy                   other                          0.577165\n",
       "                         drunk_driver_involved          0.264724\n",
       "                         speeding_driver_involved       0.158110\n",
       "Fog, smog, smoke         other                          0.518095\n",
       "                         drunk_driver_involved          0.295238\n",
       "                         speeding_driver_involved       0.186667\n",
       "Freezing rain or drizzle other                          0.538462\n",
       "                         speeding_driver_involved       0.384615\n",
       "                         drunk_driver_involved          0.076923\n",
       "Other                    other                          0.483871\n",
       "                         drunk_driver_involved          0.322581\n",
       "                         speeding_driver_involved       0.193548\n",
       "Rain                     other                          0.545427\n",
       "                         speeding_driver_involved       0.238756\n",
       "                         drunk_driver_involved          0.215816\n",
       "Reported as unknown      other                          0.469231\n",
       "                         drunk_driver_involved          0.403846\n",
       "                         speeding_driver_involved       0.126923\n",
       "Severe crosswinds        other                          0.714286\n",
       "                         speeding_driver_involved       0.193878\n",
       "                         drunk_driver_involved          0.091837\n",
       "Sleet or hail            speeding_driver_involved       0.479452\n",
       "                         other                          0.410959\n",
       "                         drunk_driver_involved          0.109589\n",
       "Snow                     speeding_driver_involved       0.442623\n",
       "                         other                          0.333333\n",
       "                         drunk_driver_involved          0.224044"
      ]
     },
     "execution_count": 183,
     "metadata": {},
     "output_type": "execute_result"
    }
   ],
   "source": [
    "pd.DataFrame(train_df.groupby('weather')[\"driver_factor\"].value_counts(normalize=True))"
   ]
  },
  {
   "cell_type": "markdown",
   "metadata": {},
   "source": [
    "### `lgt_cond` - light conditions at time of crash\n",
    "\n",
    "Drop this -- we already have time of day as a variable in `a_tod_type`"
   ]
  },
  {
   "cell_type": "code",
   "execution_count": 117,
   "metadata": {},
   "outputs": [
    {
     "data": {
      "image/png": "[encoded data removed]",
      "text/plain": [
       "<Figure size 864x216 with 1 Axes>"
      ]
     },
     "metadata": {
      "needs_background": "light"
     },
     "output_type": "display_data"
    }
   ],
   "source": [
    "plt.figure(figsize=(12,3))\n",
    "sns.countplot(x=train_df['lgt_cond'], hue=train_df['driver_factor'])\n",
    "plt.xticks(rotation=60);"
   ]
  },
  {
   "cell_type": "markdown",
   "metadata": {},
   "source": [
    "# Now let's look at missing values, imputation, etc"
   ]
  },
  {
   "cell_type": "code",
   "execution_count": 184,
   "metadata": {},
   "outputs": [
    {
     "data": {
      "text/plain": [
       "Index(['u_id', 'fatals', 'a_ct', 'a_ped_f', 'a_pedal_f', 'a_roll', 'a_hr',\n",
       "       'a_polpur', 'month', 'day', 'day_week', 'hour', 'minute', 'a_dow_type',\n",
       "       'a_tod_type', 'state', 'a_region', 'a_ru', 'a_inter', 'a_intsec',\n",
       "       'a_roadfc', 'a_junc', 'a_relrd', 'age', 'permvit', 'pernotmvit',\n",
       "       'a_ped', 'mod_year', 'a_body', 'owner', 'deaths', 'numoccs', 'impact1',\n",
       "       'deformed', 've_forms', 've_total', 'weather', 'lgt_cond',\n",
       "       'driver_factor'],\n",
       "      dtype='object')"
      ]
     },
     "execution_count": 184,
     "metadata": {},
     "output_type": "execute_result"
    }
   ],
   "source": [
    "train_df.columns"
   ]
  },
  {
   "cell_type": "code",
   "execution_count": 274,
   "metadata": {},
   "outputs": [],
   "source": [
    "keep_columns = ['u_id', 'fatals', 'a_ped_f', 'a_roll', 'day_week', \n",
    " 'a_dow_type', 'a_tod_type', 'a_region', 'a_ru', 'a_intsec', 'a_roadfc', \n",
    " 'a_junc', 'a_relrd', 'age', 'pernotmvit', 'a_ped', 'a_body', 'owner', \n",
    " 'deaths',  'deformed', 'driver_factor']\n",
    "\n",
    "reduced_df = train_df[keep_columns]"
   ]
  },
  {
   "cell_type": "code",
   "execution_count": 275,
   "metadata": {},
   "outputs": [
    {
     "data": {
      "text/plain": [
       "u_id                0\n",
       "fatals              0\n",
       "a_ped_f             0\n",
       "a_roll              0\n",
       "day_week            0\n",
       "a_dow_type          0\n",
       "a_tod_type        490\n",
       "a_region            0\n",
       "a_ru              200\n",
       "a_intsec           70\n",
       "a_roadfc            0\n",
       "a_junc             70\n",
       "a_relrd             0\n",
       "age                 0\n",
       "pernotmvit          0\n",
       "a_ped               0\n",
       "a_body              0\n",
       "owner             258\n",
       "deaths              0\n",
       "deformed         3305\n",
       "driver_factor       0\n",
       "dtype: int64"
      ]
     },
     "execution_count": 275,
     "metadata": {},
     "output_type": "execute_result"
    }
   ],
   "source": [
    "reduced_df.isna().sum()"
   ]
  },
  {
   "cell_type": "code",
   "execution_count": 276,
   "metadata": {},
   "outputs": [
    {
     "data": {
      "text/plain": [
       "Nighttime    26385\n",
       "Daytime      18411\n",
       "Name: a_tod_type, dtype: int64"
      ]
     },
     "execution_count": 276,
     "metadata": {},
     "output_type": "execute_result"
    }
   ],
   "source": [
    "#take the mode\n",
    "reduced_df['a_tod_type'].value_counts()"
   ]
  },
  {
   "cell_type": "code",
   "execution_count": 277,
   "metadata": {},
   "outputs": [
    {
     "data": {
      "text/plain": [
       "Urban    23751\n",
       "Rural    21335\n",
       "Name: a_ru, dtype: int64"
      ]
     },
     "execution_count": 277,
     "metadata": {},
     "output_type": "execute_result"
    }
   ],
   "source": [
    "#take the mode\n",
    "reduced_df['a_ru'].value_counts()"
   ]
  },
  {
   "cell_type": "code",
   "execution_count": 278,
   "metadata": {},
   "outputs": [
    {
     "data": {
      "text/plain": [
       "Non-Intersection    38839\n",
       "Intersection         6377\n",
       "Name: a_intsec, dtype: int64"
      ]
     },
     "execution_count": 278,
     "metadata": {},
     "output_type": "execute_result"
    }
   ],
   "source": [
    "#take the mode\n",
    "reduced_df['a_intsec'].value_counts()"
   ]
  },
  {
   "cell_type": "code",
   "execution_count": 279,
   "metadata": {},
   "outputs": [
    {
     "data": {
      "text/plain": [
       "Non-Junction    36058\n",
       "Junction         6377\n",
       "Other            2781\n",
       "Name: a_junc, dtype: int64"
      ]
     },
     "execution_count": 279,
     "metadata": {},
     "output_type": "execute_result"
    }
   ],
   "source": [
    "#take the mode\n",
    "reduced_df['a_junc'].value_counts()"
   ]
  },
  {
   "cell_type": "code",
   "execution_count": 280,
   "metadata": {},
   "outputs": [
    {
     "data": {
      "text/plain": [
       "Driver (in this crash) Was Registered Owner                                 25545\n",
       "Driver (in this crash) Not Registered Owner (other private owner listed)    14642\n",
       "Vehicle Registered as Business/Company/Government Vehicle                    3016\n",
       "Not Applicable, Vehicle Not Registered                                       1371\n",
       "Vehicle Registered as Rental Vehicle                                          307\n",
       "Vehicle Was Stolen (reported by police)                                       147\n",
       "Name: owner, dtype: int64"
      ]
     },
     "execution_count": 280,
     "metadata": {},
     "output_type": "execute_result"
    }
   ],
   "source": [
    "#take the mode\n",
    "reduced_df['owner'].value_counts()"
   ]
  },
  {
   "cell_type": "code",
   "execution_count": 281,
   "metadata": {},
   "outputs": [
    {
     "data": {
      "text/plain": [
       "Disabling damage     31559\n",
       "Functional damage     5022\n",
       "Minor damage          4067\n",
       "No damage             1333\n",
       "Name: deformed, dtype: int64"
      ]
     },
     "execution_count": 281,
     "metadata": {},
     "output_type": "execute_result"
    }
   ],
   "source": [
    "#smart imputer\n",
    "reduced_df['deformed'].value_counts()"
   ]
  },
  {
   "cell_type": "code",
   "execution_count": 282,
   "metadata": {},
   "outputs": [
    {
     "name": "stdout",
     "output_type": "stream",
     "text": [
      "<class 'pandas.core.frame.DataFrame'>\n",
      "RangeIndex: 45286 entries, 0 to 45285\n",
      "Data columns (total 21 columns):\n",
      " #   Column         Non-Null Count  Dtype \n",
      "---  ------         --------------  ----- \n",
      " 0   u_id           45286 non-null  int64 \n",
      " 1   fatals         45286 non-null  int64 \n",
      " 2   a_ped_f        45286 non-null  object\n",
      " 3   a_roll         45286 non-null  object\n",
      " 4   day_week       45286 non-null  object\n",
      " 5   a_dow_type     45286 non-null  object\n",
      " 6   a_tod_type     44796 non-null  object\n",
      " 7   a_region       45286 non-null  object\n",
      " 8   a_ru           45086 non-null  object\n",
      " 9   a_intsec       45216 non-null  object\n",
      " 10  a_roadfc       45286 non-null  object\n",
      " 11  a_junc         45216 non-null  object\n",
      " 12  a_relrd        45286 non-null  object\n",
      " 13  age            45286 non-null  int64 \n",
      " 14  pernotmvit     45286 non-null  int64 \n",
      " 15  a_ped          45286 non-null  object\n",
      " 16  a_body         45286 non-null  object\n",
      " 17  owner          45028 non-null  object\n",
      " 18  deaths         45286 non-null  int64 \n",
      " 19  deformed       41981 non-null  object\n",
      " 20  driver_factor  45286 non-null  object\n",
      "dtypes: int64(5), object(16)\n",
      "memory usage: 7.3+ MB\n"
     ]
    }
   ],
   "source": [
    "reduced_df.info()"
   ]
  },
  {
   "cell_type": "code",
   "execution_count": 283,
   "metadata": {},
   "outputs": [
    {
     "name": "stderr",
     "output_type": "stream",
     "text": [
      "<ipython-input-283-5fac9069d138>:3: SettingWithCopyWarning: \n",
      "A value is trying to be set on a copy of a slice from a DataFrame.\n",
      "Try using .loc[row_indexer,col_indexer] = value instead\n",
      "\n",
      "See the caveats in the documentation: https://pandas.pydata.org/pandas-docs/stable/user_guide/indexing.html#returning-a-view-versus-a-copy\n",
      "  reduced_df['binary_deaths'] = binary_deaths\n"
     ]
    }
   ],
   "source": [
    "binary_deaths = [\"Yes\" if reduced_df['deaths'][i] > 0 else \"No\" for i in range(len(reduced_df['deaths']))]\n",
    "\n",
    "reduced_df['binary_deaths'] = binary_deaths"
   ]
  },
  {
   "cell_type": "code",
   "execution_count": null,
   "metadata": {},
   "outputs": [],
   "source": []
  }
 ],
 "metadata": {
  "kernelspec": {
   "display_name": "Python 3",
   "language": "python",
   "name": "python3"
  },
  "language_info": {
   "codemirror_mode": {
    "name": "ipython",
    "version": 3
   },
   "file_extension": ".py",
   "mimetype": "text/x-python",
   "name": "python",
   "nbconvert_exporter": "python",
   "pygments_lexer": "ipython3",
   "version": "3.8.5"
  }
 },
 "nbformat": 4,
 "nbformat_minor": 4
}
