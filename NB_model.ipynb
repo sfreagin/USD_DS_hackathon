{
 "cells": [
  {
   "cell_type": "code",
   "execution_count": null,
   "metadata": {},
   "outputs": [],
   "source": []
  },
  {
   "cell_type": "code",
   "execution_count": 1,
   "metadata": {},
   "outputs": [],
   "source": [
    "import pandas as pd\n",
    "import numpy as np\n",
    "pd.set_option('display.max_columns', None)\n",
    "\n",
    "import matplotlib.pyplot as plt\n",
    "import seaborn as sns\n",
    "\n",
    "from sklearn.model_selection import train_test_split"
   ]
  },
  {
   "cell_type": "code",
   "execution_count": 2,
   "metadata": {},
   "outputs": [],
   "source": [
    "train_df = pd.read_csv('data/fars_train.csv')\n",
    "test_df = pd.read_csv('data/fars_test.csv')"
   ]
  },
  {
   "cell_type": "code",
   "execution_count": 3,
   "metadata": {},
   "outputs": [],
   "source": [
    "keep_columns = ['u_id', 'fatals', 'a_ped_f', 'a_roll', 'day_week', \n",
    " 'a_dow_type', 'a_tod_type', 'a_region', 'a_ru', 'a_intsec', 'a_roadfc', \n",
    " 'a_junc', 'a_relrd', 'age', 'pernotmvit', 'a_ped', 'a_body', 'owner', \n",
    " 'deaths',  'deformed', 'driver_factor']\n",
    "\n",
    "reduced_df = train_df[keep_columns]"
   ]
  },
  {
   "cell_type": "code",
   "execution_count": 4,
   "metadata": {},
   "outputs": [],
   "source": [
    "X = reduced_df.drop(columns=['u_id','driver_factor'])\n",
    "y = reduced_df['driver_factor']\n",
    "\n",
    "X_train, X_test, y_train, y_test = train_test_split(X, y, test_size=0.2)"
   ]
  },
  {
   "cell_type": "code",
   "execution_count": 5,
   "metadata": {},
   "outputs": [
    {
     "data": {
      "text/plain": [
       "fatals           0\n",
       "a_ped_f          0\n",
       "a_roll           0\n",
       "day_week         0\n",
       "a_dow_type       0\n",
       "a_tod_type     392\n",
       "a_region         0\n",
       "a_ru           159\n",
       "a_intsec        51\n",
       "a_roadfc         0\n",
       "a_junc          51\n",
       "a_relrd          0\n",
       "age              0\n",
       "pernotmvit       0\n",
       "a_ped            0\n",
       "a_body           0\n",
       "owner          198\n",
       "deaths           0\n",
       "deformed      2649\n",
       "dtype: int64"
      ]
     },
     "execution_count": 5,
     "metadata": {},
     "output_type": "execute_result"
    }
   ],
   "source": [
    "X_train.isna().sum()"
   ]
  },
  {
   "cell_type": "code",
   "execution_count": 6,
   "metadata": {},
   "outputs": [],
   "source": [
    "#take the mode\n",
    "X_train['a_tod_type'].fillna(X_train['a_tod_type'].value_counts().index.tolist()[0], inplace=True)\n",
    "X_test['a_tod_type'].fillna(X_test['a_tod_type'].value_counts().index.tolist()[0], inplace=True)\n",
    "\n",
    "#take the mode\n",
    "X_train['a_ru'].fillna(X_train['a_ru'].value_counts().index.tolist()[0], inplace=True)\n",
    "X_test['a_ru'].fillna(X_test['a_ru'].value_counts().index.tolist()[0], inplace=True)\n",
    "\n",
    "#take the mode\n",
    "X_train['a_intsec'].fillna(X_train['a_intsec'].value_counts().index.tolist()[0], inplace=True)\n",
    "X_test['a_intsec'].fillna(X_test['a_intsec'].value_counts().index.tolist()[0], inplace=True)\n",
    "\n",
    "#take the mode\n",
    "X_train['a_junc'].fillna(X_train['a_junc'].value_counts().index.tolist()[0], inplace=True)\n",
    "X_test['a_junc'].fillna(X_test['a_junc'].value_counts().index.tolist()[0], inplace=True)\n",
    "\n",
    "#take the mode\n",
    "X_train['owner'].fillna(X_train['owner'].value_counts().index.tolist()[0], inplace=True)\n",
    "X_test['owner'].fillna(X_test['owner'].value_counts().index.tolist()[0], inplace=True)\n",
    "\n",
    "#use a smart imputer\n",
    "X_train['deformed'].fillna(X_train['deformed'].value_counts().index.tolist()[0], inplace=True)\n",
    "X_test['deformed'].fillna(X_test['deformed'].value_counts().index.tolist()[0], inplace=True)"
   ]
  },
  {
   "cell_type": "code",
   "execution_count": 7,
   "metadata": {},
   "outputs": [
    {
     "data": {
      "text/plain": [
       "fatals        0\n",
       "a_ped_f       0\n",
       "a_roll        0\n",
       "day_week      0\n",
       "a_dow_type    0\n",
       "a_tod_type    0\n",
       "a_region      0\n",
       "a_ru          0\n",
       "a_intsec      0\n",
       "a_roadfc      0\n",
       "a_junc        0\n",
       "a_relrd       0\n",
       "age           0\n",
       "pernotmvit    0\n",
       "a_ped         0\n",
       "a_body        0\n",
       "owner         0\n",
       "deaths        0\n",
       "deformed      0\n",
       "dtype: int64"
      ]
     },
     "execution_count": 7,
     "metadata": {},
     "output_type": "execute_result"
    }
   ],
   "source": [
    "X_train.isna().sum()"
   ]
  },
  {
   "cell_type": "code",
   "execution_count": 8,
   "metadata": {},
   "outputs": [],
   "source": [
    "X_train['deaths'] = np.where(X_train['deaths'] > 0, \"Yes\", \"No\") \n",
    "X_test['deaths'] = np.where(X_test['deaths'] > 0, \"Yes\", \"No\") \n",
    "\n",
    "X_train['fatals'] = np.where(X_train['fatals'] > 0, \"Yes\", \"No\") \n",
    "X_test['fatals'] = np.where(X_test['fatals'] > 0, \"Yes\", \"No\") "
   ]
  },
  {
   "cell_type": "code",
   "execution_count": 9,
   "metadata": {},
   "outputs": [],
   "source": [
    "X_train = pd.get_dummies(X_train, drop_first=True)\n",
    "X_test = pd.get_dummies(X_test, drop_first=True)"
   ]
  },
  {
   "cell_type": "code",
   "execution_count": 10,
   "metadata": {},
   "outputs": [],
   "source": [
    "from sklearn.naive_bayes import CategoricalNB\n",
    "from sklearn.ensemble import RandomForestClassifier, AdaBoostClassifier\n",
    "from sklearn.linear_model import LogisticRegression"
   ]
  },
  {
   "cell_type": "code",
   "execution_count": 11,
   "metadata": {},
   "outputs": [
    {
     "data": {
      "text/plain": [
       "CategoricalNB()"
      ]
     },
     "execution_count": 11,
     "metadata": {},
     "output_type": "execute_result"
    }
   ],
   "source": [
    "model = CategoricalNB()\n",
    "\n",
    "model.fit(X_train, y_train)"
   ]
  },
  {
   "cell_type": "code",
   "execution_count": 12,
   "metadata": {},
   "outputs": [],
   "source": [
    "train_preds = model.predict(X_train)\n",
    "test_preds = model.predict(X_test)"
   ]
  },
  {
   "cell_type": "code",
   "execution_count": 14,
   "metadata": {},
   "outputs": [
    {
     "data": {
      "text/plain": [
       "array([[8.63174420e-01, 2.57236541e-02, 1.11101926e-01],\n",
       "       [1.40772087e-06, 9.99989472e-01, 9.12032582e-06],\n",
       "       [1.86419763e-04, 9.97798300e-01, 2.01528059e-03],\n",
       "       ...,\n",
       "       [3.66581977e-01, 3.70404317e-01, 2.63013707e-01],\n",
       "       [6.68250193e-01, 1.44854332e-02, 3.17264374e-01],\n",
       "       [2.14559431e-01, 1.26461059e-01, 6.58979511e-01]])"
      ]
     },
     "execution_count": 14,
     "metadata": {},
     "output_type": "execute_result"
    }
   ],
   "source": [
    "model.predict_proba(X_train)"
   ]
  },
  {
   "cell_type": "code",
   "execution_count": 13,
   "metadata": {},
   "outputs": [],
   "source": [
    "from sklearn.metrics import accuracy_score, classification_report"
   ]
  },
  {
   "cell_type": "code",
   "execution_count": 90,
   "metadata": {},
   "outputs": [
    {
     "data": {
      "text/plain": [
       "0.5694413777875911"
      ]
     },
     "execution_count": 90,
     "metadata": {},
     "output_type": "execute_result"
    }
   ],
   "source": [
    "accuracy_score(y_true = y_test, y_pred=test_preds)"
   ]
  },
  {
   "cell_type": "code",
   "execution_count": 91,
   "metadata": {},
   "outputs": [
    {
     "name": "stdout",
     "output_type": "stream",
     "text": [
      "                          precision    recall  f1-score   support\n",
      "\n",
      "   drunk_driver_involved       0.47      0.79      0.59      2337\n",
      "                   other       0.85      0.55      0.67      5188\n",
      "speeding_driver_involved       0.27      0.31      0.29      1533\n",
      "\n",
      "                accuracy                           0.57      9058\n",
      "               macro avg       0.53      0.55      0.51      9058\n",
      "            weighted avg       0.65      0.57      0.58      9058\n",
      "\n"
     ]
    }
   ],
   "source": [
    "print(classification_report(y_true = y_test, y_pred=test_preds))"
   ]
  },
  {
   "cell_type": "code",
   "execution_count": null,
   "metadata": {},
   "outputs": [],
   "source": []
  }
 ],
 "metadata": {
  "kernelspec": {
   "display_name": "Python 3",
   "language": "python",
   "name": "python3"
  },
  "language_info": {
   "codemirror_mode": {
    "name": "ipython",
    "version": 3
   },
   "file_extension": ".py",
   "mimetype": "text/x-python",
   "name": "python",
   "nbconvert_exporter": "python",
   "pygments_lexer": "ipython3",
   "version": "3.8.5"
  }
 },
 "nbformat": 4,
 "nbformat_minor": 4
}
