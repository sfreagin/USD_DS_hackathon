{
 "cells": [
  {
   "cell_type": "code",
   "execution_count": 4,
   "metadata": {},
   "outputs": [],
   "source": [
    "import pandas as pd\n",
    "import numpy as np\n",
    "pd.set_option('display.max_columns', None)\n",
    "\n",
    "import matplotlib.pyplot as plt\n",
    "import seaborn as sns"
   ]
  },
  {
   "cell_type": "code",
   "execution_count": 2,
   "metadata": {},
   "outputs": [],
   "source": [
    "train_df = pd.read_csv('data/fars_train.csv')\n",
    "test_df = pd.read_csv('data/fars_test.csv')"
   ]
  },
  {
   "cell_type": "code",
   "execution_count": 3,
   "metadata": {},
   "outputs": [
    {
     "name": "stdout",
     "output_type": "stream",
     "text": [
      "<class 'pandas.core.frame.DataFrame'>\n",
      "RangeIndex: 45286 entries, 0 to 45285\n",
      "Data columns (total 39 columns):\n",
      " #   Column         Non-Null Count  Dtype  \n",
      "---  ------         --------------  -----  \n",
      " 0   u_id           45286 non-null  int64  \n",
      " 1   fatals         45286 non-null  int64  \n",
      " 2   a_ct           45286 non-null  object \n",
      " 3   a_ped_f        45286 non-null  object \n",
      " 4   a_pedal_f      45286 non-null  object \n",
      " 5   a_roll         45286 non-null  object \n",
      " 6   a_hr           45286 non-null  object \n",
      " 7   a_polpur       45286 non-null  object \n",
      " 8   month          45286 non-null  int64  \n",
      " 9   day            45286 non-null  int64  \n",
      " 10  day_week       45286 non-null  object \n",
      " 11  hour           44796 non-null  float64\n",
      " 12  minute         44795 non-null  float64\n",
      " 13  a_dow_type     45286 non-null  object \n",
      " 14  a_tod_type     44796 non-null  object \n",
      " 15  state          45286 non-null  object \n",
      " 16  a_region       45286 non-null  object \n",
      " 17  a_ru           45086 non-null  object \n",
      " 18  a_inter        45042 non-null  object \n",
      " 19  a_intsec       45216 non-null  object \n",
      " 20  a_roadfc       45286 non-null  object \n",
      " 21  a_junc         45216 non-null  object \n",
      " 22  a_relrd        45286 non-null  object \n",
      " 23  age            45286 non-null  int64  \n",
      " 24  permvit        45286 non-null  int64  \n",
      " 25  pernotmvit     45286 non-null  int64  \n",
      " 26  a_ped          45286 non-null  object \n",
      " 27  mod_year       45009 non-null  float64\n",
      " 28  a_body         45286 non-null  object \n",
      " 29  owner          45028 non-null  object \n",
      " 30  deaths         45286 non-null  int64  \n",
      " 31  numoccs        44855 non-null  float64\n",
      " 32  impact1        42060 non-null  object \n",
      " 33  deformed       41981 non-null  object \n",
      " 34  ve_forms       45286 non-null  int64  \n",
      " 35  ve_total       45286 non-null  int64  \n",
      " 36  weather        42419 non-null  object \n",
      " 37  lgt_cond       45253 non-null  object \n",
      " 38  driver_factor  45286 non-null  object \n",
      "dtypes: float64(4), int64(10), object(25)\n",
      "memory usage: 13.5+ MB\n"
     ]
    }
   ],
   "source": [
    "train_df.info()"
   ]
  },
  {
   "cell_type": "code",
   "execution_count": 5,
   "metadata": {},
   "outputs": [
    {
     "data": {
      "text/html": [
       "<div>\n",
       "<style scoped>\n",
       "    .dataframe tbody tr th:only-of-type {\n",
       "        vertical-align: middle;\n",
       "    }\n",
       "\n",
       "    .dataframe tbody tr th {\n",
       "        vertical-align: top;\n",
       "    }\n",
       "\n",
       "    .dataframe thead th {\n",
       "        text-align: right;\n",
       "    }\n",
       "</style>\n",
       "<table border=\"1\" class=\"dataframe\">\n",
       "  <thead>\n",
       "    <tr style=\"text-align: right;\">\n",
       "      <th></th>\n",
       "      <th>u_id</th>\n",
       "      <th>fatals</th>\n",
       "      <th>a_ct</th>\n",
       "      <th>a_ped_f</th>\n",
       "      <th>a_pedal_f</th>\n",
       "      <th>a_roll</th>\n",
       "      <th>a_hr</th>\n",
       "      <th>a_polpur</th>\n",
       "      <th>month</th>\n",
       "      <th>day</th>\n",
       "      <th>day_week</th>\n",
       "      <th>hour</th>\n",
       "      <th>minute</th>\n",
       "      <th>a_dow_type</th>\n",
       "      <th>a_tod_type</th>\n",
       "      <th>state</th>\n",
       "      <th>a_region</th>\n",
       "      <th>a_ru</th>\n",
       "      <th>a_inter</th>\n",
       "      <th>a_intsec</th>\n",
       "      <th>a_roadfc</th>\n",
       "      <th>a_junc</th>\n",
       "      <th>a_relrd</th>\n",
       "      <th>age</th>\n",
       "      <th>permvit</th>\n",
       "      <th>pernotmvit</th>\n",
       "      <th>a_ped</th>\n",
       "      <th>mod_year</th>\n",
       "      <th>a_body</th>\n",
       "      <th>owner</th>\n",
       "      <th>deaths</th>\n",
       "      <th>numoccs</th>\n",
       "      <th>impact1</th>\n",
       "      <th>deformed</th>\n",
       "      <th>ve_forms</th>\n",
       "      <th>ve_total</th>\n",
       "      <th>weather</th>\n",
       "      <th>lgt_cond</th>\n",
       "      <th>driver_factor</th>\n",
       "    </tr>\n",
       "  </thead>\n",
       "  <tbody>\n",
       "    <tr>\n",
       "      <th>0</th>\n",
       "      <td>32083</td>\n",
       "      <td>1</td>\n",
       "      <td>Single-Vehicle Crash</td>\n",
       "      <td>Other Crash</td>\n",
       "      <td>Other Crash</td>\n",
       "      <td>Other Crash</td>\n",
       "      <td>No - Hit and Run</td>\n",
       "      <td>Other Crash</td>\n",
       "      <td>10</td>\n",
       "      <td>2</td>\n",
       "      <td>tue</td>\n",
       "      <td>3.0</td>\n",
       "      <td>10.0</td>\n",
       "      <td>Weekday</td>\n",
       "      <td>Nighttime</td>\n",
       "      <td>Georgia</td>\n",
       "      <td>Alabama, Florida, Georgia, South Carolina, Ten...</td>\n",
       "      <td>Rural</td>\n",
       "      <td>Non-Interstate</td>\n",
       "      <td>Non-Intersection</td>\n",
       "      <td>Minor Collector</td>\n",
       "      <td>Non-Junction</td>\n",
       "      <td>Off Roadway/Other</td>\n",
       "      <td>62</td>\n",
       "      <td>1</td>\n",
       "      <td>0</td>\n",
       "      <td>no</td>\n",
       "      <td>2003.0</td>\n",
       "      <td>Light Conventional Trucks</td>\n",
       "      <td>Driver (in this crash) Was Registered Owner</td>\n",
       "      <td>1</td>\n",
       "      <td>1.0</td>\n",
       "      <td>Clockpoint 12</td>\n",
       "      <td>Disabling damage</td>\n",
       "      <td>1</td>\n",
       "      <td>1</td>\n",
       "      <td>Clear</td>\n",
       "      <td>Dark - not lighted</td>\n",
       "      <td>other</td>\n",
       "    </tr>\n",
       "    <tr>\n",
       "      <th>1</th>\n",
       "      <td>55073</td>\n",
       "      <td>1</td>\n",
       "      <td>Single-Vehicle Crash</td>\n",
       "      <td>Other Crash</td>\n",
       "      <td>Other Crash</td>\n",
       "      <td>Other Crash</td>\n",
       "      <td>No - Hit and Run</td>\n",
       "      <td>Other Crash</td>\n",
       "      <td>6</td>\n",
       "      <td>21</td>\n",
       "      <td>wed</td>\n",
       "      <td>8.0</td>\n",
       "      <td>45.0</td>\n",
       "      <td>Weekday</td>\n",
       "      <td>Daytime</td>\n",
       "      <td>Arkansas</td>\n",
       "      <td>Arkansas, Iowa, Kansas, Missouri, Nebraska</td>\n",
       "      <td>Rural</td>\n",
       "      <td>Non-Interstate</td>\n",
       "      <td>Non-Intersection</td>\n",
       "      <td>Minor Arterial</td>\n",
       "      <td>Non-Junction</td>\n",
       "      <td>Off Roadway/Other</td>\n",
       "      <td>40</td>\n",
       "      <td>1</td>\n",
       "      <td>0</td>\n",
       "      <td>no</td>\n",
       "      <td>2002.0</td>\n",
       "      <td>Utility Vehicles</td>\n",
       "      <td>Driver (in this crash) Not Registered Owner (o...</td>\n",
       "      <td>1</td>\n",
       "      <td>1.0</td>\n",
       "      <td>Clockpoint 1</td>\n",
       "      <td>Disabling damage</td>\n",
       "      <td>1</td>\n",
       "      <td>1</td>\n",
       "      <td>Clear</td>\n",
       "      <td>Daylight</td>\n",
       "      <td>speeding_driver_involved</td>\n",
       "    </tr>\n",
       "    <tr>\n",
       "      <th>2</th>\n",
       "      <td>7458</td>\n",
       "      <td>1</td>\n",
       "      <td>Single-Vehicle Crash</td>\n",
       "      <td>Other Crash</td>\n",
       "      <td>Other Crash</td>\n",
       "      <td>Other Crash</td>\n",
       "      <td>No - Hit and Run</td>\n",
       "      <td>Other Crash</td>\n",
       "      <td>7</td>\n",
       "      <td>14</td>\n",
       "      <td>thu</td>\n",
       "      <td>21.0</td>\n",
       "      <td>45.0</td>\n",
       "      <td>Weekday</td>\n",
       "      <td>Nighttime</td>\n",
       "      <td>Washington</td>\n",
       "      <td>Alaska, Idaho, Montana, Oregon, Washington</td>\n",
       "      <td>Rural</td>\n",
       "      <td>Non-Interstate</td>\n",
       "      <td>Non-Intersection</td>\n",
       "      <td>Major Collector</td>\n",
       "      <td>Non-Junction</td>\n",
       "      <td>On Roadway</td>\n",
       "      <td>26</td>\n",
       "      <td>1</td>\n",
       "      <td>1</td>\n",
       "      <td>no</td>\n",
       "      <td>2003.0</td>\n",
       "      <td>Light Conventional Trucks</td>\n",
       "      <td>Driver (in this crash) Was Registered Owner</td>\n",
       "      <td>0</td>\n",
       "      <td>1.0</td>\n",
       "      <td>Clockpoint 12</td>\n",
       "      <td>NaN</td>\n",
       "      <td>1</td>\n",
       "      <td>1</td>\n",
       "      <td>Clear</td>\n",
       "      <td>Daylight</td>\n",
       "      <td>other</td>\n",
       "    </tr>\n",
       "    <tr>\n",
       "      <th>3</th>\n",
       "      <td>5685</td>\n",
       "      <td>1</td>\n",
       "      <td>Single-Vehicle Crash</td>\n",
       "      <td>Other Crash</td>\n",
       "      <td>Other Crash</td>\n",
       "      <td>Other Crash</td>\n",
       "      <td>No - Hit and Run</td>\n",
       "      <td>Other Crash</td>\n",
       "      <td>9</td>\n",
       "      <td>15</td>\n",
       "      <td>fri</td>\n",
       "      <td>20.0</td>\n",
       "      <td>46.0</td>\n",
       "      <td>Weekday</td>\n",
       "      <td>Nighttime</td>\n",
       "      <td>Kentucky</td>\n",
       "      <td>Delaware, District of Columbia, Kentucky, Mary...</td>\n",
       "      <td>Urban</td>\n",
       "      <td>Non-Interstate</td>\n",
       "      <td>Intersection</td>\n",
       "      <td>Principal Arterial – Other</td>\n",
       "      <td>Junction</td>\n",
       "      <td>On Roadway</td>\n",
       "      <td>64</td>\n",
       "      <td>1</td>\n",
       "      <td>1</td>\n",
       "      <td>no</td>\n",
       "      <td>1999.0</td>\n",
       "      <td>Automobiles</td>\n",
       "      <td>Driver (in this crash) Not Registered Owner (o...</td>\n",
       "      <td>0</td>\n",
       "      <td>1.0</td>\n",
       "      <td>Clockpoint 12</td>\n",
       "      <td>Functional damage</td>\n",
       "      <td>1</td>\n",
       "      <td>1</td>\n",
       "      <td>Clear</td>\n",
       "      <td>Dark - not lighted</td>\n",
       "      <td>other</td>\n",
       "    </tr>\n",
       "    <tr>\n",
       "      <th>4</th>\n",
       "      <td>9245</td>\n",
       "      <td>1</td>\n",
       "      <td>Single-Vehicle Crash</td>\n",
       "      <td>Other Crash</td>\n",
       "      <td>Other Crash</td>\n",
       "      <td>Other Crash</td>\n",
       "      <td>No - Hit and Run</td>\n",
       "      <td>Other Crash</td>\n",
       "      <td>9</td>\n",
       "      <td>28</td>\n",
       "      <td>fri</td>\n",
       "      <td>20.0</td>\n",
       "      <td>24.0</td>\n",
       "      <td>Weekday</td>\n",
       "      <td>Nighttime</td>\n",
       "      <td>Wisconsin</td>\n",
       "      <td>Illinois, Indiana, Michigan, Minnesota, Ohio, ...</td>\n",
       "      <td>Rural</td>\n",
       "      <td>Non-Interstate</td>\n",
       "      <td>Non-Intersection</td>\n",
       "      <td>Major Collector</td>\n",
       "      <td>Non-Junction</td>\n",
       "      <td>Off Roadway/Other</td>\n",
       "      <td>45</td>\n",
       "      <td>1</td>\n",
       "      <td>0</td>\n",
       "      <td>no</td>\n",
       "      <td>1996.0</td>\n",
       "      <td>Automobiles</td>\n",
       "      <td>Driver (in this crash) Was Registered Owner</td>\n",
       "      <td>1</td>\n",
       "      <td>1.0</td>\n",
       "      <td>Clockpoint 9</td>\n",
       "      <td>Disabling damage</td>\n",
       "      <td>1</td>\n",
       "      <td>1</td>\n",
       "      <td>Clear</td>\n",
       "      <td>Dark - not lighted</td>\n",
       "      <td>drunk_driver_involved</td>\n",
       "    </tr>\n",
       "  </tbody>\n",
       "</table>\n",
       "</div>"
      ],
      "text/plain": [
       "    u_id  fatals                  a_ct      a_ped_f    a_pedal_f       a_roll  \\\n",
       "0  32083       1  Single-Vehicle Crash  Other Crash  Other Crash  Other Crash   \n",
       "1  55073       1  Single-Vehicle Crash  Other Crash  Other Crash  Other Crash   \n",
       "2   7458       1  Single-Vehicle Crash  Other Crash  Other Crash  Other Crash   \n",
       "3   5685       1  Single-Vehicle Crash  Other Crash  Other Crash  Other Crash   \n",
       "4   9245       1  Single-Vehicle Crash  Other Crash  Other Crash  Other Crash   \n",
       "\n",
       "               a_hr     a_polpur  month  day day_week  hour  minute  \\\n",
       "0  No - Hit and Run  Other Crash     10    2      tue   3.0    10.0   \n",
       "1  No - Hit and Run  Other Crash      6   21      wed   8.0    45.0   \n",
       "2  No - Hit and Run  Other Crash      7   14      thu  21.0    45.0   \n",
       "3  No - Hit and Run  Other Crash      9   15      fri  20.0    46.0   \n",
       "4  No - Hit and Run  Other Crash      9   28      fri  20.0    24.0   \n",
       "\n",
       "  a_dow_type a_tod_type       state  \\\n",
       "0    Weekday  Nighttime     Georgia   \n",
       "1    Weekday    Daytime    Arkansas   \n",
       "2    Weekday  Nighttime  Washington   \n",
       "3    Weekday  Nighttime    Kentucky   \n",
       "4    Weekday  Nighttime   Wisconsin   \n",
       "\n",
       "                                            a_region   a_ru         a_inter  \\\n",
       "0  Alabama, Florida, Georgia, South Carolina, Ten...  Rural  Non-Interstate   \n",
       "1         Arkansas, Iowa, Kansas, Missouri, Nebraska  Rural  Non-Interstate   \n",
       "2         Alaska, Idaho, Montana, Oregon, Washington  Rural  Non-Interstate   \n",
       "3  Delaware, District of Columbia, Kentucky, Mary...  Urban  Non-Interstate   \n",
       "4  Illinois, Indiana, Michigan, Minnesota, Ohio, ...  Rural  Non-Interstate   \n",
       "\n",
       "           a_intsec                    a_roadfc        a_junc  \\\n",
       "0  Non-Intersection             Minor Collector  Non-Junction   \n",
       "1  Non-Intersection              Minor Arterial  Non-Junction   \n",
       "2  Non-Intersection             Major Collector  Non-Junction   \n",
       "3      Intersection  Principal Arterial – Other      Junction   \n",
       "4  Non-Intersection             Major Collector  Non-Junction   \n",
       "\n",
       "             a_relrd  age  permvit  pernotmvit a_ped  mod_year  \\\n",
       "0  Off Roadway/Other   62        1           0    no    2003.0   \n",
       "1  Off Roadway/Other   40        1           0    no    2002.0   \n",
       "2         On Roadway   26        1           1    no    2003.0   \n",
       "3         On Roadway   64        1           1    no    1999.0   \n",
       "4  Off Roadway/Other   45        1           0    no    1996.0   \n",
       "\n",
       "                      a_body  \\\n",
       "0  Light Conventional Trucks   \n",
       "1           Utility Vehicles   \n",
       "2  Light Conventional Trucks   \n",
       "3                Automobiles   \n",
       "4                Automobiles   \n",
       "\n",
       "                                               owner  deaths  numoccs  \\\n",
       "0        Driver (in this crash) Was Registered Owner       1      1.0   \n",
       "1  Driver (in this crash) Not Registered Owner (o...       1      1.0   \n",
       "2        Driver (in this crash) Was Registered Owner       0      1.0   \n",
       "3  Driver (in this crash) Not Registered Owner (o...       0      1.0   \n",
       "4        Driver (in this crash) Was Registered Owner       1      1.0   \n",
       "\n",
       "         impact1           deformed  ve_forms  ve_total weather  \\\n",
       "0  Clockpoint 12   Disabling damage         1         1   Clear   \n",
       "1   Clockpoint 1   Disabling damage         1         1   Clear   \n",
       "2  Clockpoint 12                NaN         1         1   Clear   \n",
       "3  Clockpoint 12  Functional damage         1         1   Clear   \n",
       "4   Clockpoint 9   Disabling damage         1         1   Clear   \n",
       "\n",
       "             lgt_cond             driver_factor  \n",
       "0  Dark - not lighted                     other  \n",
       "1            Daylight  speeding_driver_involved  \n",
       "2            Daylight                     other  \n",
       "3  Dark - not lighted                     other  \n",
       "4  Dark - not lighted     drunk_driver_involved  "
      ]
     },
     "execution_count": 5,
     "metadata": {},
     "output_type": "execute_result"
    }
   ],
   "source": [
    "train_df.head()"
   ]
  },
  {
   "cell_type": "code",
   "execution_count": 20,
   "metadata": {},
   "outputs": [
    {
     "data": {
      "text/plain": [
       "<AxesSubplot:xlabel='fatals', ylabel='Count'>"
      ]
     },
     "execution_count": 20,
     "metadata": {},
     "output_type": "execute_result"
    },
    {
     "data": {
      "image/png": "[encoded data removed]",
      "text/plain": [
       "<Figure size 432x288 with 1 Axes>"
      ]
     },
     "metadata": {
      "needs_background": "light"
     },
     "output_type": "display_data"
    }
   ],
   "source": [
    "sns.histplot(train_df['fatals'],bins=20)"
   ]
  },
  {
   "cell_type": "code",
   "execution_count": 16,
   "metadata": {},
   "outputs": [
    {
     "data": {
      "image/png": "[encoded data removed]",
      "text/plain": [
       "<Figure size 432x288 with 1 Axes>"
      ]
     },
     "metadata": {
      "needs_background": "light"
     },
     "output_type": "display_data"
    }
   ],
   "source": [
    "sns.countplot(x=train_df['month']);"
   ]
  },
  {
   "cell_type": "code",
   "execution_count": 15,
   "metadata": {},
   "outputs": [
    {
     "data": {
      "image/png": "[encoded data removed]",
      "text/plain": [
       "<Figure size 432x288 with 1 Axes>"
      ]
     },
     "metadata": {
      "needs_background": "light"
     },
     "output_type": "display_data"
    }
   ],
   "source": [
    "day_order = ['sun','mon','tue','wed','thu','fri','sat']\n",
    "sns.countplot(x=train_df['day_week'], order=day_order);"
   ]
  },
  {
   "cell_type": "code",
   "execution_count": 14,
   "metadata": {},
   "outputs": [
    {
     "data": {
      "image/png": "[encoded data removed]",
      "text/plain": [
       "<Figure size 864x216 with 1 Axes>"
      ]
     },
     "metadata": {
      "needs_background": "light"
     },
     "output_type": "display_data"
    }
   ],
   "source": [
    "plt.figure(figsize=(12,3))\n",
    "sns.countplot(x=train_df['hour']);"
   ]
  },
  {
   "cell_type": "code",
   "execution_count": 21,
   "metadata": {},
   "outputs": [
    {
     "data": {
      "image/png": "[encoded data removed]",
      "text/plain": [
       "<Figure size 432x288 with 1 Axes>"
      ]
     },
     "metadata": {
      "needs_background": "light"
     },
     "output_type": "display_data"
    }
   ],
   "source": [
    "sns.countplot(x=train_df['a_tod_type']);"
   ]
  },
  {
   "cell_type": "code",
   "execution_count": null,
   "metadata": {},
   "outputs": [],
   "source": []
  }
 ],
 "metadata": {
  "kernelspec": {
   "display_name": "Python 3",
   "language": "python",
   "name": "python3"
  },
  "language_info": {
   "codemirror_mode": {
    "name": "ipython",
    "version": 3
   },
   "file_extension": ".py",
   "mimetype": "text/x-python",
   "name": "python",
   "nbconvert_exporter": "python",
   "pygments_lexer": "ipython3",
   "version": "3.8.5"
  }
 },
 "nbformat": 4,
 "nbformat_minor": 4
}
